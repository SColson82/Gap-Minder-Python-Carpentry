{
 "cells": [
  {
   "cell_type": "markdown",
   "id": "3e75b9b8-fbc3-405d-ba0d-e92cb85a2d1a",
   "metadata": {},
   "source": [
    "# **Plotting and Programming in Python**\n",
    "Note: These episode have been taken from The Carpentries episode of the same name. The link containing the covered material with additional examples can be found at [https://swcarpentry.github.io/python-novice-gapminder/](https://swcarpentry.github.io/python-novice-gapminder/)"
   ]
  },
  {
   "cell_type": "markdown",
   "id": "bd5aaae9-25dd-4f24-8c17-86eb9744ccc5",
   "metadata": {},
   "source": [
    "# **Variables and Assignment**\n",
    "\n",
    "## Overview\n",
    "### Questions\n",
    "- How can I store data in programs?\n",
    "\n",
    "<hr>\n",
    "\n",
    "### Objectives\n",
    "- Write programs that assign scalar values to variables and perform calculations with those values.\n",
    "- Correctly trace value changes in programs that use scalar assignment.\n"
   ]
  },
  {
   "cell_type": "markdown",
   "id": "350e7feb-1f5e-462b-8888-b30d1a078205",
   "metadata": {},
   "source": [
    "## Use variables to store values.\n",
    "\n",
    "- **Variables** are names for values.\n",
    "\n",
    "- Variable names\n",
    "  \n",
    "  - can **only** contain letters, digits, and underscore `_` (typically used to separate words in long variable names)\n",
    "  - cannot start with a digit\n",
    "  - are **case sensitive** (age, Age and AGE are three different variables)\n",
    "\n",
    "- The name should also be meaningful so you or another programmer know what it is\n",
    "\n",
    "- Variable names that start with underscores like `__alistairs_real_age` have a special meaning\n",
    "  so we won't do that until we understand the convention.\n",
    "\n",
    "- In Python the `=` symbol assigns the value on the right to the name on the left.\n",
    "\n",
    "- The variable is created when a value is assigned to it.\n",
    "\n",
    "- Here, Python assigns an age to a variable `age`\n",
    "  and a name in quotes to a variable `first_name`."
   ]
  },
  {
   "cell_type": "code",
   "execution_count": 1,
   "id": "0aa59a42",
   "metadata": {},
   "outputs": [],
   "source": [
    "age = 42\n",
    "first_name = 'Ahmed'"
   ]
  },
  {
   "cell_type": "markdown",
   "id": "9f9a013e-dc58-4c58-a854-d3535d3e5277",
   "metadata": {},
   "source": [
    "## Use `print` to display values.\n",
    "\n",
    "- Python has a built-in function called `print` that prints things as text.\n",
    "- Call the function (i.e., tell Python to run it) by using its name.\n",
    "- Provide values to the function (i.e., the things to print) in parentheses.\n",
    "- To add a string to the printout, wrap the string in single or double quotes.\n",
    "- The values passed to the function are called **arguments**"
   ]
  },
  {
   "cell_type": "code",
   "execution_count": 3,
   "id": "6d34c6a5",
   "metadata": {},
   "outputs": [
    {
     "name": "stdout",
     "output_type": "stream",
     "text": [
      "Ahmed is 42 years old\n"
     ]
    }
   ],
   "source": [
    "print(first_name, 'is', age, 'years old')"
   ]
  },
  {
   "cell_type": "markdown",
   "id": "b5bd4019",
   "metadata": {},
   "source": [
    "- `print` automatically puts a single space between items to separate them.\n",
    "- And wraps around to a new line at the end."
   ]
  },
  {
   "cell_type": "markdown",
   "id": "3021a53c-422e-4051-84cb-006cb2a1079a",
   "metadata": {},
   "source": [
    "## Variables must be created before they are used.\n",
    "\n",
    "- If a variable doesn't exist yet, or if the name has been mis-spelled,\n",
    "  Python reports an error. (Unlike some languages, which \"guess\" a default value.)"
   ]
  },
  {
   "cell_type": "code",
   "execution_count": 5,
   "id": "f706d3bc",
   "metadata": {},
   "outputs": [
    {
     "ename": "NameError",
     "evalue": "name 'last_name' is not defined",
     "output_type": "error",
     "traceback": [
      "\u001b[1;31m---------------------------------------------------------------------------\u001b[0m",
      "\u001b[1;31mNameError\u001b[0m                                 Traceback (most recent call last)",
      "Cell \u001b[1;32mIn[5], line 1\u001b[0m\n\u001b[1;32m----> 1\u001b[0m \u001b[38;5;28mprint\u001b[39m(last_name)\n",
      "\u001b[1;31mNameError\u001b[0m: name 'last_name' is not defined"
     ]
    }
   ],
   "source": []
  },
  {
   "cell_type": "markdown",
   "id": "e5e85d08",
   "metadata": {},
   "source": [
    "- The last line of an error message is usually the most informative.\n",
    "- We will look at error messages in detail [later](17-scope.md#reading-error-messages)."
   ]
  },
  {
   "cell_type": "markdown",
   "id": "48480631",
   "metadata": {},
   "source": [
    "## Variables Persist Between Cells\n",
    "\n",
    "Be aware that it is the *order* of execution of cells that is important in a Jupyter notebook, not the order\n",
    "in which they appear. Python will remember *all* the code that was run previously, including any variables you have\n",
    "defined, irrespective of the order in the notebook. Therefore if you define variables lower down the notebook and then\n",
    "(re)run cells further up, those defined further down will still be present. As an example, create two cells with the\n",
    "following content, in this order:"
   ]
  },
  {
   "cell_type": "code",
   "execution_count": 9,
   "id": "53b5d2cf",
   "metadata": {},
   "outputs": [
    {
     "ename": "NameError",
     "evalue": "name 'my_val' is not defined",
     "output_type": "error",
     "traceback": [
      "\u001b[1;31m---------------------------------------------------------------------------\u001b[0m",
      "\u001b[1;31mNameError\u001b[0m                                 Traceback (most recent call last)",
      "Cell \u001b[1;32mIn[9], line 1\u001b[0m\n\u001b[1;32m----> 1\u001b[0m \u001b[38;5;28mprint\u001b[39m(my_val)\n",
      "\u001b[1;31mNameError\u001b[0m: name 'my_val' is not defined"
     ]
    }
   ],
   "source": []
  },
  {
   "cell_type": "markdown",
   "id": "538a901c",
   "metadata": {},
   "source": [
    "If you execute this in order, the first cell will give an error. However, if you run the first cell *after* the second cell it will print out `1`. To prevent confusion, it can be helpful to use the `Kernel` -> `Restart & Run All` option which clears the interpreter and runs everything from a clean slate going top to bottom."
   ]
  },
  {
   "cell_type": "markdown",
   "id": "d7efba32-5f9a-45ed-8d1e-599e6cac659a",
   "metadata": {},
   "source": [
    "## Variables can be used in calculations.\n",
    "\n",
    "- We can use variables in calculations just as if they were values.\n",
    "  - Remember, we assigned the value `42` to `age` a few lines ago."
   ]
  },
  {
   "cell_type": "code",
   "execution_count": 13,
   "id": "dc2a14ab",
   "metadata": {},
   "outputs": [
    {
     "name": "stdout",
     "output_type": "stream",
     "text": [
      "Age in three years: 45\n"
     ]
    }
   ],
   "source": []
  },
  {
   "cell_type": "markdown",
   "id": "8f688d86-cece-4b02-be48-bbb86cd4b6e1",
   "metadata": {},
   "source": [
    "## Use an index to get a single character from a string.\n",
    "\n",
    "- The characters (individual letters, numbers, and so on) in a string are\n",
    "  ordered. For example, the string `'AB'` is not the same as `'BA'`. Because of\n",
    "  this ordering, we can treat the string as a list of characters.\n",
    "- Each position in the string (first, second, etc.) is given a number. This\n",
    "  number is called an **index** or sometimes a subscript.\n",
    "- Indices are numbered from 0.\n",
    "- Use the position's index in square brackets to get the character at that\n",
    "  position."
   ]
  },
  {
   "cell_type": "code",
   "execution_count": 16,
   "id": "a95c067a",
   "metadata": {},
   "outputs": [
    {
     "name": "stdout",
     "output_type": "stream",
     "text": [
      "h\n"
     ]
    }
   ],
   "source": []
  },
  {
   "cell_type": "markdown",
   "id": "f80e6e50-be4b-4b37-a8b2-f17025db1842",
   "metadata": {},
   "source": [
    "## Use a slice to get a substring.\n",
    "\n",
    "- A part of a string is called a **substring**. A substring can be as short as a\n",
    "  single character.\n",
    "- An item in a list is called an element. Whenever we treat a string as if it\n",
    "  were a list, the string's elements are its individual characters.\n",
    "- A slice is a part of a string (or, more generally, a part of any list-like thing).\n",
    "- We take a slice with the notation `[start:stop]`, where `start` is the integer\n",
    "  index of the first element we want and `stop` is the integer index of\n",
    "  the element *just after* the last element we want.\n",
    "- The difference between `stop` and `start` is the slice's length.\n",
    "- Taking a slice does not change the contents of the original string. Instead,\n",
    "  taking a slice returns a copy of part of the original string."
   ]
  },
  {
   "cell_type": "code",
   "execution_count": 19,
   "id": "c54cc059",
   "metadata": {},
   "outputs": [
    {
     "name": "stdout",
     "output_type": "stream",
     "text": [
      "sod\n"
     ]
    }
   ],
   "source": []
  },
  {
   "cell_type": "markdown",
   "id": "c78a8dfa-619b-4b85-b6d5-41bb1dee09bf",
   "metadata": {},
   "source": [
    "## Use the built-in function `len` to find the length of a string."
   ]
  },
  {
   "cell_type": "code",
   "execution_count": 22,
   "id": "d6aceb9d",
   "metadata": {},
   "outputs": [
    {
     "name": "stdout",
     "output_type": "stream",
     "text": [
      "6\n"
     ]
    }
   ],
   "source": [
    "print(len('helium'))"
   ]
  },
  {
   "cell_type": "markdown",
   "id": "b14fc980",
   "metadata": {},
   "source": [
    "- Nested functions are evaluated from the inside out,\n",
    "  like in mathematics."
   ]
  },
  {
   "cell_type": "markdown",
   "id": "8cf0a514-8418-400c-8d7e-58cf3a16b35d",
   "metadata": {},
   "source": [
    "## Python is case-sensitive.\n",
    "\n",
    "- Python thinks that upper- and lower-case letters are different,\n",
    "  so `Name` and `name` are different variables.\n",
    "- There are conventions for using upper-case letters at the start of variable names so we will use lower-case letters for now."
   ]
  },
  {
   "cell_type": "markdown",
   "id": "e039f396-7daf-4bd4-bbcc-1e2947f5ef6f",
   "metadata": {},
   "source": [
    "## Use meaningful variable names.\n",
    "\n",
    "- Python doesn't care what you call variables as long as they obey the rules\n",
    "  (alphanumeric characters and the underscore)."
   ]
  },
  {
   "cell_type": "code",
   "execution_count": 27,
   "id": "9d51cee9",
   "metadata": {},
   "outputs": [
    {
     "name": "stdout",
     "output_type": "stream",
     "text": [
      "Ahmed is 42 years old\n"
     ]
    }
   ],
   "source": [
    "flabadab = 42\n",
    "ewr_422_yY = 'Ahmed'\n",
    "print(ewr_422_yY, 'is', flabadab, 'years old')"
   ]
  },
  {
   "cell_type": "markdown",
   "id": "f1c109e0",
   "metadata": {},
   "source": [
    "- Use meaningful variable names to help other people understand what the program does.\n",
    "- The most important \"other person\" is your future self."
   ]
  },
  {
   "cell_type": "markdown",
   "id": "731888f9-5534-4149-93d4-671cde4f2290",
   "metadata": {},
   "source": [
    "# **Data Types and Type Conversion**\n",
    "## Overview\n",
    "### Questions\n",
    "- What kinds of data do programs store?\n",
    "- How can I convert one type to another?\n",
    "<hr>\n",
    "\n",
    "### Objectives\n",
    "- Explain key differences between integers and floating point numbers.\n",
    "- Explain key differences between numbers and character strings.\n",
    "- Use built-in functions to convert between integers, floating point numbers, and string\n",
    "t\n",
    "\n"
   ]
  },
  {
   "cell_type": "markdown",
   "id": "922866eb-d7ef-48ac-93dd-5ddd65217808",
   "metadata": {},
   "source": [
    "## Every value has a type.\n",
    "\n",
    "- Every value in a program has a specific type.\n",
    "- Integer (`int`): represents positive or negative whole numbers like 3 or -512.\n",
    "- Floating point number (`float`): represents real numbers like 3.14159 or -2.5.\n",
    "- Character string (usually called \"string\", `str`): text.\n",
    "  - Written in either single quotes or double quotes (as long as they match).\n",
    "  - The quote marks aren't printed when the string is displayed."
   ]
  },
  {
   "cell_type": "markdown",
   "id": "24584a2c-4728-4faf-a75f-f10476247c2f",
   "metadata": {},
   "source": [
    "## Use the built-in function `type` to find the type of a value.\n",
    "\n",
    "- Use the built-in function `type` to find out what type a value has.\n",
    "- Works on variables as well.\n",
    "  - But remember: the *value* has the type --- the *variable* is just a label."
   ]
  },
  {
   "cell_type": "code",
   "execution_count": 33,
   "id": "e1749978",
   "metadata": {},
   "outputs": [
    {
     "name": "stdout",
     "output_type": "stream",
     "text": [
      "<class 'int'>\n"
     ]
    }
   ],
   "source": [
    "print(type(52))"
   ]
  },
  {
   "cell_type": "code",
   "execution_count": 35,
   "id": "818321dd",
   "metadata": {},
   "outputs": [
    {
     "name": "stdout",
     "output_type": "stream",
     "text": [
      "<class 'str'>\n"
     ]
    }
   ],
   "source": [
    "fitness = 'average'\n",
    "print(type(fitness))"
   ]
  },
  {
   "cell_type": "markdown",
   "id": "30e285f6-9f7f-423f-94ed-5e5837141f64",
   "metadata": {},
   "source": [
    "## Types control what operations (or methods) can be performed on a given value.\n",
    "\n",
    "- A value's type determines what the program can do to it."
   ]
  },
  {
   "cell_type": "code",
   "execution_count": 38,
   "id": "ffd45330",
   "metadata": {},
   "outputs": [
    {
     "name": "stdout",
     "output_type": "stream",
     "text": [
      "2\n"
     ]
    }
   ],
   "source": [
    "print(5 - 3)"
   ]
  },
  {
   "cell_type": "code",
   "execution_count": 40,
   "id": "534d364f",
   "metadata": {},
   "outputs": [
    {
     "ename": "TypeError",
     "evalue": "unsupported operand type(s) for -: 'str' and 'str'",
     "output_type": "error",
     "traceback": [
      "\u001b[1;31m---------------------------------------------------------------------------\u001b[0m",
      "\u001b[1;31mTypeError\u001b[0m                                 Traceback (most recent call last)",
      "Cell \u001b[1;32mIn[40], line 1\u001b[0m\n\u001b[1;32m----> 1\u001b[0m \u001b[38;5;28mprint\u001b[39m(\u001b[38;5;124m'\u001b[39m\u001b[38;5;124mhello\u001b[39m\u001b[38;5;124m'\u001b[39m \u001b[38;5;241m-\u001b[39m \u001b[38;5;124m'\u001b[39m\u001b[38;5;124mh\u001b[39m\u001b[38;5;124m'\u001b[39m)\n",
      "\u001b[1;31mTypeError\u001b[0m: unsupported operand type(s) for -: 'str' and 'str'"
     ]
    }
   ],
   "source": [
    "print('hello' - 'h')"
   ]
  },
  {
   "cell_type": "markdown",
   "id": "a5cbce1a-9794-44f5-ae40-8861568a8f83",
   "metadata": {},
   "source": [
    "## You can use the \"+\" and \"\\*\" operators on strings.\n",
    "\n",
    "- \"Adding\" character strings concatenates them."
   ]
  },
  {
   "cell_type": "code",
   "execution_count": 43,
   "id": "2e72102d",
   "metadata": {},
   "outputs": [
    {
     "name": "stdout",
     "output_type": "stream",
     "text": [
      "Ahmed Walsh\n"
     ]
    }
   ],
   "source": [
    "full_name = 'Ahmed' + ' ' + 'Walsh'\n",
    "print(full_name)"
   ]
  },
  {
   "cell_type": "markdown",
   "id": "b0e555e9",
   "metadata": {},
   "source": [
    "- Multiplying a character string by an integer *N* creates a new string that consists of that character string repeated  *N* times.\n",
    "  - Since multiplication is repeated addition."
   ]
  },
  {
   "cell_type": "code",
   "execution_count": 46,
   "id": "b97b168a",
   "metadata": {},
   "outputs": [
    {
     "name": "stdout",
     "output_type": "stream",
     "text": [
      "==========\n"
     ]
    }
   ],
   "source": [
    "separator = '=' * 10\n",
    "print(separator)"
   ]
  },
  {
   "cell_type": "markdown",
   "id": "a86d478c-fd07-4930-b950-848cf69f6a97",
   "metadata": {},
   "source": [
    "## Strings have a length (but numbers don't).\n",
    "\n",
    "- The built-in function `len` counts the number of characters in a string."
   ]
  },
  {
   "cell_type": "code",
   "execution_count": 49,
   "id": "43d53f1a",
   "metadata": {},
   "outputs": [
    {
     "name": "stdout",
     "output_type": "stream",
     "text": [
      "11\n"
     ]
    }
   ],
   "source": [
    "print(len(full_name))"
   ]
  },
  {
   "cell_type": "markdown",
   "id": "3099f414",
   "metadata": {},
   "source": [
    "- But numbers don't have a length (not even zero)."
   ]
  },
  {
   "cell_type": "code",
   "execution_count": 52,
   "id": "3834ee64",
   "metadata": {},
   "outputs": [
    {
     "ename": "TypeError",
     "evalue": "object of type 'int' has no len()",
     "output_type": "error",
     "traceback": [
      "\u001b[1;31m---------------------------------------------------------------------------\u001b[0m",
      "\u001b[1;31mTypeError\u001b[0m                                 Traceback (most recent call last)",
      "Cell \u001b[1;32mIn[52], line 1\u001b[0m\n\u001b[1;32m----> 1\u001b[0m \u001b[38;5;28mprint\u001b[39m(\u001b[38;5;28mlen\u001b[39m(\u001b[38;5;241m52\u001b[39m))\n",
      "\u001b[1;31mTypeError\u001b[0m: object of type 'int' has no len()"
     ]
    }
   ],
   "source": [
    "print(len(52))"
   ]
  },
  {
   "cell_type": "markdown",
   "id": "6433f456-e3ed-4cce-8104-7ea700bb9ee8",
   "metadata": {},
   "source": [
    "## Must convert numbers to strings or vice versa when operating on them. {#convert-numbers-and-strings}\n",
    "\n",
    "- Cannot add numbers and strings."
   ]
  },
  {
   "cell_type": "code",
   "execution_count": 55,
   "id": "5c9ab77a",
   "metadata": {},
   "outputs": [
    {
     "ename": "TypeError",
     "evalue": "unsupported operand type(s) for +: 'int' and 'str'",
     "output_type": "error",
     "traceback": [
      "\u001b[1;31m---------------------------------------------------------------------------\u001b[0m",
      "\u001b[1;31mTypeError\u001b[0m                                 Traceback (most recent call last)",
      "Cell \u001b[1;32mIn[55], line 1\u001b[0m\n\u001b[1;32m----> 1\u001b[0m \u001b[38;5;28mprint\u001b[39m(\u001b[38;5;241m1\u001b[39m \u001b[38;5;241m+\u001b[39m \u001b[38;5;124m'\u001b[39m\u001b[38;5;124m2\u001b[39m\u001b[38;5;124m'\u001b[39m)\n",
      "\u001b[1;31mTypeError\u001b[0m: unsupported operand type(s) for +: 'int' and 'str'"
     ]
    }
   ],
   "source": [
    "print(1 + '2')"
   ]
  },
  {
   "cell_type": "markdown",
   "id": "c9f7a222",
   "metadata": {},
   "source": [
    "- Not allowed because it's ambiguous: should `1 + '2'` be `3` or `'12'`?\n",
    "- Some types can be converted to other types by using the type name as a function."
   ]
  },
  {
   "cell_type": "code",
   "execution_count": 58,
   "id": "98c8274a",
   "metadata": {},
   "outputs": [
    {
     "name": "stdout",
     "output_type": "stream",
     "text": [
      "3\n",
      "12\n"
     ]
    }
   ],
   "source": [
    "print(1 + int('2'))\n",
    "print(str(1) + '2')"
   ]
  },
  {
   "cell_type": "markdown",
   "id": "6000e2c6-54e3-4aec-8853-b31a448556e9",
   "metadata": {},
   "source": [
    "## Can mix integers and floats freely in operations.\n",
    "\n",
    "- Integers and floating-point numbers can be mixed in arithmetic.\n",
    "  - Python 3 automatically converts integers to floats as needed."
   ]
  },
  {
   "cell_type": "code",
   "execution_count": 61,
   "id": "672988e9",
   "metadata": {},
   "outputs": [
    {
     "name": "stdout",
     "output_type": "stream",
     "text": [
      "half is 0.5\n",
      "three squared is 9.0\n"
     ]
    }
   ],
   "source": [
    "print('half is', 1 / 2.0)\n",
    "print('three squared is', 3.0 ** 2)"
   ]
  },
  {
   "cell_type": "markdown",
   "id": "b5e4b34f-c568-40cd-8879-853c56dc8b85",
   "metadata": {},
   "source": [
    "## Variables only change value when something is assigned to them.\n",
    "\n",
    "- If we make one cell in a spreadsheet depend on another,\n",
    "  and update the latter,\n",
    "  the former updates automatically.\n",
    "- This does **not** happen in programming languages."
   ]
  },
  {
   "cell_type": "code",
   "execution_count": 64,
   "id": "5e981421",
   "metadata": {},
   "outputs": [
    {
     "name": "stdout",
     "output_type": "stream",
     "text": [
      "first is 2 and second is 5\n"
     ]
    }
   ],
   "source": [
    "variable_one = 1\n",
    "variable_two = 5 * variable_one\n",
    "variable_one = 2\n",
    "print('first is', variable_one, 'and second is', variable_two)"
   ]
  },
  {
   "cell_type": "markdown",
   "id": "b6407ea8",
   "metadata": {},
   "source": [
    "- The computer reads the value of `variable_one` when doing the multiplication,\n",
    "  creates a new value, and assigns it to `variable_two`.\n",
    "- Afterwards, the value of `variable_two` is set to the new value and *not dependent on `variable_one`* so its value\n",
    "  does not automatically change when `variable_one` changes."
   ]
  },
  {
   "cell_type": "markdown",
   "id": "b2e55b72-71fc-4db3-bf19-06bc88bb3e74",
   "metadata": {},
   "source": [
    "# **Built-in Functions and Help**"
   ]
  },
  {
   "cell_type": "markdown",
   "id": "ee6e01e4-57f1-43dd-b46b-e2b9244df9c5",
   "metadata": {},
   "source": [
    "## Overview\n",
    "### Questions\n",
    "* How can I use built-in functions?\n",
    "* How can I find out what they do?\n",
    "* What kind of errors can occur in programs?\n",
    "\n",
    "<hr>\n",
    "\n",
    "### Objectives\n",
    "* Explain the purpose of functions.\n",
    "* Correctly call built-in Python functions.\n",
    "* Correctly nest calls to built-in functions.\n",
    "* Use help to display documentation for built-in functions.\n",
    "* Correctly describe situations in which SyntaxError and NameError occur."
   ]
  },
  {
   "cell_type": "markdown",
   "id": "3ae755dc-c760-4526-9a78-7477b1269089",
   "metadata": {},
   "source": [
    "## Use Comments to add documentation to programs."
   ]
  },
  {
   "cell_type": "code",
   "execution_count": 70,
   "id": "fe5c04fe-a774-4f70-9e77-45e9ab14eb70",
   "metadata": {},
   "outputs": [],
   "source": [
    "# This sentence isn't executed by Python.\n",
    "adjustment = 0.5   # Neither is this - anything after '#' is ignored."
   ]
  },
  {
   "cell_type": "markdown",
   "id": "19c73c50-3828-4180-bea3-72eea8dea7b3",
   "metadata": {},
   "source": [
    "## A function may take zero or more arguments.\n",
    "\n",
    "* An *argument* is a value passed into a function.\n",
    "* `len` takes exactly one.\n",
    "* `int`, `str`, and `float` create a new value from an existing one.\n",
    "* `print` takes zero or more.\n",
    "* `print` with no arguments prints a blank line.\n",
    "    * Must always use parentheses, even if they're empty, so that Python knows a function is being called."
   ]
  },
  {
   "cell_type": "code",
   "execution_count": 73,
   "id": "b28a5173-72b5-48fd-b9a4-aaf2b0f37a51",
   "metadata": {},
   "outputs": [
    {
     "name": "stdout",
     "output_type": "stream",
     "text": [
      "before\n",
      "\n",
      "after\n"
     ]
    }
   ],
   "source": [
    "print('before')\n",
    "print()\n",
    "print('after')"
   ]
  },
  {
   "cell_type": "markdown",
   "id": "9e7dcc0e-4e7e-4e30-b849-121871124f71",
   "metadata": {},
   "source": [
    "## Every function returns something.\n",
    "* Every function call produces some result.\n",
    "* If the function doesn't have a useful result to return, it usually returns the special value `None`. `None` is aPython object that stands in anytime there is no value."
   ]
  },
  {
   "cell_type": "code",
   "execution_count": 76,
   "id": "adcc0a97-e216-42d4-ab37-875fdd9be46a",
   "metadata": {},
   "outputs": [
    {
     "name": "stdout",
     "output_type": "stream",
     "text": [
      "example\n",
      "result of print is None\n"
     ]
    }
   ],
   "source": [
    "result = print('example')\n",
    "print('result of print is', result)"
   ]
  },
  {
   "cell_type": "markdown",
   "id": "657452c9-ad3b-437d-bd74-ab50a4d0c31d",
   "metadata": {},
   "source": [
    "## Commonly-used built-in functions (`max`, `min`, and `round`)\n",
    "* Use `max` to find the largest value of one or more values.\n",
    "* Use `min` to find the smallest.\n",
    "* Both work on character strings as well as numbers.\n",
    "    * \"Larger\" and \"smaller\" use (0-9, A-Z, a-z) to compare letters."
   ]
  },
  {
   "cell_type": "code",
   "execution_count": 79,
   "id": "8a9217f6-66e0-4985-bc72-5ae307e8e6b5",
   "metadata": {},
   "outputs": [
    {
     "name": "stdout",
     "output_type": "stream",
     "text": [
      "3\n",
      "0\n"
     ]
    }
   ],
   "source": [
    "print(max(1, 2, 3))\n",
    "print(min('a', 'A', '0'))"
   ]
  },
  {
   "cell_type": "markdown",
   "id": "4cca0e03-6749-4aba-a57f-dfdb0287f78d",
   "metadata": {},
   "source": [
    "## Functions may only work for certain (combinations of) arguments.\n",
    "* `max` and `min` must be given at least one argument.\n",
    "  * \"Largest of the empty set\" is a meaningless question.\n",
    "* And they must be given things that can meaningfully be compared."
   ]
  },
  {
   "cell_type": "code",
   "execution_count": 82,
   "id": "6a9995aa-f9c8-487e-a87b-8bedab80627c",
   "metadata": {},
   "outputs": [
    {
     "ename": "TypeError",
     "evalue": "'>' not supported between instances of 'str' and 'int'",
     "output_type": "error",
     "traceback": [
      "\u001b[1;31m---------------------------------------------------------------------------\u001b[0m",
      "\u001b[1;31mTypeError\u001b[0m                                 Traceback (most recent call last)",
      "Cell \u001b[1;32mIn[82], line 1\u001b[0m\n\u001b[1;32m----> 1\u001b[0m \u001b[38;5;28mprint\u001b[39m(\u001b[38;5;28mmax\u001b[39m(\u001b[38;5;241m1\u001b[39m, \u001b[38;5;124m'\u001b[39m\u001b[38;5;124ma\u001b[39m\u001b[38;5;124m'\u001b[39m))\n",
      "\u001b[1;31mTypeError\u001b[0m: '>' not supported between instances of 'str' and 'int'"
     ]
    }
   ],
   "source": [
    "print(max(1, 'a'))"
   ]
  },
  {
   "cell_type": "markdown",
   "id": "18cffacd-7153-4cec-8b7e-9ac83beecd53",
   "metadata": {},
   "source": [
    "## Functions may have default values for some arguments.\n",
    "* `round` will round off a floating-point number.\n",
    "* By default, rounds to zero decimal places."
   ]
  },
  {
   "cell_type": "code",
   "execution_count": 85,
   "id": "f023930a-a2a7-4f23-bcda-1deff6d14877",
   "metadata": {},
   "outputs": [
    {
     "data": {
      "text/plain": [
       "4"
      ]
     },
     "execution_count": 85,
     "metadata": {},
     "output_type": "execute_result"
    }
   ],
   "source": [
    "round(3.712)"
   ]
  },
  {
   "cell_type": "markdown",
   "id": "ab0cfae6-91e7-4447-b4ee-d58ec24fde0c",
   "metadata": {},
   "source": [
    "- We can specify the number of decimal places we want. "
   ]
  },
  {
   "cell_type": "code",
   "execution_count": 88,
   "id": "a7e9bd5b-6ed9-45cc-99a2-255d2a231bce",
   "metadata": {},
   "outputs": [
    {
     "data": {
      "text/plain": [
       "3.7"
      ]
     },
     "execution_count": 88,
     "metadata": {},
     "output_type": "execute_result"
    }
   ],
   "source": [
    "round(3.712, 1)"
   ]
  },
  {
   "cell_type": "markdown",
   "id": "74f2cc36-09b5-42ae-8cf6-af55381a338e",
   "metadata": {},
   "source": [
    "## Functions attached to objects are called methods\n",
    "* Hint: in Jupyter Notebook or Lab, hit Tab after the period to see a list of methods.\n",
    "  * You must first initialize the object.\n",
    "* Functions take another form that will be common in pandas episodes.\n",
    "* Methods have parentheses like functions, but come after the variable.\n",
    "* Some methods are used for internal Python operations, and are marked with double underlines."
   ]
  },
  {
   "cell_type": "code",
   "execution_count": 91,
   "id": "de5ab798-a2f0-4c7d-9cfa-98e3b3288cf7",
   "metadata": {},
   "outputs": [
    {
     "name": "stdout",
     "output_type": "stream",
     "text": [
      "12\n",
      "hELLO WORLD!\n",
      "12\n"
     ]
    }
   ],
   "source": [
    "my_string = 'Hello world!'  # creation of a string object \n",
    "\n",
    "print(len(my_string))       # the len function takes a string as an argument and returns the length of the string\n",
    "\n",
    "print(my_string.swapcase()) # calling the swapcase method on the my_string object\n",
    "\n",
    "print(my_string.__len__())  # calling the internal __len__ method on the my_string object, used by len(my_string)"
   ]
  },
  {
   "cell_type": "markdown",
   "id": "69efc84b-93ab-4456-95f5-c2e94fbb4c1c",
   "metadata": {},
   "source": [
    "* Methods can be chained together. They operate left to right."
   ]
  },
  {
   "cell_type": "code",
   "execution_count": 94,
   "id": "1af54bbb-eec8-4c8e-bd3a-3915e86c4e73",
   "metadata": {},
   "outputs": [
    {
     "name": "stdout",
     "output_type": "stream",
     "text": [
      "False\n",
      "HELLO WORLD!\n",
      "True\n"
     ]
    }
   ],
   "source": [
    "print(my_string.isupper())          # Not all the letters are uppercase\n",
    "print(my_string.upper())            # This capitalizes all the letters\n",
    "\n",
    "print(my_string.upper().isupper())  # Now all the letters are uppercase"
   ]
  },
  {
   "cell_type": "markdown",
   "id": "54183e7e-0276-48dd-acc3-fd4adfff1a47",
   "metadata": {},
   "source": [
    "## Use the built-in function `help` to get help for a function.\n",
    "* Every built-in function has online documentation."
   ]
  },
  {
   "cell_type": "code",
   "execution_count": 97,
   "id": "47f99cff-22ff-487f-bee3-4ab8e60b612f",
   "metadata": {},
   "outputs": [
    {
     "name": "stdout",
     "output_type": "stream",
     "text": [
      "Help on built-in function round in module builtins:\n",
      "\n",
      "round(number, ndigits=None)\n",
      "    Round a number to a given precision in decimal digits.\n",
      "\n",
      "    The return value is an integer if ndigits is omitted or None.  Otherwise\n",
      "    the return value has the same type as the number.  ndigits may be negative.\n",
      "\n"
     ]
    }
   ],
   "source": [
    "help(round)"
   ]
  },
  {
   "cell_type": "markdown",
   "id": "5eb7cd15-1c77-4309-b008-41523c36854b",
   "metadata": {},
   "source": [
    "## The Jupyter Notebook has two ways to get help.\n",
    "\n",
    "* Option 1: Place a cursor near where the function is invoked in a cell (i.e., the function name or its parameters),\n",
    "    * Hold down `Shift`, and press `Tab`.\n",
    "    * Do this several times to expand the information returned.\n",
    "* Option 2: Type the function name in a cell with a question mark after it. Then run the cell."
   ]
  },
  {
   "cell_type": "markdown",
   "id": "10417b6f-5a69-4fce-8fbf-7d503ee772ba",
   "metadata": {},
   "source": [
    "## Python reports a syntax error when it can't understand the source of a program.\n",
    "* Won't try to run the program if it can't be parsed."
   ]
  },
  {
   "cell_type": "code",
   "execution_count": 101,
   "id": "479ef034-a5c2-4295-aa27-9a1a1326b746",
   "metadata": {},
   "outputs": [
    {
     "ename": "SyntaxError",
     "evalue": "unterminated string literal (detected at line 2) (3103437601.py, line 2)",
     "output_type": "error",
     "traceback": [
      "\u001b[1;36m  Cell \u001b[1;32mIn[101], line 2\u001b[1;36m\u001b[0m\n\u001b[1;33m    name = 'Feng\u001b[0m\n\u001b[1;37m           ^\u001b[0m\n\u001b[1;31mSyntaxError\u001b[0m\u001b[1;31m:\u001b[0m unterminated string literal (detected at line 2)\n"
     ]
    }
   ],
   "source": [
    "# Forgot to close the quote marks around the string.\n",
    "name = 'Feng"
   ]
  },
  {
   "cell_type": "code",
   "execution_count": 103,
   "id": "42a84f78-55e1-4c5e-816d-5c803985802a",
   "metadata": {},
   "outputs": [
    {
     "ename": "SyntaxError",
     "evalue": "invalid syntax (3760570524.py, line 2)",
     "output_type": "error",
     "traceback": [
      "\u001b[1;36m  Cell \u001b[1;32mIn[103], line 2\u001b[1;36m\u001b[0m\n\u001b[1;33m    age = = 52\u001b[0m\n\u001b[1;37m          ^\u001b[0m\n\u001b[1;31mSyntaxError\u001b[0m\u001b[1;31m:\u001b[0m invalid syntax\n"
     ]
    }
   ],
   "source": [
    "# An extra '=' in the assignment.\n",
    "age = = 52"
   ]
  },
  {
   "cell_type": "markdown",
   "id": "f4ba29fc-c409-4fe9-ac65-57f81dd6ba76",
   "metadata": {},
   "source": [
    "- Look more closely at the error message:"
   ]
  },
  {
   "cell_type": "code",
   "execution_count": 106,
   "id": "43b3a913-d301-4ce6-b22d-ac51f52e0d40",
   "metadata": {},
   "outputs": [
    {
     "ename": "SyntaxError",
     "evalue": "incomplete input (1028029194.py, line 1)",
     "output_type": "error",
     "traceback": [
      "\u001b[1;36m  Cell \u001b[1;32mIn[106], line 1\u001b[1;36m\u001b[0m\n\u001b[1;33m    print(\"hello world\"\u001b[0m\n\u001b[1;37m                       ^\u001b[0m\n\u001b[1;31mSyntaxError\u001b[0m\u001b[1;31m:\u001b[0m incomplete input\n"
     ]
    }
   ],
   "source": [
    "print(\"hello world\""
   ]
  },
  {
   "cell_type": "markdown",
   "id": "91dea9af-66b4-4d27-a59e-32a142f59d31",
   "metadata": {},
   "source": [
    "* The message indicates a problem on the first line of the input (\"line 1\").\n",
    "* The Cell In\\[\\#\\] part of the filename indicates which cell of our Notebook the error occurred in.\n",
    "* Next is the problematic line of code, indicating the probelm with a ^ pointer."
   ]
  },
  {
   "cell_type": "markdown",
   "id": "e6e85744-484f-4ba9-9930-8ae135a39b5d",
   "metadata": {},
   "source": [
    "## Python reports a runtime error when something goes wrong while a program is executing."
   ]
  },
  {
   "cell_type": "code",
   "execution_count": 110,
   "id": "bf3b6813-906a-4522-981b-6d6e9ff9b5fa",
   "metadata": {},
   "outputs": [
    {
     "ename": "NameError",
     "evalue": "name 'aege' is not defined",
     "output_type": "error",
     "traceback": [
      "\u001b[1;31m---------------------------------------------------------------------------\u001b[0m",
      "\u001b[1;31mNameError\u001b[0m                                 Traceback (most recent call last)",
      "Cell \u001b[1;32mIn[110], line 2\u001b[0m\n\u001b[0;32m      1\u001b[0m age \u001b[38;5;241m=\u001b[39m \u001b[38;5;241m53\u001b[39m\n\u001b[1;32m----> 2\u001b[0m remaining \u001b[38;5;241m=\u001b[39m \u001b[38;5;241m100\u001b[39m \u001b[38;5;241m-\u001b[39m aege\n",
      "\u001b[1;31mNameError\u001b[0m: name 'aege' is not defined"
     ]
    }
   ],
   "source": [
    "age = 53\n",
    "remaining = 100 - aege # mis-spelled 'age'"
   ]
  },
  {
   "cell_type": "markdown",
   "id": "ab255074-63f1-4c77-92ef-1956734ab2b2",
   "metadata": {},
   "source": [
    "* Correct syntax errors by reading the source and runtime errors by tracing execution."
   ]
  },
  {
   "cell_type": "markdown",
   "id": "b0816a00-32f5-438e-8732-e275501f0116",
   "metadata": {},
   "source": [
    "### Explore the Python docs!\n",
    "The[ official Python documentatio](https://docs.python.org/3/)n is arguably the most complete source of information about the language. It is available in different languages and contains a lot of useful resources. The[ Built-in Functions pag](https://docs.python.org/3/library/functions.html)e contains a catalogue of all of these functions, including the ones that we’ve covered in this lesson. Some of these are more advanced and unnecessary at the moment, but others are very simple and useful."
   ]
  },
  {
   "cell_type": "markdown",
   "id": "370c5d2f-8ccd-4e0d-be53-f2a07b7e3562",
   "metadata": {},
   "source": [
    "# **Libraries**"
   ]
  },
  {
   "cell_type": "markdown",
   "id": "8de5e8c1-43f0-4811-a22b-ef3a74e99ca1",
   "metadata": {},
   "source": [
    "## Overview\n",
    "### Questions\n",
    "* How can I use software that other people have written?\n",
    "* How can I find what that software does?\n",
    "\n",
    "<hr>\n",
    "\n",
    "### Objectives\n",
    "* Explain what software libraries are and why programmers create and use them.\n",
    "* Write programs that import and use modules from Python’s standard library.\n",
    "* Find and read documentation for the standard library interactively (in the interpreter) and online."
   ]
  },
  {
   "cell_type": "markdown",
   "id": "0bfd63a7-548a-49c3-bfe4-0731ada36b41",
   "metadata": {},
   "source": [
    "## Most of the power of a programming language is in its libraries.\n",
    "* A *library* is a collection of files (called modules) that contains functions for use by other programs.\n",
    "    * May also contain data values (e.g., numerical constants) and other things.\n",
    "    * Library’s contents are supposed to be related, but there’s no way to enforce that.\n",
    "* The Python [standard library](https://docs.python.org/3/library/) is an extensive suite of modules that comes with Python itself.\n",
    "* Many additional libraries are available from [PyPI](https://pypi.org/) (the Python Package Index).\n",
    "* We will see later how to write new libraries."
   ]
  },
  {
   "cell_type": "markdown",
   "id": "f09e511c-383c-4b05-8dc1-1e3e7d629fac",
   "metadata": {},
   "source": [
    "## A program must import a library module before using it.\n",
    "* Use `import` to load a library module into a program's memory.\n",
    "* Then refer to things from the module as `module_name.thing_name`.\n",
    "  * Python uses . to mean \"part of\".\n",
    "* Using `math`, one of the modules in the standard library:"
   ]
  },
  {
   "cell_type": "code",
   "execution_count": 118,
   "id": "8b7e4f0d-fa96-48f2-9e16-97473dc9a18a",
   "metadata": {},
   "outputs": [
    {
     "name": "stdout",
     "output_type": "stream",
     "text": [
      "pi is 3.141592653589793\n",
      "cos(pi) is -1.0\n"
     ]
    }
   ],
   "source": [
    "import math\n",
    "\n",
    "print('pi is', math.pi)\n",
    "print('cos(pi) is', math.cos(math.pi))"
   ]
  },
  {
   "cell_type": "markdown",
   "id": "1b500765-a628-48d5-91fc-cdfbf585a130",
   "metadata": {},
   "source": [
    "* Have to refer to each item with the module's name.\n",
    "  * `math.cos(pi)` won't work: the reference to `pi` doesn't somehow \"inherit\" the function's reference to `math`."
   ]
  },
  {
   "cell_type": "markdown",
   "id": "7a5fe8ef-b768-43b9-9457-6239465ff1a1",
   "metadata": {},
   "source": [
    "## Use `help` to learn about the contents of a library module."
   ]
  },
  {
   "cell_type": "markdown",
   "id": "c6468303-22c8-462f-9366-163e40e4ec91",
   "metadata": {},
   "source": [
    "- Works just like help for a function."
   ]
  },
  {
   "cell_type": "code",
   "execution_count": 123,
   "id": "851bb8a3-75c6-4912-b16f-fb51ed7187d1",
   "metadata": {},
   "outputs": [
    {
     "name": "stdout",
     "output_type": "stream",
     "text": [
      "Help on built-in module math:\n",
      "\n",
      "NAME\n",
      "    math\n",
      "\n",
      "DESCRIPTION\n",
      "    This module provides access to the mathematical functions\n",
      "    defined by the C standard.\n",
      "\n",
      "FUNCTIONS\n",
      "    acos(x, /)\n",
      "        Return the arc cosine (measured in radians) of x.\n",
      "\n",
      "        The result is between 0 and pi.\n",
      "\n",
      "    acosh(x, /)\n",
      "        Return the inverse hyperbolic cosine of x.\n",
      "\n",
      "    asin(x, /)\n",
      "        Return the arc sine (measured in radians) of x.\n",
      "\n",
      "        The result is between -pi/2 and pi/2.\n",
      "\n",
      "    asinh(x, /)\n",
      "        Return the inverse hyperbolic sine of x.\n",
      "\n",
      "    atan(x, /)\n",
      "        Return the arc tangent (measured in radians) of x.\n",
      "\n",
      "        The result is between -pi/2 and pi/2.\n",
      "\n",
      "    atan2(y, x, /)\n",
      "        Return the arc tangent (measured in radians) of y/x.\n",
      "\n",
      "        Unlike atan(y/x), the signs of both x and y are considered.\n",
      "\n",
      "    atanh(x, /)\n",
      "        Return the inverse hyperbolic tangent of x.\n",
      "\n",
      "    cbrt(x, /)\n",
      "        Return the cube root of x.\n",
      "\n",
      "    ceil(x, /)\n",
      "        Return the ceiling of x as an Integral.\n",
      "\n",
      "        This is the smallest integer >= x.\n",
      "\n",
      "    comb(n, k, /)\n",
      "        Number of ways to choose k items from n items without repetition and without order.\n",
      "\n",
      "        Evaluates to n! / (k! * (n - k)!) when k <= n and evaluates\n",
      "        to zero when k > n.\n",
      "\n",
      "        Also called the binomial coefficient because it is equivalent\n",
      "        to the coefficient of k-th term in polynomial expansion of the\n",
      "        expression (1 + x)**n.\n",
      "\n",
      "        Raises TypeError if either of the arguments are not integers.\n",
      "        Raises ValueError if either of the arguments are negative.\n",
      "\n",
      "    copysign(x, y, /)\n",
      "        Return a float with the magnitude (absolute value) of x but the sign of y.\n",
      "\n",
      "        On platforms that support signed zeros, copysign(1.0, -0.0)\n",
      "        returns -1.0.\n",
      "\n",
      "    cos(x, /)\n",
      "        Return the cosine of x (measured in radians).\n",
      "\n",
      "    cosh(x, /)\n",
      "        Return the hyperbolic cosine of x.\n",
      "\n",
      "    degrees(x, /)\n",
      "        Convert angle x from radians to degrees.\n",
      "\n",
      "    dist(p, q, /)\n",
      "        Return the Euclidean distance between two points p and q.\n",
      "\n",
      "        The points should be specified as sequences (or iterables) of\n",
      "        coordinates.  Both inputs must have the same dimension.\n",
      "\n",
      "        Roughly equivalent to:\n",
      "            sqrt(sum((px - qx) ** 2.0 for px, qx in zip(p, q)))\n",
      "\n",
      "    erf(x, /)\n",
      "        Error function at x.\n",
      "\n",
      "    erfc(x, /)\n",
      "        Complementary error function at x.\n",
      "\n",
      "    exp(x, /)\n",
      "        Return e raised to the power of x.\n",
      "\n",
      "    exp2(x, /)\n",
      "        Return 2 raised to the power of x.\n",
      "\n",
      "    expm1(x, /)\n",
      "        Return exp(x)-1.\n",
      "\n",
      "        This function avoids the loss of precision involved in the direct evaluation of exp(x)-1 for small x.\n",
      "\n",
      "    fabs(x, /)\n",
      "        Return the absolute value of the float x.\n",
      "\n",
      "    factorial(n, /)\n",
      "        Find n!.\n",
      "\n",
      "        Raise a ValueError if x is negative or non-integral.\n",
      "\n",
      "    floor(x, /)\n",
      "        Return the floor of x as an Integral.\n",
      "\n",
      "        This is the largest integer <= x.\n",
      "\n",
      "    fmod(x, y, /)\n",
      "        Return fmod(x, y), according to platform C.\n",
      "\n",
      "        x % y may differ.\n",
      "\n",
      "    frexp(x, /)\n",
      "        Return the mantissa and exponent of x, as pair (m, e).\n",
      "\n",
      "        m is a float and e is an int, such that x = m * 2.**e.\n",
      "        If x is 0, m and e are both 0.  Else 0.5 <= abs(m) < 1.0.\n",
      "\n",
      "    fsum(seq, /)\n",
      "        Return an accurate floating point sum of values in the iterable seq.\n",
      "\n",
      "        Assumes IEEE-754 floating point arithmetic.\n",
      "\n",
      "    gamma(x, /)\n",
      "        Gamma function at x.\n",
      "\n",
      "    gcd(*integers)\n",
      "        Greatest Common Divisor.\n",
      "\n",
      "    hypot(...)\n",
      "        hypot(*coordinates) -> value\n",
      "\n",
      "        Multidimensional Euclidean distance from the origin to a point.\n",
      "\n",
      "        Roughly equivalent to:\n",
      "            sqrt(sum(x**2 for x in coordinates))\n",
      "\n",
      "        For a two dimensional point (x, y), gives the hypotenuse\n",
      "        using the Pythagorean theorem:  sqrt(x*x + y*y).\n",
      "\n",
      "        For example, the hypotenuse of a 3/4/5 right triangle is:\n",
      "\n",
      "            >>> hypot(3.0, 4.0)\n",
      "            5.0\n",
      "\n",
      "    isclose(a, b, *, rel_tol=1e-09, abs_tol=0.0)\n",
      "        Determine whether two floating point numbers are close in value.\n",
      "\n",
      "          rel_tol\n",
      "            maximum difference for being considered \"close\", relative to the\n",
      "            magnitude of the input values\n",
      "          abs_tol\n",
      "            maximum difference for being considered \"close\", regardless of the\n",
      "            magnitude of the input values\n",
      "\n",
      "        Return True if a is close in value to b, and False otherwise.\n",
      "\n",
      "        For the values to be considered close, the difference between them\n",
      "        must be smaller than at least one of the tolerances.\n",
      "\n",
      "        -inf, inf and NaN behave similarly to the IEEE 754 Standard.  That\n",
      "        is, NaN is not close to anything, even itself.  inf and -inf are\n",
      "        only close to themselves.\n",
      "\n",
      "    isfinite(x, /)\n",
      "        Return True if x is neither an infinity nor a NaN, and False otherwise.\n",
      "\n",
      "    isinf(x, /)\n",
      "        Return True if x is a positive or negative infinity, and False otherwise.\n",
      "\n",
      "    isnan(x, /)\n",
      "        Return True if x is a NaN (not a number), and False otherwise.\n",
      "\n",
      "    isqrt(n, /)\n",
      "        Return the integer part of the square root of the input.\n",
      "\n",
      "    lcm(*integers)\n",
      "        Least Common Multiple.\n",
      "\n",
      "    ldexp(x, i, /)\n",
      "        Return x * (2**i).\n",
      "\n",
      "        This is essentially the inverse of frexp().\n",
      "\n",
      "    lgamma(x, /)\n",
      "        Natural logarithm of absolute value of Gamma function at x.\n",
      "\n",
      "    log(...)\n",
      "        log(x, [base=math.e])\n",
      "        Return the logarithm of x to the given base.\n",
      "\n",
      "        If the base is not specified, returns the natural logarithm (base e) of x.\n",
      "\n",
      "    log10(x, /)\n",
      "        Return the base 10 logarithm of x.\n",
      "\n",
      "    log1p(x, /)\n",
      "        Return the natural logarithm of 1+x (base e).\n",
      "\n",
      "        The result is computed in a way which is accurate for x near zero.\n",
      "\n",
      "    log2(x, /)\n",
      "        Return the base 2 logarithm of x.\n",
      "\n",
      "    modf(x, /)\n",
      "        Return the fractional and integer parts of x.\n",
      "\n",
      "        Both results carry the sign of x and are floats.\n",
      "\n",
      "    nextafter(x, y, /, *, steps=None)\n",
      "        Return the floating-point value the given number of steps after x towards y.\n",
      "\n",
      "        If steps is not specified or is None, it defaults to 1.\n",
      "\n",
      "        Raises a TypeError, if x or y is not a double, or if steps is not an integer.\n",
      "        Raises ValueError if steps is negative.\n",
      "\n",
      "    perm(n, k=None, /)\n",
      "        Number of ways to choose k items from n items without repetition and with order.\n",
      "\n",
      "        Evaluates to n! / (n - k)! when k <= n and evaluates\n",
      "        to zero when k > n.\n",
      "\n",
      "        If k is not specified or is None, then k defaults to n\n",
      "        and the function returns n!.\n",
      "\n",
      "        Raises TypeError if either of the arguments are not integers.\n",
      "        Raises ValueError if either of the arguments are negative.\n",
      "\n",
      "    pow(x, y, /)\n",
      "        Return x**y (x to the power of y).\n",
      "\n",
      "    prod(iterable, /, *, start=1)\n",
      "        Calculate the product of all the elements in the input iterable.\n",
      "\n",
      "        The default start value for the product is 1.\n",
      "\n",
      "        When the iterable is empty, return the start value.  This function is\n",
      "        intended specifically for use with numeric values and may reject\n",
      "        non-numeric types.\n",
      "\n",
      "    radians(x, /)\n",
      "        Convert angle x from degrees to radians.\n",
      "\n",
      "    remainder(x, y, /)\n",
      "        Difference between x and the closest integer multiple of y.\n",
      "\n",
      "        Return x - n*y where n*y is the closest integer multiple of y.\n",
      "        In the case where x is exactly halfway between two multiples of\n",
      "        y, the nearest even value of n is used. The result is always exact.\n",
      "\n",
      "    sin(x, /)\n",
      "        Return the sine of x (measured in radians).\n",
      "\n",
      "    sinh(x, /)\n",
      "        Return the hyperbolic sine of x.\n",
      "\n",
      "    sqrt(x, /)\n",
      "        Return the square root of x.\n",
      "\n",
      "    sumprod(p, q, /)\n",
      "        Return the sum of products of values from two iterables p and q.\n",
      "\n",
      "        Roughly equivalent to:\n",
      "\n",
      "            sum(itertools.starmap(operator.mul, zip(p, q, strict=True)))\n",
      "\n",
      "        For float and mixed int/float inputs, the intermediate products\n",
      "        and sums are computed with extended precision.\n",
      "\n",
      "    tan(x, /)\n",
      "        Return the tangent of x (measured in radians).\n",
      "\n",
      "    tanh(x, /)\n",
      "        Return the hyperbolic tangent of x.\n",
      "\n",
      "    trunc(x, /)\n",
      "        Truncates the Real x to the nearest Integral toward 0.\n",
      "\n",
      "        Uses the __trunc__ magic method.\n",
      "\n",
      "    ulp(x, /)\n",
      "        Return the value of the least significant bit of the float x.\n",
      "\n",
      "DATA\n",
      "    e = 2.718281828459045\n",
      "    inf = inf\n",
      "    nan = nan\n",
      "    pi = 3.141592653589793\n",
      "    tau = 6.283185307179586\n",
      "\n",
      "FILE\n",
      "    (built-in)\n",
      "\n",
      "\n"
     ]
    }
   ],
   "source": [
    "help(math)"
   ]
  },
  {
   "cell_type": "markdown",
   "id": "99008e49-696d-42ff-b4f9-ad9c1a84f01e",
   "metadata": {},
   "source": [
    "## Import specific items from a library module to shorten programs.\n",
    "* Use `from ... import ...` to load only specific items from a library module.\n",
    "* Then refer to them directly without library name as prefix."
   ]
  },
  {
   "cell_type": "code",
   "execution_count": 126,
   "id": "f4bd5e26-d84b-47bc-9d2c-89c646cf93fb",
   "metadata": {},
   "outputs": [
    {
     "name": "stdout",
     "output_type": "stream",
     "text": [
      "cos(pi) is -1.0\n"
     ]
    }
   ],
   "source": [
    "from math import cos, pi\n",
    "\n",
    "print('cos(pi) is', math.cos(math.pi))"
   ]
  },
  {
   "cell_type": "markdown",
   "id": "6c6f7b7d-15ce-4841-8b6a-ae9522fdeed9",
   "metadata": {},
   "source": [
    "## Create an alias for a library module when importing it to shorten programs. \n",
    "* Use `import ... as ...` to give a library a short *alias* while importing it.\n",
    "* Then refer to items in the library using that shortened name."
   ]
  },
  {
   "cell_type": "code",
   "execution_count": 129,
   "id": "0451d07c-bb98-459f-947f-36388bf26788",
   "metadata": {},
   "outputs": [
    {
     "name": "stdout",
     "output_type": "stream",
     "text": [
      "cos(pi) is -1.0\n"
     ]
    }
   ],
   "source": [
    "import math as m\n",
    "\n",
    "print('cos(pi) is', m.cos(m.pi))"
   ]
  },
  {
   "cell_type": "markdown",
   "id": "f01c7487-c02e-48fa-9143-9f7913cfc9c8",
   "metadata": {},
   "source": [
    "* Commonly used for libraries that are frequently used or have long names.\n",
    "  * E.g., the `matplotlib` plotting library is often aliased as `mpl`.\n",
    "* But can make programs harder to understand, since readers must learn your program's aliases."
   ]
  },
  {
   "cell_type": "markdown",
   "id": "8604dab6-9325-4463-a77a-f5723918e1ce",
   "metadata": {},
   "source": [
    "# **Reading Tabular Data into DataFrames**"
   ]
  },
  {
   "cell_type": "markdown",
   "id": "2854401d-ecfe-45df-b026-09568abb810c",
   "metadata": {},
   "source": [
    "## Overview\n",
    "### Questions\n",
    "* How can I read tabular data?\n",
    "\n",
    "<hr>\n",
    "\n",
    "### Objectives\n",
    "* Import the Pandas library\n",
    "* Use Pandas to load a CSV data set.\n",
    "* Get some basic information about a Pandas DataFrame."
   ]
  },
  {
   "cell_type": "markdown",
   "id": "317ab9ef-19c5-427f-8560-f5bb60949cb2",
   "metadata": {},
   "source": [
    "## Use the Pandas library to do statistics on tabular data.\n",
    "\n",
    "- [Pandas](https://pandas.pydata.org/) is a widely-used Python library for statistics, particularly on tabular data.\n",
    "- Borrows many features from R's dataframes.\n",
    "  - A 2-dimensional table whose columns have names\n",
    "    and potentially have different data types.\n",
    "- Load Pandas with `import pandas as pd`. The alias `pd` is commonly used to refer to the Pandas library in code.\n",
    "- Read a Comma Separated Values (CSV) data file with `pd.read_csv`.\n",
    "  - Argument is the name of the file to be read.\n",
    "  - Returns a dataframe that you can assign to a variable."
   ]
  },
  {
   "cell_type": "code",
   "execution_count": 135,
   "id": "194cbed5-fac0-4bcb-9174-a664a8ccb9a5",
   "metadata": {},
   "outputs": [
    {
     "name": "stdout",
     "output_type": "stream",
     "text": [
      "       country  gdpPercap_1952  gdpPercap_1957  gdpPercap_1962  \\\n",
      "0    Australia     10039.59564     10949.64959     12217.22686   \n",
      "1  New Zealand     10556.57566     12247.39532     13175.67800   \n",
      "\n",
      "   gdpPercap_1967  gdpPercap_1972  gdpPercap_1977  gdpPercap_1982  \\\n",
      "0     14526.12465     16788.62948     18334.19751     19477.00928   \n",
      "1     14463.91893     16046.03728     16233.71770     17632.41040   \n",
      "\n",
      "   gdpPercap_1987  gdpPercap_1992  gdpPercap_1997  gdpPercap_2002  \\\n",
      "0     21888.88903     23424.76683     26997.93657     30687.75473   \n",
      "1     19007.19129     18363.32494     21050.41377     23189.80135   \n",
      "\n",
      "   gdpPercap_2007  \n",
      "0     34435.36744  \n",
      "1     25185.00911  \n"
     ]
    }
   ],
   "source": [
    "import pandas as pd\n",
    "\n",
    "data_oceania = pd.read_csv('data/gapminder_gdp_oceania.csv')\n",
    "print(data_oceania)"
   ]
  },
  {
   "cell_type": "markdown",
   "id": "c7094461-f4fa-41ff-afa5-51d041ad8591",
   "metadata": {},
   "source": [
    "- The columns in a dataframe are the observed variables, and the rows are the observations.\n",
    "- Pandas uses backslash `\\` to show wrapped lines when output is too wide to fit the screen.\n",
    "- Using descriptive dataframe names helps us distinguish between multiple dataframes so we won't accidentally overwrite a dataframe or read from the wrong one. "
   ]
  },
  {
   "cell_type": "markdown",
   "id": "befd4927-53d3-4bce-8097-ba427ce42594",
   "metadata": {},
   "source": [
    "- Note: The lessons store their data files in a **data** sub-directory. If you forget to include `data/`, or if you include it but your copy of the file is somewhere else, you will get a runtime error that ends with a line like:\n",
    "```FileNotFoundError: [Errno 2] No such file or directory: 'data/gapminder_gdp_oceania.csv'```"
   ]
  },
  {
   "cell_type": "markdown",
   "id": "efb5806a-a9d8-4b8f-8ee6-7d368e16ada9",
   "metadata": {},
   "source": [
    "## Use `index_col` to specify that a column's values should be used as row headings.\n",
    "\n",
    "- Row headings are numbers (0 and 1 in this case).\n",
    "- Really want to index by country.\n",
    "- Pass the name of the column to `read_csv` as its `index_col` parameter to do this.\n",
    "- Naming the dataframe `data_oceania_country` tells us which region the data includes (`oceania`) and how it is indexed (`country`).\n"
   ]
  },
  {
   "cell_type": "code",
   "execution_count": 140,
   "id": "112ccb32-1a44-446a-9917-d75564f152f7",
   "metadata": {},
   "outputs": [
    {
     "name": "stdout",
     "output_type": "stream",
     "text": [
      "             gdpPercap_1952  gdpPercap_1957  gdpPercap_1962  gdpPercap_1967  \\\n",
      "country                                                                       \n",
      "Australia       10039.59564     10949.64959     12217.22686     14526.12465   \n",
      "New Zealand     10556.57566     12247.39532     13175.67800     14463.91893   \n",
      "\n",
      "             gdpPercap_1972  gdpPercap_1977  gdpPercap_1982  gdpPercap_1987  \\\n",
      "country                                                                       \n",
      "Australia       16788.62948     18334.19751     19477.00928     21888.88903   \n",
      "New Zealand     16046.03728     16233.71770     17632.41040     19007.19129   \n",
      "\n",
      "             gdpPercap_1992  gdpPercap_1997  gdpPercap_2002  gdpPercap_2007  \n",
      "country                                                                      \n",
      "Australia       23424.76683     26997.93657     30687.75473     34435.36744  \n",
      "New Zealand     18363.32494     21050.41377     23189.80135     25185.00911  \n"
     ]
    }
   ],
   "source": [
    "data_oceania_country = pd.read_csv('data/gapminder_gdp_oceania.csv', index_col='country')\n",
    "print(data_oceania_country)"
   ]
  },
  {
   "cell_type": "markdown",
   "id": "50d272b7-abf1-42bc-8992-fcac081afbc9",
   "metadata": {},
   "source": [
    "## Use the `DataFrame.info()` method to find out more about a dataframe."
   ]
  },
  {
   "cell_type": "code",
   "execution_count": 143,
   "id": "3b3a8c84-000b-4718-a8e2-0960fb101d10",
   "metadata": {},
   "outputs": [
    {
     "name": "stdout",
     "output_type": "stream",
     "text": [
      "<class 'pandas.core.frame.DataFrame'>\n",
      "Index: 2 entries, Australia to New Zealand\n",
      "Data columns (total 12 columns):\n",
      " #   Column          Non-Null Count  Dtype  \n",
      "---  ------          --------------  -----  \n",
      " 0   gdpPercap_1952  2 non-null      float64\n",
      " 1   gdpPercap_1957  2 non-null      float64\n",
      " 2   gdpPercap_1962  2 non-null      float64\n",
      " 3   gdpPercap_1967  2 non-null      float64\n",
      " 4   gdpPercap_1972  2 non-null      float64\n",
      " 5   gdpPercap_1977  2 non-null      float64\n",
      " 6   gdpPercap_1982  2 non-null      float64\n",
      " 7   gdpPercap_1987  2 non-null      float64\n",
      " 8   gdpPercap_1992  2 non-null      float64\n",
      " 9   gdpPercap_1997  2 non-null      float64\n",
      " 10  gdpPercap_2002  2 non-null      float64\n",
      " 11  gdpPercap_2007  2 non-null      float64\n",
      "dtypes: float64(12)\n",
      "memory usage: 208.0+ bytes\n"
     ]
    }
   ],
   "source": [
    "data_oceania_country.info()"
   ]
  },
  {
   "cell_type": "markdown",
   "id": "943a0abe-ee83-4b03-9ddc-cda0d6c49156",
   "metadata": {},
   "source": [
    "- This is a `DataFrame`\n",
    "- Two rows named `'Australia'` and `'New Zealand'`\n",
    "- Twelve columns, each of which has two actual 64-bit floating point values.\n",
    "  - We will talk later about null values, which are used to represent missing observations.\n",
    "- Uses 208 bytes of memory."
   ]
  },
  {
   "cell_type": "markdown",
   "id": "733618e5-5b6d-4075-bfeb-9bbc1d5b031e",
   "metadata": {},
   "source": [
    "## The `DataFrame.columns` variable stores information about the dataframe's columns.\n",
    "\n",
    "- Note that this is data, *not* a method.  (It doesn't have parentheses.)\n",
    "  - Like `math.pi`.\n",
    "  - So do not use `()` to try to call it.\n",
    "- Called a *member variable*, or just *member*."
   ]
  },
  {
   "cell_type": "code",
   "execution_count": 147,
   "id": "173eb887-50e7-4b52-90aa-f8e5fd2d3289",
   "metadata": {},
   "outputs": [
    {
     "name": "stdout",
     "output_type": "stream",
     "text": [
      "Index(['gdpPercap_1952', 'gdpPercap_1957', 'gdpPercap_1962', 'gdpPercap_1967',\n",
      "       'gdpPercap_1972', 'gdpPercap_1977', 'gdpPercap_1982', 'gdpPercap_1987',\n",
      "       'gdpPercap_1992', 'gdpPercap_1997', 'gdpPercap_2002', 'gdpPercap_2007'],\n",
      "      dtype='object')\n"
     ]
    }
   ],
   "source": [
    "print(data_oceania_country.columns)"
   ]
  },
  {
   "cell_type": "markdown",
   "id": "f27626bd-0936-48ca-8814-5e4d8e4817f5",
   "metadata": {},
   "source": [
    "## Use `DataFrame.T` to transpose a dataframe.\n",
    "\n",
    "- Sometimes want to treat columns as rows and vice versa.\n",
    "- Transpose (written `.T`) doesn't copy the data, just changes the program's view of it.\n",
    "- Like `columns`, it is a member variable.\n"
   ]
  },
  {
   "cell_type": "code",
   "execution_count": 150,
   "id": "f5f4942f-cdea-4bb8-a8da-2e79baa81330",
   "metadata": {},
   "outputs": [
    {
     "name": "stdout",
     "output_type": "stream",
     "text": [
      "country           Australia  New Zealand\n",
      "gdpPercap_1952  10039.59564  10556.57566\n",
      "gdpPercap_1957  10949.64959  12247.39532\n",
      "gdpPercap_1962  12217.22686  13175.67800\n",
      "gdpPercap_1967  14526.12465  14463.91893\n",
      "gdpPercap_1972  16788.62948  16046.03728\n",
      "gdpPercap_1977  18334.19751  16233.71770\n",
      "gdpPercap_1982  19477.00928  17632.41040\n",
      "gdpPercap_1987  21888.88903  19007.19129\n",
      "gdpPercap_1992  23424.76683  18363.32494\n",
      "gdpPercap_1997  26997.93657  21050.41377\n",
      "gdpPercap_2002  30687.75473  23189.80135\n",
      "gdpPercap_2007  34435.36744  25185.00911\n"
     ]
    }
   ],
   "source": [
    "print(data_oceania_country.T)"
   ]
  },
  {
   "cell_type": "markdown",
   "id": "29b10552-f5ac-4790-a227-63293ed6fa99",
   "metadata": {},
   "source": [
    "## Use `DataFrame.describe()` to get summary statistics about data.\n",
    "\n",
    "`DataFrame.describe()` gets the summary statistics of only the columns that have numerical data.\n",
    "All other columns are ignored, unless you use the argument `include='all'`."
   ]
  },
  {
   "cell_type": "code",
   "execution_count": 153,
   "id": "e781b3e0-956f-4e73-891b-cd1f5f112879",
   "metadata": {},
   "outputs": [
    {
     "name": "stdout",
     "output_type": "stream",
     "text": [
      "       gdpPercap_1952  gdpPercap_1957  gdpPercap_1962  gdpPercap_1967  \\\n",
      "count        2.000000        2.000000        2.000000        2.000000   \n",
      "mean     10298.085650    11598.522455    12696.452430    14495.021790   \n",
      "std        365.560078      917.644806      677.727301       43.986086   \n",
      "min      10039.595640    10949.649590    12217.226860    14463.918930   \n",
      "25%      10168.840645    11274.086022    12456.839645    14479.470360   \n",
      "50%      10298.085650    11598.522455    12696.452430    14495.021790   \n",
      "75%      10427.330655    11922.958888    12936.065215    14510.573220   \n",
      "max      10556.575660    12247.395320    13175.678000    14526.124650   \n",
      "\n",
      "       gdpPercap_1972  gdpPercap_1977  gdpPercap_1982  gdpPercap_1987  \\\n",
      "count         2.00000        2.000000        2.000000        2.000000   \n",
      "mean      16417.33338    17283.957605    18554.709840    20448.040160   \n",
      "std         525.09198     1485.263517     1304.328377     2037.668013   \n",
      "min       16046.03728    16233.717700    17632.410400    19007.191290   \n",
      "25%       16231.68533    16758.837652    18093.560120    19727.615725   \n",
      "50%       16417.33338    17283.957605    18554.709840    20448.040160   \n",
      "75%       16602.98143    17809.077558    19015.859560    21168.464595   \n",
      "max       16788.62948    18334.197510    19477.009280    21888.889030   \n",
      "\n",
      "       gdpPercap_1992  gdpPercap_1997  gdpPercap_2002  gdpPercap_2007  \n",
      "count        2.000000        2.000000        2.000000        2.000000  \n",
      "mean     20894.045885    24024.175170    26938.778040    29810.188275  \n",
      "std       3578.979883     4205.533703     5301.853680     6540.991104  \n",
      "min      18363.324940    21050.413770    23189.801350    25185.009110  \n",
      "25%      19628.685412    22537.294470    25064.289695    27497.598692  \n",
      "50%      20894.045885    24024.175170    26938.778040    29810.188275  \n",
      "75%      22159.406358    25511.055870    28813.266385    32122.777858  \n",
      "max      23424.766830    26997.936570    30687.754730    34435.367440  \n"
     ]
    }
   ],
   "source": [
    "print(data_oceania_country.describe())"
   ]
  },
  {
   "cell_type": "markdown",
   "id": "8f32d11b-9623-477d-96ed-d09d7f33ace5",
   "metadata": {},
   "source": [
    "# **Pandas DataFrames**"
   ]
  },
  {
   "cell_type": "markdown",
   "id": "5fb25943-21fd-4732-bce7-5ef053572a9c",
   "metadata": {},
   "source": [
    "## Overview\n",
    "### Questions\n",
    "- How can I do statistical analysis of tabular data?\n",
    "<hr>\n",
    "\n",
    "### Objectives\n",
    "- Select individual values from a Pandas dataframe.\n",
    "- Select entire rows or entire columns from a dataframe.\n",
    "- Select a subset of both rows and columns from a dataframe in a single operation.\n",
    "- Select a subset of a dataframe by a single Boolean criterion."
   ]
  },
  {
   "cell_type": "markdown",
   "id": "f5b4b1d1-e913-422a-bbaa-d898e75bcfb0",
   "metadata": {},
   "source": [
    "## Note about Pandas DataFrames/Series\n",
    "\n",
    "A [DataFrame](https://pandas.pydata.org/pandas-docs/stable/generated/pandas.DataFrame.html) is a collection of [Series](https://pandas.pydata.org/pandas-docs/stable/generated/pandas.Series.html);\n",
    "The DataFrame is the way Pandas represents a table, and Series is the data-structure\n",
    "Pandas use to represent a column.\n",
    "\n",
    "Pandas is built on top of the [Numpy](https://www.numpy.org/) library, which in practice means that\n",
    "most of the methods defined for Numpy Arrays apply to Pandas Series/DataFrames.\n",
    "\n",
    "What makes Pandas so attractive is the powerful interface to access individual records\n",
    "of the table, proper handling of missing values, and relational-databases operations\n",
    "between DataFrames."
   ]
  },
  {
   "cell_type": "markdown",
   "id": "c4c8af3c-d9df-4606-9edb-16b084f7c078",
   "metadata": {},
   "source": [
    "## Selecting values\n",
    "\n",
    "To access a value at the position `[i,j]` of a DataFrame, we have two options, depending on\n",
    "what is the meaning of `i` in use.\n",
    "Remember that a DataFrame provides an *index* as a way to identify the rows of the table;\n",
    "a row, then, has a *position* inside the table as well as a *label*, which\n",
    "uniquely identifies its *entry* in the DataFrame."
   ]
  },
  {
   "cell_type": "markdown",
   "id": "ccf69f9b-da90-42a9-9f9f-93f4f1ce99c1",
   "metadata": {},
   "source": [
    "## Use `DataFrame.iloc[..., ...]` to select values by their (entry) position\n",
    "\n",
    "- Can specify location by numerical index analogously to 2D version of character selection in strings."
   ]
  },
  {
   "cell_type": "code",
   "execution_count": 160,
   "id": "532ef14f-0f86-4541-9329-1a0ae99765e9",
   "metadata": {},
   "outputs": [
    {
     "name": "stdout",
     "output_type": "stream",
     "text": [
      "1601.056136\n"
     ]
    }
   ],
   "source": [
    "import pandas as pd\n",
    "data = pd.read_csv('data/gapminder_gdp_europe.csv', index_col='country')\n",
    "print(data.iloc[0, 0])"
   ]
  },
  {
   "cell_type": "markdown",
   "id": "beea5609-1460-4f0d-8d39-f0a11476b186",
   "metadata": {},
   "source": [
    "## Use `DataFrame.loc[..., ...]` to select values by their (entry) label.\n",
    "\n",
    "- Can specify location by row and/or column name."
   ]
  },
  {
   "cell_type": "code",
   "execution_count": 162,
   "id": "a4b119a3-ac0a-475d-8150-5957efa4820d",
   "metadata": {},
   "outputs": [
    {
     "name": "stdout",
     "output_type": "stream",
     "text": [
      "1601.056136\n"
     ]
    }
   ],
   "source": [
    "print(data.loc[\"Albania\", \"gdpPercap_1952\"])"
   ]
  },
  {
   "cell_type": "markdown",
   "id": "f30e82ca-9fab-41a8-b1e5-28869fc5b2bc",
   "metadata": {},
   "source": [
    "## Use `:` on its own to mean all columns or all rows.\n",
    "\n",
    "- Just like Python's usual slicing notation."
   ]
  },
  {
   "cell_type": "code",
   "execution_count": 166,
   "id": "a4fc42b3-c0ac-483b-a689-7329d2651666",
   "metadata": {},
   "outputs": [
    {
     "name": "stdout",
     "output_type": "stream",
     "text": [
      "gdpPercap_1952    1601.056136\n",
      "gdpPercap_1957    1942.284244\n",
      "gdpPercap_1962    2312.888958\n",
      "gdpPercap_1967    2760.196931\n",
      "gdpPercap_1972    3313.422188\n",
      "gdpPercap_1977    3533.003910\n",
      "gdpPercap_1982    3630.880722\n",
      "gdpPercap_1987    3738.932735\n",
      "gdpPercap_1992    2497.437901\n",
      "gdpPercap_1997    3193.054604\n",
      "gdpPercap_2002    4604.211737\n",
      "gdpPercap_2007    5937.029526\n",
      "Name: Albania, dtype: float64\n"
     ]
    }
   ],
   "source": [
    "print(data.loc[\"Albania\", :])"
   ]
  },
  {
   "cell_type": "markdown",
   "id": "99cda831-72cf-48c6-b944-cafcaa9734d7",
   "metadata": {},
   "source": [
    "- Would get the same result printing `data.loc[\"Albania\"]` (without a second index)."
   ]
  },
  {
   "cell_type": "code",
   "execution_count": 169,
   "id": "b9193cc8-9a1d-45ba-9064-49175d37f632",
   "metadata": {},
   "outputs": [
    {
     "name": "stdout",
     "output_type": "stream",
     "text": [
      "country\n",
      "Albania                    1601.056136\n",
      "Austria                    6137.076492\n",
      "Belgium                    8343.105127\n",
      "Bosnia and Herzegovina      973.533195\n",
      "Bulgaria                   2444.286648\n",
      "Croatia                    3119.236520\n",
      "Czech Republic             6876.140250\n",
      "Denmark                    9692.385245\n",
      "Finland                    6424.519071\n",
      "France                     7029.809327\n",
      "Germany                    7144.114393\n",
      "Greece                     3530.690067\n",
      "Hungary                    5263.673816\n",
      "Iceland                    7267.688428\n",
      "Ireland                    5210.280328\n",
      "Italy                      4931.404155\n",
      "Montenegro                 2647.585601\n",
      "Netherlands                8941.571858\n",
      "Norway                    10095.421720\n",
      "Poland                     4029.329699\n",
      "Portugal                   3068.319867\n",
      "Romania                    3144.613186\n",
      "Serbia                     3581.459448\n",
      "Slovak Republic            5074.659104\n",
      "Slovenia                   4215.041741\n",
      "Spain                      3834.034742\n",
      "Sweden                     8527.844662\n",
      "Switzerland               14734.232750\n",
      "Turkey                     1969.100980\n",
      "United Kingdom             9979.508487\n",
      "Name: gdpPercap_1952, dtype: float64\n"
     ]
    }
   ],
   "source": [
    "print(data.loc[:, \"gdpPercap_1952\"])"
   ]
  },
  {
   "cell_type": "markdown",
   "id": "1b2fde14-3843-4ca5-99ec-ef1353063af0",
   "metadata": {},
   "source": [
    "- Would get the same result printing `data[\"gdpPercap_1952\"]`\n",
    "- Also get the same result printing `data.gdpPercap_1952` (not recommended, because easily confused with `.` notation for methods)"
   ]
  },
  {
   "cell_type": "markdown",
   "id": "2f23f46f-ff83-4105-b30b-af58cf07ffa4",
   "metadata": {},
   "source": [
    "## Select multiple columns or rows using `DataFrame.loc` and a named slice."
   ]
  },
  {
   "cell_type": "code",
   "execution_count": 173,
   "id": "08759099-fa4d-4c2d-a078-d4331c70f732",
   "metadata": {},
   "outputs": [
    {
     "name": "stdout",
     "output_type": "stream",
     "text": [
      "             gdpPercap_1962  gdpPercap_1967  gdpPercap_1972\n",
      "country                                                    \n",
      "Italy           8243.582340    10022.401310    12269.273780\n",
      "Montenegro      4649.593785     5907.850937     7778.414017\n",
      "Netherlands    12790.849560    15363.251360    18794.745670\n",
      "Norway         13450.401510    16361.876470    18965.055510\n",
      "Poland          5338.752143     6557.152776     8006.506993\n"
     ]
    }
   ],
   "source": [
    "print(data.loc[\"Italy\":\"Poland\", \"gdpPercap_1962\":\"gdpPercap_1972\"])"
   ]
  },
  {
   "cell_type": "markdown",
   "id": "6343c2ec-6990-430b-ac24-de9af277f09a",
   "metadata": {},
   "source": [
    "In the above code, we discover that **slicing using `loc` is inclusive at both\n",
    "ends**, which differs from **slicing using `iloc`**, where slicing indicates\n",
    "everything up to but not including the final index."
   ]
  },
  {
   "cell_type": "markdown",
   "id": "94995848-b164-42e3-b876-fddcacb202be",
   "metadata": {},
   "source": [
    "## Result of slicing can be used in further operations.\n",
    "\n",
    "- Usually don't just print a slice.\n",
    "- All the statistical operators that work on entire dataframes\n",
    "  work the same way on slices.\n",
    "- E.g., calculate max of a slice."
   ]
  },
  {
   "cell_type": "code",
   "execution_count": 177,
   "id": "aae32aad-848c-4b7c-954c-e06e131271a6",
   "metadata": {},
   "outputs": [
    {
     "name": "stdout",
     "output_type": "stream",
     "text": [
      "gdpPercap_1962    13450.40151\n",
      "gdpPercap_1967    16361.87647\n",
      "gdpPercap_1972    18965.05551\n",
      "dtype: float64\n"
     ]
    }
   ],
   "source": [
    "print(data.loc[\"Italy\":\"Poland\", \"gdpPercap_1962\":\"gdpPercap_1972\"].max())"
   ]
  },
  {
   "cell_type": "code",
   "execution_count": 179,
   "id": "22c85637-8d53-4595-9146-4aa86c914dda",
   "metadata": {},
   "outputs": [
    {
     "name": "stdout",
     "output_type": "stream",
     "text": [
      "gdpPercap_1962    4649.593785\n",
      "gdpPercap_1967    5907.850937\n",
      "gdpPercap_1972    7778.414017\n",
      "dtype: float64\n"
     ]
    }
   ],
   "source": [
    "print(data.loc[\"Italy\":\"Poland\", \"gdpPercap_1962\":\"gdpPercap_1972\"].min())"
   ]
  },
  {
   "cell_type": "markdown",
   "id": "ad01798c-3d66-4253-8cd8-8f9f0aa45f2a",
   "metadata": {},
   "source": [
    "## Use comparisons to select data based on value.\n",
    "\n",
    "- Comparison is applied element by element.\n",
    "- Returns a similarly-shaped dataframe of `True` and `False`."
   ]
  },
  {
   "cell_type": "code",
   "execution_count": 182,
   "id": "67b6d794-580d-49cf-ab9c-69127021ece4",
   "metadata": {},
   "outputs": [
    {
     "name": "stdout",
     "output_type": "stream",
     "text": [
      "Subset of data:\n",
      "              gdpPercap_1962  gdpPercap_1967  gdpPercap_1972\n",
      "country                                                    \n",
      "Italy           8243.582340    10022.401310    12269.273780\n",
      "Montenegro      4649.593785     5907.850937     7778.414017\n",
      "Netherlands    12790.849560    15363.251360    18794.745670\n",
      "Norway         13450.401510    16361.876470    18965.055510\n",
      "Poland          5338.752143     6557.152776     8006.506993\n",
      "\n",
      "Where are values large?\n",
      "              gdpPercap_1962  gdpPercap_1967  gdpPercap_1972\n",
      "country                                                    \n",
      "Italy                 False            True            True\n",
      "Montenegro            False           False           False\n",
      "Netherlands            True            True            True\n",
      "Norway                 True            True            True\n",
      "Poland                False           False           False\n"
     ]
    }
   ],
   "source": [
    "# Use a subset of data to keep output readable.\n",
    "subset = data.loc['Italy':'Poland', 'gdpPercap_1962':'gdpPercap_1972']\n",
    "print('Subset of data:\\n', subset)\n",
    "\n",
    "# Which values were greater than 10000 ?\n",
    "print('\\nWhere are values large?\\n', subset > 10000)"
   ]
  },
  {
   "cell_type": "markdown",
   "id": "8feefcbb-832e-423a-8883-2e8825bd2aef",
   "metadata": {},
   "source": [
    "## Select values or NaN using a Boolean mask.\n",
    "\n",
    "- A frame full of Booleans is sometimes called a *mask* because of how it can be used."
   ]
  },
  {
   "cell_type": "code",
   "execution_count": 185,
   "id": "f9597c8c-b5a1-4e6e-94e4-6616e796a993",
   "metadata": {},
   "outputs": [
    {
     "name": "stdout",
     "output_type": "stream",
     "text": [
      "             gdpPercap_1962  gdpPercap_1967  gdpPercap_1972\n",
      "country                                                    \n",
      "Italy                   NaN     10022.40131     12269.27378\n",
      "Montenegro              NaN             NaN             NaN\n",
      "Netherlands     12790.84956     15363.25136     18794.74567\n",
      "Norway          13450.40151     16361.87647     18965.05551\n",
      "Poland                  NaN             NaN             NaN\n"
     ]
    }
   ],
   "source": [
    "mask = subset > 10000\n",
    "print(subset[mask])"
   ]
  },
  {
   "cell_type": "markdown",
   "id": "82e9df4d-41b6-44fb-a646-5b03293e6ed5",
   "metadata": {},
   "source": [
    "- Get the value where the mask is true, and NaN (Not a Number) where it is false.\n",
    "- Useful because NaNs are ignored by operations like max, min, average, etc."
   ]
  },
  {
   "cell_type": "code",
   "execution_count": 188,
   "id": "75f78a90-7499-42b4-9691-fcdfe3acf406",
   "metadata": {},
   "outputs": [
    {
     "name": "stdout",
     "output_type": "stream",
     "text": [
      "       gdpPercap_1962  gdpPercap_1967  gdpPercap_1972\n",
      "count        2.000000        3.000000        3.000000\n",
      "mean     13120.625535    13915.843047    16676.358320\n",
      "std        466.373656     3408.589070     3817.597015\n",
      "min      12790.849560    10022.401310    12269.273780\n",
      "25%      12955.737548    12692.826335    15532.009725\n",
      "50%      13120.625535    15363.251360    18794.745670\n",
      "75%      13285.513522    15862.563915    18879.900590\n",
      "max      13450.401510    16361.876470    18965.055510\n"
     ]
    }
   ],
   "source": [
    "print(subset[subset > 10000].describe())"
   ]
  },
  {
   "cell_type": "markdown",
   "id": "8ee92e4e-1ccd-49e8-bb5a-b6c37ab256b5",
   "metadata": {},
   "source": [
    "## Group By: split-apply-combine\n",
    "Pandas vectorizing methods and grouping operations are features that provide users much flexibility to analyse their data.\n",
    "\n",
    "For instance, let’s say we want to have a clearer view on how the European countries split themselves according to their GDP.\n",
    "\n",
    "1. We may have a glance by splitting the countries in two groups during the years surveyed, those who presented a GDP higher than the European average and those with a lower GDP.\n",
    "2. We then estimate a wealthy score based on the historical (from 1962 to 2007) values, where we account how many times a country has participated in the groups of lower or higher GDP"
   ]
  },
  {
   "cell_type": "code",
   "execution_count": 191,
   "id": "eb19650a-5756-4306-8526-8f8f0cc2a90d",
   "metadata": {},
   "outputs": [
    {
     "name": "stdout",
     "output_type": "stream",
     "text": [
      "country\n",
      "Albania                   0.000000\n",
      "Austria                   1.000000\n",
      "Belgium                   1.000000\n",
      "Bosnia and Herzegovina    0.000000\n",
      "Bulgaria                  0.000000\n",
      "Croatia                   0.000000\n",
      "Czech Republic            0.500000\n",
      "Denmark                   1.000000\n",
      "Finland                   1.000000\n",
      "France                    1.000000\n",
      "Germany                   1.000000\n",
      "Greece                    0.333333\n",
      "Hungary                   0.000000\n",
      "Iceland                   1.000000\n",
      "Ireland                   0.333333\n",
      "Italy                     0.500000\n",
      "Montenegro                0.000000\n",
      "Netherlands               1.000000\n",
      "Norway                    1.000000\n",
      "Poland                    0.000000\n",
      "Portugal                  0.000000\n",
      "Romania                   0.000000\n",
      "Serbia                    0.000000\n",
      "Slovak Republic           0.000000\n",
      "Slovenia                  0.333333\n",
      "Spain                     0.333333\n",
      "Sweden                    1.000000\n",
      "Switzerland               1.000000\n",
      "Turkey                    0.000000\n",
      "United Kingdom            1.000000\n",
      "dtype: float64\n"
     ]
    }
   ],
   "source": [
    "mask_higher = data > data.mean()\n",
    "wealth_score = mask_higher.aggregate('sum', axis=1) / len(data.columns)\n",
    "print(wealth_score)"
   ]
  },
  {
   "cell_type": "markdown",
   "id": "c8172f18-a8f2-4dee-8efb-b950b7a86db5",
   "metadata": {},
   "source": [
    "Finally, for each group in the **wealth_score** table, we sum their (financial) contribution across the years surveyed using chained methods:"
   ]
  },
  {
   "cell_type": "code",
   "execution_count": 194,
   "id": "5b0f88db-d519-48bb-9e97-6594777b2e74",
   "metadata": {},
   "outputs": [
    {
     "name": "stdout",
     "output_type": "stream",
     "text": [
      "          gdpPercap_1952  gdpPercap_1957  gdpPercap_1962  gdpPercap_1967  \\\n",
      "0.000000    36916.854200    46110.918793    56850.065437    71324.848786   \n",
      "0.333333    16790.046878    20942.456800    25744.935321    33567.667670   \n",
      "0.500000    11807.544405    14505.000150    18380.449470    21421.846200   \n",
      "1.000000   104317.277560   127332.008735   149989.154201   178000.350040   \n",
      "\n",
      "          gdpPercap_1972  gdpPercap_1977  gdpPercap_1982  gdpPercap_1987  \\\n",
      "0.000000    88569.346898   104459.358438   113553.768507   119649.599409   \n",
      "0.333333    45277.839976    53860.456750    59679.634020    64436.912960   \n",
      "0.500000    25377.727380    29056.145370    31914.712050    35517.678220   \n",
      "1.000000   215162.343140   241143.412730   263388.781960   296825.131210   \n",
      "\n",
      "          gdpPercap_1992  gdpPercap_1997  gdpPercap_2002  gdpPercap_2007  \n",
      "0.000000    92380.047256   103772.937598   118590.929863   149577.357928  \n",
      "0.333333    67918.093220    80876.051580   102086.795210   122803.729520  \n",
      "0.500000    36310.666080    40723.538700    45564.308390    51403.028210  \n",
      "1.000000   315238.235970   346930.926170   385109.939210   427850.333420  \n"
     ]
    }
   ],
   "source": [
    "print(data.groupby(wealth_score).sum())"
   ]
  },
  {
   "cell_type": "markdown",
   "id": "0e5a0468-d03c-4f14-9b79-80a9a56fdfe0",
   "metadata": {},
   "source": [
    "# **Plotting**"
   ]
  },
  {
   "cell_type": "markdown",
   "id": "a41a8f32-bca9-497d-b559-6a1d7fd09823",
   "metadata": {},
   "source": [
    "## Overview\n",
    "### Questions\n",
    "- How can I plot my data?\n",
    "- How can I save my plot for publishing?\n",
    "<hr>\n",
    "\n",
    "### Objectives\n",
    "- Create a time series plot showing a single data set.\n",
    "- Create a scatter plot showing relationship between two data sets."
   ]
  },
  {
   "cell_type": "markdown",
   "id": "6630be15-a59c-4a7d-a576-1df4dfe71a36",
   "metadata": {},
   "source": [
    "## [`matplotlib`](https://matplotlib.org/) is the most widely used scientific plotting library in Python.\n",
    "\n",
    "- Commonly use a sub-library called [`matplotlib.pyplot`](https://matplotlib.org/stable/tutorials/introductory/pyplot.html).\n",
    "- The Jupyter Notebook will render plots inline by default."
   ]
  },
  {
   "cell_type": "code",
   "execution_count": 199,
   "id": "5a5756b4-82aa-4b2b-a33c-6a53ff5a4da7",
   "metadata": {},
   "outputs": [],
   "source": [
    "import matplotlib.pyplot as plt"
   ]
  },
  {
   "cell_type": "markdown",
   "id": "ec1430d7-bc69-4bd9-9b65-74f2d32f4e5e",
   "metadata": {},
   "source": [
    "- Simple plots are then (fairly) simple to create."
   ]
  },
  {
   "cell_type": "code",
   "execution_count": 202,
   "id": "3db03cc8-40b2-4d6b-a129-38bb5b7fd277",
   "metadata": {},
   "outputs": [
    {
     "data": {
      "image/png": "[encoded data removed]",
      "text/plain": [
       "<Figure size 640x480 with 1 Axes>"
      ]
     },
     "metadata": {},
     "output_type": "display_data"
    }
   ],
   "source": [
    "time =  [0, 1, 2, 3]\n",
    "position = [0, 100, 200, 300]\n",
    "\n",
    "plt.plot(time, position)\n",
    "plt.xlabel('Time (hr)')\n",
    "plt.ylabel('Position (km)')\n",
    "\n",
    "plt.show()\n"
   ]
  },
  {
   "cell_type": "markdown",
   "id": "fee59569-a3c7-4b3b-a775-e70f96c78663",
   "metadata": {},
   "source": [
    "## Display All Open Figures\n",
    "\n",
    "In our Jupyter Notebook example, running the cell should generate the figure directly below the code.\n",
    "The figure is also included in the Notebook document for future viewing.\n",
    "However, other Python environments like an interactive Python session started from a terminal\n",
    "or a Python script executed via the command line require an additional command to display the figure.\n",
    "\n",
    "Instruct `matplotlib` to show a figure:\n",
    "\n",
    "```python\n",
    "plt.show()\n",
    "```\n",
    "\n",
    "This command can also be used within a Notebook - for instance, to display multiple figures\n",
    "if several are created by a single cell."
   ]
  },
  {
   "cell_type": "markdown",
   "id": "f4008eac-75fd-4c94-9cff-1ae8303b0849",
   "metadata": {},
   "source": [
    "## Plot data directly from a [Pandas dataframe](https://pandas.pydata.org/pandas-docs/stable/reference/api/pandas.DataFrame.html).\n",
    "\n",
    "- We can also plot [Pandas dataframes](https://pandas.pydata.org/pandas-docs/stable/generated/pandas.DataFrame.html).\n",
    "- Before plotting, we convert the column headings from a `string` to `integer` data type, since they represent numerical values,\n",
    "  using [str.replace()](https://pandas.pydata.org/docs/reference/api/pandas.Series.str.replace.html) to remove the `gpdPercap_`\n",
    "  prefix and then [astype(int)](https://pandas.pydata.org/docs/reference/api/pandas.Series.astype.html)\n",
    "  to convert the series of string values (`['1952', '1957', ..., '2007']`) to a series of integers: `[1925, 1957, ..., 2007]`.\n"
   ]
  },
  {
   "cell_type": "code",
   "execution_count": 206,
   "id": "d059b53e-ce8a-4800-a44c-52d3f170dd3a",
   "metadata": {},
   "outputs": [
    {
     "data": {
      "text/plain": [
       "<Axes: >"
      ]
     },
     "execution_count": 206,
     "metadata": {},
     "output_type": "execute_result"
    },
    {
     "data": {
      "image/png": "[encoded data removed]",
      "text/plain": [
       "<Figure size 640x480 with 1 Axes>"
      ]
     },
     "metadata": {},
     "output_type": "display_data"
    }
   ],
   "source": [
    "import pandas as pd\n",
    "\n",
    "data = pd.read_csv('data/gapminder_gdp_oceania.csv', index_col='country')\n",
    "\n",
    "# Extract year from last 4 characters of each column name\n",
    "# The current column names are structured as 'gdpPercap_(year)', \n",
    "# so we want to keep the (year) part only for clarity when plotting GDP vs. years\n",
    "# To do this we use replace(), which removes from the string the characters stated in the argument\n",
    "# This method works on strings, so we use replace() from Pandas Series.str vectorized string functions\n",
    "\n",
    "years = data.columns.str.replace('gdpPercap_', '')\n",
    "\n",
    "# Convert year values to integers, saving results back to dataframe\n",
    "\n",
    "data.columns = years.astype(int)\n",
    "\n",
    "data.loc['Australia'].plot()"
   ]
  },
  {
   "cell_type": "markdown",
   "id": "4c220e5a-1032-4b37-84c1-323fd4697d65",
   "metadata": {},
   "source": [
    "## Select and transform data, then plot it.\n",
    "\n",
    "- By default, [DataFrame.plot](https://pandas.pydata.org/pandas-docs/stable/generated/pandas.DataFrame.plot.html#pandas.DataFrame.plot) plots with the rows as the X axis.\n",
    "- We can transpose the data in order to plot multiple series."
   ]
  },
  {
   "cell_type": "code",
   "execution_count": 209,
   "id": "e5927cb5-22eb-4c5a-9a49-ce495e48088c",
   "metadata": {},
   "outputs": [
    {
     "data": {
      "text/plain": [
       "Text(0, 0.5, 'GDP per capita')"
      ]
     },
     "execution_count": 209,
     "metadata": {},
     "output_type": "execute_result"
    },
    {
     "data": {
      "image/png": "[encoded data removed]",
      "text/plain": [
       "<Figure size 640x480 with 1 Axes>"
      ]
     },
     "metadata": {},
     "output_type": "display_data"
    }
   ],
   "source": [
    "data.T.plot()\n",
    "plt.ylabel('GDP per capita')"
   ]
  },
  {
   "cell_type": "markdown",
   "id": "a381202b-e07a-4a74-94d8-ba92ca554b9c",
   "metadata": {},
   "source": [
    "## Many styles of plot are available.\n",
    "\n",
    "- For example, do a bar plot using a fancier style."
   ]
  },
  {
   "cell_type": "code",
   "execution_count": 212,
   "id": "c2363e4e-c2dd-4136-9cf0-b1e24e2a694b",
   "metadata": {},
   "outputs": [
    {
     "data": {
      "text/plain": [
       "Text(0, 0.5, 'GDP per capita')"
      ]
     },
     "execution_count": 212,
     "metadata": {},
     "output_type": "execute_result"
    },
    {
     "data": {
      "image/png": "[encoded data removed]",
      "text/plain": [
       "<Figure size 640x480 with 1 Axes>"
      ]
     },
     "metadata": {},
     "output_type": "display_data"
    }
   ],
   "source": [
    "plt.style.use('ggplot')\n",
    "data.T.plot(kind='bar')\n",
    "plt.ylabel('GDP per capita')"
   ]
  },
  {
   "cell_type": "markdown",
   "id": "2199efce-bf50-479c-be1e-17b407b85ccc",
   "metadata": {},
   "source": [
    "## Data can also be plotted by calling the `matplotlib` `plot` function directly.\n",
    "\n",
    "- The command is `plt.plot(x, y)`\n",
    "- The color and format of markers can also be specified as an additional optional argument e.g., `b-` is a blue line, `g--` is a green dashed line.\n"
   ]
  },
  {
   "cell_type": "markdown",
   "id": "061dc41f-aa44-497a-bd8e-7cd5b7fed8cc",
   "metadata": {},
   "source": [
    "## Get Australia data from dataframe"
   ]
  },
  {
   "cell_type": "code",
   "execution_count": 216,
   "id": "b2638277-28a5-4202-982a-d3c6d780d75b",
   "metadata": {},
   "outputs": [
    {
     "data": {
      "text/plain": [
       "[<matplotlib.lines.Line2D at 0x15ea4f8b6e0>]"
      ]
     },
     "execution_count": 216,
     "metadata": {},
     "output_type": "execute_result"
    },
    {
     "data": {
      "image/png": "[encoded data removed]",
      "text/plain": [
       "<Figure size 640x480 with 1 Axes>"
      ]
     },
     "metadata": {},
     "output_type": "display_data"
    }
   ],
   "source": [
    "years = data.columns\n",
    "gdp_australia = data.loc['Australia']\n",
    "\n",
    "plt.plot(years, gdp_australia, 'g--')"
   ]
  },
  {
   "cell_type": "markdown",
   "id": "3c5e1b84-7b33-4527-bc9a-1c3dc7623859",
   "metadata": {},
   "source": [
    "## Can plot many sets of data together."
   ]
  },
  {
   "cell_type": "code",
   "execution_count": 219,
   "id": "2d01d17a-888b-4a44-bfd6-ff7bf60e7866",
   "metadata": {},
   "outputs": [
    {
     "data": {
      "text/plain": [
       "Text(0, 0.5, 'GDP per capita ($)')"
      ]
     },
     "execution_count": 219,
     "metadata": {},
     "output_type": "execute_result"
    },
    {
     "data": {
      "image/png": "[encoded data removed]",
      "text/plain": [
       "<Figure size 640x480 with 1 Axes>"
      ]
     },
     "metadata": {},
     "output_type": "display_data"
    }
   ],
   "source": [
    "# Select two countries' worth of data.\n",
    "gdp_australia = data.loc['Australia']\n",
    "gdp_nz = data.loc['New Zealand']\n",
    "\n",
    "# Plot with differently-colored markers.\n",
    "plt.plot(years, gdp_australia, 'b-', label='Australia')\n",
    "plt.plot(years, gdp_nz, 'g-', label='New Zealand')\n",
    "\n",
    "# Create legend.\n",
    "plt.legend(loc='upper left')\n",
    "plt.xlabel('Year')\n",
    "plt.ylabel('GDP per capita ($)')"
   ]
  },
  {
   "cell_type": "markdown",
   "id": "e4133a9c-24ba-4d23-ba7a-da7596396578",
   "metadata": {},
   "source": [
    "## Adding a Legend\n",
    "\n",
    "Often when plotting multiple datasets on the same figure it is desirable to have\n",
    "a legend describing the data.\n",
    "\n",
    "This can be done in `matplotlib` in two stages:\n",
    "\n",
    "- Provide a label for each dataset in the figure:"
   ]
  },
  {
   "cell_type": "code",
   "execution_count": 222,
   "id": "00f16b64-19c5-434c-9c31-14ff5cc93a5f",
   "metadata": {},
   "outputs": [
    {
     "data": {
      "text/plain": [
       "[<matplotlib.lines.Line2D at 0x15ea6a99010>]"
      ]
     },
     "execution_count": 222,
     "metadata": {},
     "output_type": "execute_result"
    },
    {
     "data": {
      "image/png": "[encoded data removed]",
      "text/plain": [
       "<Figure size 640x480 with 1 Axes>"
      ]
     },
     "metadata": {},
     "output_type": "display_data"
    }
   ],
   "source": [
    "plt.plot(years, gdp_australia, label='Australia')\n",
    "plt.plot(years, gdp_nz, label='New Zealand')"
   ]
  },
  {
   "cell_type": "markdown",
   "id": "9c60a39a-39fa-416a-b984-ae010cf1cbf6",
   "metadata": {},
   "source": [
    "- Instruct `matplotlib` to create the legend."
   ]
  },
  {
   "cell_type": "code",
   "execution_count": 229,
   "id": "5e1eaa9b-7d03-4971-aead-0abe4515729a",
   "metadata": {},
   "outputs": [
    {
     "data": {
      "text/plain": [
       "<matplotlib.legend.Legend at 0x15ea6b6ae70>"
      ]
     },
     "execution_count": 229,
     "metadata": {},
     "output_type": "execute_result"
    },
    {
     "data": {
      "image/png": "[encoded data removed]",
      "text/plain": [
       "<Figure size 640x480 with 1 Axes>"
      ]
     },
     "metadata": {},
     "output_type": "display_data"
    }
   ],
   "source": [
    "plt.plot(years, gdp_australia, label='Australia')\n",
    "plt.plot(years, gdp_nz, label='New Zealand')\n",
    "plt.legend()"
   ]
  },
  {
   "cell_type": "markdown",
   "id": "3413b6af-f219-44ad-93fb-327aac9e0198",
   "metadata": {},
   "source": [
    "By default matplotlib will attempt to place the legend in a suitable position. If you\n",
    "would rather specify a position this can be done with the `loc=` argument, e.g to place\n",
    "the legend in the upper left corner of the plot, specify `loc='upper left'`"
   ]
  },
  {
   "cell_type": "markdown",
   "id": "00e161fc-9eca-4883-87f6-8b3bc3fae6d2",
   "metadata": {},
   "source": [
    "- Plot a scatter plot correlating the GDP of Australia and New Zealand\n",
    "- Use either `plt.scatter` or `DataFrame.plot.scatter`"
   ]
  },
  {
   "cell_type": "code",
   "execution_count": 233,
   "id": "a0d430a9-761a-4630-9c54-b86b000fba59",
   "metadata": {},
   "outputs": [
    {
     "data": {
      "text/plain": [
       "<matplotlib.collections.PathCollection at 0x15ea6c98380>"
      ]
     },
     "execution_count": 233,
     "metadata": {},
     "output_type": "execute_result"
    },
    {
     "data": {
      "image/png": "[encoded data removed]",
      "text/plain": [
       "<Figure size 640x480 with 1 Axes>"
      ]
     },
     "metadata": {},
     "output_type": "display_data"
    }
   ],
   "source": [
    "plt.scatter(gdp_australia, gdp_nz)"
   ]
  },
  {
   "cell_type": "code",
   "execution_count": 235,
   "id": "614e418d-6765-4b44-8e6a-e58d04e525e5",
   "metadata": {},
   "outputs": [
    {
     "data": {
      "text/plain": [
       "<matplotlib.collections.PathCollection at 0x15ea6a5cc20>"
      ]
     },
     "execution_count": 235,
     "metadata": {},
     "output_type": "execute_result"
    },
    {
     "data": {
      "image/png": "[encoded data removed]",
      "text/plain": [
       "<Figure size 640x480 with 1 Axes>"
      ]
     },
     "metadata": {},
     "output_type": "display_data"
    }
   ],
   "source": [
    "plt.scatter(gdp_australia, gdp_nz)"
   ]
  },
  {
   "cell_type": "code",
   "execution_count": 237,
   "id": "7b003e0c-8148-4c73-9ec4-016b69e97e1d",
   "metadata": {},
   "outputs": [
    {
     "data": {
      "text/plain": [
       "<Axes: xlabel='Australia', ylabel='New Zealand'>"
      ]
     },
     "execution_count": 237,
     "metadata": {},
     "output_type": "execute_result"
    },
    {
     "data": {
      "image/png": "[encoded data removed]",
      "text/plain": [
       "<Figure size 640x480 with 1 Axes>"
      ]
     },
     "metadata": {},
     "output_type": "display_data"
    }
   ],
   "source": [
    "data.T.plot.scatter(x = 'Australia', y = 'New Zealand')"
   ]
  },
  {
   "cell_type": "markdown",
   "id": "82fa04ed-9abc-4cb1-9963-f8e4f167eab1",
   "metadata": {},
   "source": [
    "## Saving Your Plot to a File\n",
    "If you are satisfied with the plot you see you may want to save it to a file, perhaps to include it in a publication. There is a function in the matplotlib.pyplot module that accomplishes this: [savefig](https://matplotlib.org/stable/api/_as_gen/matplotlib.pyplot.savefig.html). Calling this function, e.g. with\n",
    "```python\n",
    "plt.savefig('my_figure.png')\n",
    "```\n",
    "will save the current figure to the file **my_figure.png**. The file format will automatically be deduced from the file name extension (other formats are pdf, ps, eps and svg).\n",
    "\n",
    "Note that functions in **plt** refer to a global figure variable and after a figure has been displayed to the screen (e.g. with **plt.show**) matplotlib will make this variable refer to a new empty figure. Therefore, make sure you call **plt.savefig** before the plot is displayed to the screen, otherwise you may find a file with an empty plot.\n",
    "\n",
    "When using dataframes, data is often generated and plotted to screen in one line. In addition to using **plt.savefig**, we can save a reference to the current figure in a local variable (with **plt.gcf**) and call the **savefig** class method from that variable to save the figure to file.\n",
    "\n",
    "```python\n",
    "data.plot(kind='bar')\n",
    "fig = plt.gcf() # get current figure\n",
    "fig.savefig('my_figure.png')\n",
    "```"
   ]
  },
  {
   "cell_type": "markdown",
   "id": "f7bd267f-1b12-4562-a1df-c892843c0d8d",
   "metadata": {},
   "source": [
    "## Making Your Plots Accessible\n",
    "Whenever you are generating plots to go into a paper or a presentation, there are a few things you can do to make sure that everyone can understand your plots.\n",
    "- Always make sure your text is large enough to read. Use the fontsize parameter in xlabel, ylabel, title, and legend, and [tick_params with labelsize](https://matplotlib.org/stable/api/_as_gen/matplotlib.axes.Axes.tick_params.html) to increase the text size of the numbers on your axes.\n",
    "- Similarly, you should make your graph elements easy to see. Use s to increase the size of your scatterplot markers and linewidth to increase the sizes of your plot lines.\n",
    "- Using color (and nothing else) to distinguish between different plot elements will make your plots unreadable to anyone who is colorblind, or who happens to have a black-and-white office printer. For lines, the linestyle parameter lets you use different types of lines. For scatterplots, marker lets you change the shape of your points. If you’re unsure about your colors, you can use [Coblis](https://www.color-blindness.com/coblis-color-blindness-simulator/) or [Color Oracle](https://colororacle.org/) to simulate what your plots would look like to those with colorblindness."
   ]
  },
  {
   "cell_type": "markdown",
   "id": "e501f58c-64e7-420e-9054-ccf0b5faf6ee",
   "metadata": {},
   "source": [
    "# **Lists**"
   ]
  },
  {
   "cell_type": "markdown",
   "id": "8db0c49f-bd9d-4027-96cd-601673ec96df",
   "metadata": {
    "jp-MarkdownHeadingCollapsed": true
   },
   "source": [
    "## Overview\n",
    "### Questions\n",
    "- How can I store multiple values?\n",
    "<hr>\n",
    "\n",
    "### Objectives\n",
    "- Explain why programs need collections of values.\n",
    "- Write programs that create flat lists, index them, slice them, and modify them through assignment and method calls."
   ]
  },
  {
   "cell_type": "markdown",
   "id": "053156af-910f-4cf1-93e3-b56d292eaaf0",
   "metadata": {},
   "source": [
    "## A list stores many values in a single structure.\n",
    "\n",
    "- Doing calculations with a hundred variables called `pressure_001`, `pressure_002`, etc.,\n",
    "  would be at least as slow as doing them by hand.\n",
    "- Use a *list* to store many values together.\n",
    "  - Contained within square brackets `[...]`.\n",
    "  - Values separated by commas `,`.\n",
    "- Use `len` to find out how many values are in a list."
   ]
  },
  {
   "cell_type": "code",
   "execution_count": 244,
   "id": "8d66b91a-8e95-4cde-815d-819a533e091a",
   "metadata": {},
   "outputs": [
    {
     "name": "stdout",
     "output_type": "stream",
     "text": [
      "pressures: [0.273, 0.275, 0.277, 0.275, 0.276]\n",
      "length: 5\n"
     ]
    }
   ],
   "source": [
    "pressures = [0.273, 0.275, 0.277, 0.275, 0.276]\n",
    "print('pressures:', pressures)\n",
    "print('length:', len(pressures))"
   ]
  },
  {
   "cell_type": "markdown",
   "id": "ceee93e4-38cb-4eab-a338-f7456e905363",
   "metadata": {},
   "source": [
    "## Use an item's index to fetch it from a list.\n",
    "\n",
    "- Just like strings.\n"
   ]
  },
  {
   "cell_type": "code",
   "execution_count": 247,
   "id": "c6528d45-f146-4a78-923c-0d5f4aa77052",
   "metadata": {},
   "outputs": [
    {
     "name": "stdout",
     "output_type": "stream",
     "text": [
      "zeroth item of pressures: 0.273\n",
      "fourth item of pressures: 0.276\n"
     ]
    }
   ],
   "source": [
    "print('zeroth item of pressures:', pressures[0])\n",
    "print('fourth item of pressures:', pressures[4])"
   ]
  },
  {
   "cell_type": "markdown",
   "id": "35fb85d1-4b1d-4b6c-a288-5d9ff7b4f9d5",
   "metadata": {},
   "source": [
    "## Lists' values can be replaced by assigning to them.\n",
    "\n",
    "- Use an index expression on the left of assignment to replace a value."
   ]
  },
  {
   "cell_type": "code",
   "execution_count": 250,
   "id": "c1ab8665-1468-4f74-8db9-6a42ea1b4e74",
   "metadata": {},
   "outputs": [
    {
     "name": "stdout",
     "output_type": "stream",
     "text": [
      "pressures is now: [0.265, 0.275, 0.277, 0.275, 0.276]\n"
     ]
    }
   ],
   "source": [
    "pressures[0] = 0.265\n",
    "print('pressures is now:', pressures)"
   ]
  },
  {
   "cell_type": "markdown",
   "id": "4ff4d736-d6b7-45e9-a764-10d674fa8b1a",
   "metadata": {},
   "source": [
    "## Appending items to a list lengthens it.\n",
    "\n",
    "- Use `list_name.append` to add items to the end of a list."
   ]
  },
  {
   "cell_type": "code",
   "execution_count": 253,
   "id": "24a7eb86-a376-4868-b750-4e77ec682975",
   "metadata": {},
   "outputs": [
    {
     "name": "stdout",
     "output_type": "stream",
     "text": [
      "primes is initially: [2, 3, 5]\n",
      "primes has become: [2, 3, 5, 7]\n"
     ]
    }
   ],
   "source": [
    "primes = [2, 3, 5]\n",
    "print('primes is initially:', primes)\n",
    "primes.append(7)\n",
    "print('primes has become:', primes)"
   ]
  },
  {
   "cell_type": "markdown",
   "id": "1b06bdd5-4816-4e1b-833d-3d04bcbf26a8",
   "metadata": {},
   "source": [
    "- `append` is a *method* of lists.\n",
    "  - Like a function, but tied to a particular object.\n",
    "- Use `object_name.method_name` to call methods.\n",
    "  - Deliberately resembles the way we refer to things in a library.\n",
    "- We will meet other methods of lists as we go along.\n",
    "  - Use `help(list)` for a preview.\n",
    "- `extend` is similar to `append`, but it allows you to combine two lists.  For example:"
   ]
  },
  {
   "cell_type": "code",
   "execution_count": 256,
   "id": "0a4f5725-e9ba-46c4-9561-cf3632fdefa5",
   "metadata": {},
   "outputs": [
    {
     "name": "stdout",
     "output_type": "stream",
     "text": [
      "primes is currently: [2, 3, 5, 7]\n",
      "primes has now become: [2, 3, 5, 7, 11, 13, 17, 19]\n",
      "primes has finally become: [2, 3, 5, 7, 11, 13, 17, 19, [37, 41, 43, 47]]\n"
     ]
    }
   ],
   "source": [
    "teen_primes = [11, 13, 17, 19]\n",
    "middle_aged_primes = [37, 41, 43, 47]\n",
    "print('primes is currently:', primes)\n",
    "primes.extend(teen_primes)\n",
    "print('primes has now become:', primes)\n",
    "primes.append(middle_aged_primes)\n",
    "print('primes has finally become:', primes)"
   ]
  },
  {
   "cell_type": "markdown",
   "id": "63adcadd-442d-4eb6-ba00-7681482ed263",
   "metadata": {},
   "source": [
    "Note that while **extend** maintains the \"flat\" structure of the list, appending a list to a list means\n",
    "the last element in **primes** will itself be a list, not an integer. Lists can contain values of any\n",
    "type; therefore, lists of lists are possible."
   ]
  },
  {
   "cell_type": "markdown",
   "id": "981b1c01-fb83-428f-a214-811cf4feff96",
   "metadata": {},
   "source": [
    "## Use `del` to remove items from a list entirely.\n",
    "\n",
    "- We use `del list_name[index]` to remove an element from a list (in the example, 9 is not a prime number) and thus shorten it.\n",
    "- `del` is not a function or a method, but a statement in the language."
   ]
  },
  {
   "cell_type": "code",
   "execution_count": 260,
   "id": "52aca7b5-d016-4954-902d-5491bf412386",
   "metadata": {},
   "outputs": [
    {
     "name": "stdout",
     "output_type": "stream",
     "text": [
      "primes before removing last item: [2, 3, 5, 7, 9]\n",
      "primes after removing last item: [2, 3, 5, 7]\n"
     ]
    }
   ],
   "source": [
    "primes = [2, 3, 5, 7, 9]\n",
    "print('primes before removing last item:', primes)\n",
    "del primes[4]\n",
    "print('primes after removing last item:', primes)"
   ]
  },
  {
   "cell_type": "markdown",
   "id": "5715ab01-8611-4d9a-acf2-183a9aafe1b2",
   "metadata": {},
   "source": [
    "## The empty list contains no values.\n",
    "\n",
    "- Use `[]` on its own to represent a list that doesn't contain any values.\n",
    "  - \"The zero of lists.\"\n",
    "- Helpful as a starting point for collecting values\n",
    "  (which we will see in the [next episode](12-for-loops.md))."
   ]
  },
  {
   "cell_type": "markdown",
   "id": "eb081840-2e72-453e-b48f-6d7e3817f34b",
   "metadata": {},
   "source": [
    "## Lists may contain values of different types.\n",
    "\n",
    "- A single list may contain numbers, strings, and anything else."
   ]
  },
  {
   "cell_type": "code",
   "execution_count": 264,
   "id": "8a40f90c-924c-4aa6-96c5-b352aadec620",
   "metadata": {},
   "outputs": [],
   "source": [
    "goals = [1, 'Create lists.', 2, 'Extract items from lists.', 3, 'Modify lists.']"
   ]
  },
  {
   "cell_type": "markdown",
   "id": "e70726a2-75fc-436c-9cc2-e2dbd4612a12",
   "metadata": {},
   "source": [
    "## Character strings can be indexed like lists.\n",
    "\n",
    "- Get single characters from a character string using indexes in square brackets."
   ]
  },
  {
   "cell_type": "code",
   "execution_count": 267,
   "id": "4705e689-e124-43bf-afb2-a3f42de36230",
   "metadata": {},
   "outputs": [
    {
     "name": "stdout",
     "output_type": "stream",
     "text": [
      "zeroth character: c\n",
      "third character: b\n"
     ]
    }
   ],
   "source": [
    "element = 'carbon'\n",
    "print('zeroth character:', element[0])\n",
    "print('third character:', element[3])"
   ]
  },
  {
   "cell_type": "markdown",
   "id": "81853027-977a-4781-a4af-9a8c321d1dcc",
   "metadata": {},
   "source": [
    "## Character strings are immutable.\n",
    "\n",
    "- Cannot change the characters in a string after it has been created.\n",
    "  - *Immutable*: can't be changed after creation.\n",
    "  - In contrast, lists are *mutable*: they can be modified in place.\n",
    "- Python considers the string to be a single value with parts,\n",
    "  not a collection of values."
   ]
  },
  {
   "cell_type": "code",
   "execution_count": 270,
   "id": "81e904dd-1794-4857-989f-40f002a88dad",
   "metadata": {},
   "outputs": [
    {
     "ename": "TypeError",
     "evalue": "'str' object does not support item assignment",
     "output_type": "error",
     "traceback": [
      "\u001b[1;31m---------------------------------------------------------------------------\u001b[0m",
      "\u001b[1;31mTypeError\u001b[0m                                 Traceback (most recent call last)",
      "Cell \u001b[1;32mIn[270], line 1\u001b[0m\n\u001b[1;32m----> 1\u001b[0m element[\u001b[38;5;241m0\u001b[39m] \u001b[38;5;241m=\u001b[39m \u001b[38;5;124m'\u001b[39m\u001b[38;5;124mC\u001b[39m\u001b[38;5;124m'\u001b[39m\n",
      "\u001b[1;31mTypeError\u001b[0m: 'str' object does not support item assignment"
     ]
    }
   ],
   "source": [
    "element[0] = 'C'"
   ]
  },
  {
   "cell_type": "markdown",
   "id": "578e49b2-6965-4e49-ad30-0e6de8a57694",
   "metadata": {},
   "source": [
    "- Lists and character strings are both *collections*."
   ]
  },
  {
   "cell_type": "markdown",
   "id": "2adf0c23-22c5-4f0d-940d-0e53f15f6742",
   "metadata": {},
   "source": [
    "## Indexing beyond the end of the collection is an error.\n",
    "\n",
    "- Python reports an `IndexError` if we attempt to access a value that doesn't exist.\n",
    "  - This is a kind of [runtime error](04-built-in.md).\n",
    "  - Cannot be detected as the code is parsed\n",
    "    because the index might be calculated based on data."
   ]
  },
  {
   "cell_type": "code",
   "execution_count": 274,
   "id": "b99d91ae-08fc-4378-9a88-17fcf9359dcd",
   "metadata": {},
   "outputs": [
    {
     "ename": "IndexError",
     "evalue": "string index out of range",
     "output_type": "error",
     "traceback": [
      "\u001b[1;31m---------------------------------------------------------------------------\u001b[0m",
      "\u001b[1;31mIndexError\u001b[0m                                Traceback (most recent call last)",
      "Cell \u001b[1;32mIn[274], line 1\u001b[0m\n\u001b[1;32m----> 1\u001b[0m \u001b[38;5;28mprint\u001b[39m(\u001b[38;5;124m'\u001b[39m\u001b[38;5;124m99th element of element is:\u001b[39m\u001b[38;5;124m'\u001b[39m, element[\u001b[38;5;241m99\u001b[39m])\n",
      "\u001b[1;31mIndexError\u001b[0m: string index out of range"
     ]
    }
   ],
   "source": [
    "print('99th element of element is:', element[99])"
   ]
  },
  {
   "cell_type": "markdown",
   "id": "1f1552e4-33a9-4967-823e-46db72f24987",
   "metadata": {},
   "source": [
    "# **For Loops**"
   ]
  },
  {
   "cell_type": "markdown",
   "id": "9480fd32-05e2-437f-bc9b-faf23a742461",
   "metadata": {},
   "source": [
    "## Overview\n",
    "### Questions\n",
    "- How can I make a program do many things?\n",
    "<hr>\n",
    "\n",
    "### Objectives\n",
    "- Explain what for loops are normally used for.\n",
    "- Trace the execution of a simple (unnested) loop and correctly state the values of variables in each iteration.\n",
    "- Write for loops that use the Accumulator pattern to aggregate values."
   ]
  },
  {
   "cell_type": "markdown",
   "id": "30412d04-3de2-40b8-8138-57f58fe24633",
   "metadata": {},
   "source": [
    "## A *for loop* executes commands once for each value in a collection.\n",
    "\n",
    "- Doing calculations on the values in a list one by one\n",
    "  is as painful as working with `pressure_001`, `pressure_002`, etc.\n",
    "- A *for loop* tells Python to execute some statements once for each value in a list,\n",
    "  a character string,\n",
    "  or some other collection.\n",
    "- \"for each thing in this group, do these operations\""
   ]
  },
  {
   "cell_type": "code",
   "execution_count": 279,
   "id": "615fb2dd-4eac-4b08-a122-37cfe36131da",
   "metadata": {},
   "outputs": [
    {
     "name": "stdout",
     "output_type": "stream",
     "text": [
      "2\n",
      "3\n",
      "5\n"
     ]
    }
   ],
   "source": [
    "for number in [2, 3, 5]:\n",
    "    print(number)"
   ]
  },
  {
   "cell_type": "markdown",
   "id": "f10cb635-7da5-4ef8-8619-ef38285f57c0",
   "metadata": {},
   "source": [
    "- This `for` loop is equivalent to:"
   ]
  },
  {
   "cell_type": "code",
   "execution_count": 282,
   "id": "01016f3d-629b-4b16-939c-a67d8da06d48",
   "metadata": {},
   "outputs": [
    {
     "name": "stdout",
     "output_type": "stream",
     "text": [
      "2\n",
      "3\n",
      "5\n"
     ]
    }
   ],
   "source": [
    "print(2)\n",
    "print(3)\n",
    "print(5)"
   ]
  },
  {
   "cell_type": "markdown",
   "id": "b585d31d-886d-4ab1-b9ed-dfd727455633",
   "metadata": {},
   "source": [
    "## A `for` loop is made up of a collection, a loop variable, and a body."
   ]
  },
  {
   "cell_type": "code",
   "execution_count": 285,
   "id": "d9e1293f-86c9-4152-93dd-81443bafb213",
   "metadata": {},
   "outputs": [
    {
     "name": "stdout",
     "output_type": "stream",
     "text": [
      "2\n",
      "3\n",
      "5\n"
     ]
    }
   ],
   "source": [
    "for number in [2,3,5]:\n",
    "    print(number)"
   ]
  },
  {
   "cell_type": "markdown",
   "id": "602735fd-84ac-485a-8111-c3a06f0714cd",
   "metadata": {},
   "source": [
    "- The collection, `[2, 3, 5]`, is what the loop is being run on.\n",
    "- The body, `print(number)`, specifies what to do for each value in the collection.\n",
    "- The loop variable, `number`, is what changes for each *iteration* of the loop.\n",
    "  - The \"current thing\"."
   ]
  },
  {
   "cell_type": "markdown",
   "id": "cbb3bd03-e088-4d71-968c-864986c4ac00",
   "metadata": {},
   "source": [
    "## The first line of the `for` loop must end with a colon, and the body must be indented.\n",
    "\n",
    "- The colon at the end of the first line signals the start of a *block* of statements.\n",
    "- Python uses indentation rather than `{}` or `begin`/`end` to show *nesting*.\n",
    "  - Any consistent indentation is legal, but almost everyone uses four spaces."
   ]
  },
  {
   "cell_type": "code",
   "execution_count": 289,
   "id": "9ecc69f8-13cf-4967-bc58-be15b10f3285",
   "metadata": {},
   "outputs": [
    {
     "ename": "IndentationError",
     "evalue": "expected an indented block after 'for' statement on line 1 (350196295.py, line 2)",
     "output_type": "error",
     "traceback": [
      "\u001b[1;36m  Cell \u001b[1;32mIn[289], line 2\u001b[1;36m\u001b[0m\n\u001b[1;33m    print(number)\u001b[0m\n\u001b[1;37m    ^\u001b[0m\n\u001b[1;31mIndentationError\u001b[0m\u001b[1;31m:\u001b[0m expected an indented block after 'for' statement on line 1\n"
     ]
    }
   ],
   "source": [
    "for number in [2, 3, 5]:\n",
    "print(number)"
   ]
  },
  {
   "cell_type": "markdown",
   "id": "8b09ab9c-2ad1-4aaf-9899-f0c7964b7083",
   "metadata": {},
   "source": [
    "- Indentation is always meaningful in Python."
   ]
  },
  {
   "cell_type": "code",
   "execution_count": 292,
   "id": "370e795b-0600-445e-8177-eef62bcae121",
   "metadata": {},
   "outputs": [
    {
     "ename": "IndentationError",
     "evalue": "unexpected indent (1049360308.py, line 2)",
     "output_type": "error",
     "traceback": [
      "\u001b[1;36m  Cell \u001b[1;32mIn[292], line 2\u001b[1;36m\u001b[0m\n\u001b[1;33m    lastName = \"Smith\"\u001b[0m\n\u001b[1;37m    ^\u001b[0m\n\u001b[1;31mIndentationError\u001b[0m\u001b[1;31m:\u001b[0m unexpected indent\n"
     ]
    }
   ],
   "source": [
    "firstName = \"Jon\"\n",
    "  lastName = \"Smith\""
   ]
  },
  {
   "cell_type": "markdown",
   "id": "6829c661-da48-4cc4-b576-548b911abdce",
   "metadata": {},
   "source": [
    "- This error can be fixed by removing the extra spaces\n",
    "  at the beginning of the second line."
   ]
  },
  {
   "cell_type": "markdown",
   "id": "5f7997b2-9c22-4811-8f58-c4d467a9fad0",
   "metadata": {},
   "source": [
    "## Loop variables can be called anything.\n",
    "\n",
    "- As with all variables, loop variables are:\n",
    "  - Created on demand.\n",
    "  - Meaningless: their names can be anything at all."
   ]
  },
  {
   "cell_type": "code",
   "execution_count": 296,
   "id": "e68e082d-9207-428a-b29c-2db0d9c998d9",
   "metadata": {},
   "outputs": [
    {
     "name": "stdout",
     "output_type": "stream",
     "text": [
      "2\n",
      "3\n",
      "5\n"
     ]
    }
   ],
   "source": [
    "for kitten in [2, 3, 5]:\n",
    "    print(kitten)"
   ]
  },
  {
   "cell_type": "markdown",
   "id": "26cd2238-6da0-4d9e-9e4d-bfe2b99bc90f",
   "metadata": {},
   "source": [
    "## The body of a loop can contain many statements.\n",
    "\n",
    "- But no loop should be more than a few lines long.\n",
    "- Hard for human beings to keep larger chunks of code in mind."
   ]
  },
  {
   "cell_type": "code",
   "execution_count": 299,
   "id": "11a161ed-1cd2-4b59-9c05-81ec5cdc261f",
   "metadata": {},
   "outputs": [
    {
     "name": "stdout",
     "output_type": "stream",
     "text": [
      "2 4 8\n",
      "3 9 27\n",
      "5 25 125\n"
     ]
    }
   ],
   "source": [
    "primes = [2, 3, 5]\n",
    "for p in primes:\n",
    "    squared = p ** 2\n",
    "    cubed = p ** 3\n",
    "    print(p, squared, cubed)"
   ]
  },
  {
   "cell_type": "markdown",
   "id": "233bfc77-2f8d-4362-b0ed-26397180431b",
   "metadata": {},
   "source": [
    "## Use `range` to iterate over a sequence of numbers.\n",
    "\n",
    "- The built-in function [range](https://docs.python.org/3/library/stdtypes.html#range) produces a sequence of numbers.\n",
    "  - *Not* a list: the numbers are produced on demand\n",
    "    to make looping over large ranges more efficient.\n",
    "- `range(N)` is the numbers 0..N-1\n",
    "  - Exactly the legal indices of a list or character string of length N"
   ]
  },
  {
   "cell_type": "code",
   "execution_count": 302,
   "id": "200a1c08-cfac-4820-a7e3-7ce33456b78a",
   "metadata": {},
   "outputs": [
    {
     "name": "stdout",
     "output_type": "stream",
     "text": [
      "a range is not a list: range(0, 3)\n",
      "0\n",
      "1\n",
      "2\n"
     ]
    }
   ],
   "source": [
    "print('a range is not a list: range(0, 3)')\n",
    "for number in range(0, 3):\n",
    "    print(number)"
   ]
  },
  {
   "cell_type": "markdown",
   "id": "f363c000-e1d1-4e5f-89d6-1dc4d9f212d1",
   "metadata": {},
   "source": [
    "## The Accumulator pattern turns many values into one.\n",
    "\n",
    "- A common pattern in programs is to:\n",
    "  1. Initialize an *accumulator* variable to zero, the empty string, or the empty list.\n",
    "  2. Update the variable with values from a collection."
   ]
  },
  {
   "cell_type": "code",
   "execution_count": 305,
   "id": "bbacf203-d1ba-4c6c-8548-aded86a429be",
   "metadata": {},
   "outputs": [
    {
     "name": "stdout",
     "output_type": "stream",
     "text": [
      "55\n"
     ]
    }
   ],
   "source": [
    "# Sum the first 10 integers.\n",
    "total = 0\n",
    "for number in range(10):\n",
    "   total = total + (number + 1)\n",
    "print(total)"
   ]
  },
  {
   "cell_type": "markdown",
   "id": "e8a41a96-0d12-4bf9-b372-acd599839020",
   "metadata": {},
   "source": [
    "- Read `total = total + (number + 1)` as:\n",
    "    - Add 1 to the current value of the loop variable number.\n",
    "    - Add that to the current value of the accumulator variable total.\n",
    "    - Assign that to `total`, replacing the current value.\n",
    "- We have to add `number + 1` because range produces 0..9, not 1..10."
   ]
  },
  {
   "cell_type": "markdown",
   "id": "c5062b0e-2112-45d3-b2d1-d653d581d637",
   "metadata": {},
   "source": [
    "# **Conditionals**"
   ]
  },
  {
   "cell_type": "markdown",
   "id": "c455834f-5c47-42c4-aaaa-e18580f70f2c",
   "metadata": {},
   "source": [
    "## Overview\n",
    "### Questions\n",
    "- How can programs do different things for different data?\n",
    "<hr>\n",
    "\n",
    "### Objectives\n",
    "- Correctly write programs that use if and else statements and simple Boolean expressions (without logical operators).\n",
    "- Trace the execution of unnested conditionals and conditionals inside loops."
   ]
  },
  {
   "cell_type": "markdown",
   "id": "aa974b27-2264-41c7-a2ef-70dbc420807d",
   "metadata": {},
   "source": [
    "## Use `if` statements to control whether or not a block of code is executed.\n",
    "\n",
    "- An `if` statement (more properly called a *conditional* statement)\n",
    "  controls whether some block of code is executed or not.\n",
    "- Structure is similar to a `for` statement:\n",
    "  - First line opens with `if` and ends with a colon\n",
    "  - Body containing one or more statements is indented (usually by 4 spaces)"
   ]
  },
  {
   "cell_type": "code",
   "execution_count": 311,
   "id": "cff8526a-52a2-45a6-ba03-ee86980c9fd7",
   "metadata": {},
   "outputs": [
    {
     "name": "stdout",
     "output_type": "stream",
     "text": [
      "3.54 is large\n"
     ]
    }
   ],
   "source": [
    "mass = 3.54\n",
    "if mass > 3.0:\n",
    "    print(mass, 'is large')\n",
    "\n",
    "mass = 2.07\n",
    "if mass > 3.0:\n",
    "    print (mass, 'is large')"
   ]
  },
  {
   "cell_type": "markdown",
   "id": "355facba-0bff-4ab6-9149-40a81ec2f331",
   "metadata": {},
   "source": [
    "## Conditionals are often used inside loops.\n",
    "\n",
    "- Not much point using a conditional when we know the value (as above).\n",
    "- But useful when we have a collection to process."
   ]
  },
  {
   "cell_type": "code",
   "execution_count": 314,
   "id": "e36fadd7-d43f-4c6f-848b-716231f2e957",
   "metadata": {},
   "outputs": [
    {
     "name": "stdout",
     "output_type": "stream",
     "text": [
      "3.54 is large\n",
      "9.22 is large\n"
     ]
    }
   ],
   "source": [
    "masses = [3.54, 2.07, 9.22, 1.86, 1.71]\n",
    "for m in masses:\n",
    "    if m > 3.0:\n",
    "        print(m, 'is large')"
   ]
  },
  {
   "cell_type": "markdown",
   "id": "cc687ec1-3dab-45b7-933f-314b457ea103",
   "metadata": {},
   "source": [
    "## Use `else` to execute a block of code when an `if` condition is *not* true.\n",
    "\n",
    "- `else` can be used following an `if`.\n",
    "- Allows us to specify an alternative to execute when the `if` *branch* isn't taken."
   ]
  },
  {
   "cell_type": "code",
   "execution_count": 317,
   "id": "6217cce6-12e2-4176-9b73-a3a42ff6a5cd",
   "metadata": {},
   "outputs": [
    {
     "name": "stdout",
     "output_type": "stream",
     "text": [
      "3.54 is large\n",
      "2.07 is small\n",
      "9.22 is large\n",
      "1.86 is small\n",
      "1.71 is small\n"
     ]
    }
   ],
   "source": [
    "masses = [3.54, 2.07, 9.22, 1.86, 1.71]\n",
    "for m in masses:\n",
    "    if m > 3.0:\n",
    "        print(m, 'is large')\n",
    "    else:\n",
    "        print(m, 'is small')"
   ]
  },
  {
   "cell_type": "markdown",
   "id": "0682a1a4-b7ad-45ab-8ffd-0ff5fa4b32f3",
   "metadata": {},
   "source": [
    "## Use `elif` to specify additional tests.\n",
    "\n",
    "- May want to provide several alternative choices, each with its own test.\n",
    "- Use `elif` (short for \"else if\") and a condition to specify these.\n",
    "- Always associated with an `if`.\n",
    "- Must come before the `else` (which is the \"catch all\")."
   ]
  },
  {
   "cell_type": "code",
   "execution_count": 320,
   "id": "9bd93fe2-be44-4dc2-bde7-965f8584ac9c",
   "metadata": {},
   "outputs": [
    {
     "name": "stdout",
     "output_type": "stream",
     "text": [
      "3.54 is large\n",
      "2.07 is small\n",
      "9.22 is HUGE\n",
      "1.86 is small\n",
      "1.71 is small\n"
     ]
    }
   ],
   "source": [
    "masses = [3.54, 2.07, 9.22, 1.86, 1.71]\n",
    "for m in masses:\n",
    "    if m > 9.0:\n",
    "        print(m, 'is HUGE')\n",
    "    elif m > 3.0:\n",
    "        print(m, 'is large')\n",
    "    else:\n",
    "        print(m, 'is small')"
   ]
  },
  {
   "cell_type": "markdown",
   "id": "8ee584f0-052b-409f-a897-3231443038d9",
   "metadata": {},
   "source": [
    "## Conditions are tested once, in order.\n",
    "\n",
    "- Python steps through the branches of the conditional in order, testing each in turn.\n",
    "- So ordering matters."
   ]
  },
  {
   "cell_type": "code",
   "execution_count": 323,
   "id": "6604bee8-c119-4f48-80cc-c5d089f4a160",
   "metadata": {},
   "outputs": [
    {
     "name": "stdout",
     "output_type": "stream",
     "text": [
      "grade is B\n"
     ]
    }
   ],
   "source": [
    "grade = 85\n",
    "if grade >= 90:\n",
    "    print('grade is A')\n",
    "elif grade >= 80:\n",
    "    print('grade is B')\n",
    "elif grade >= 70:\n",
    "    print('grade is C')"
   ]
  },
  {
   "cell_type": "markdown",
   "id": "97d339a7-5dad-49bf-a0b6-e2a16177322f",
   "metadata": {},
   "source": [
    "- Does *not* automatically go back and re-evaluate if values change."
   ]
  },
  {
   "cell_type": "code",
   "execution_count": 326,
   "id": "5496d296-0718-4835-aba8-afb9a8e9c0d3",
   "metadata": {},
   "outputs": [
    {
     "name": "stdout",
     "output_type": "stream",
     "text": [
      "adjusting velocity\n"
     ]
    }
   ],
   "source": [
    "velocity = 10.0\n",
    "if velocity > 20.0:\n",
    "    print('moving too fast')\n",
    "else:\n",
    "    print('adjusting velocity')\n",
    "    velocity = 50.0"
   ]
  },
  {
   "cell_type": "markdown",
   "id": "7e53d7aa-59ba-4ed0-b014-712f29c63745",
   "metadata": {},
   "source": [
    "- Often use conditionals in a loop to \"evolve\" the values of variables."
   ]
  },
  {
   "cell_type": "code",
   "execution_count": 329,
   "id": "ac720efa-fcb4-451d-bf12-31f3fe718c63",
   "metadata": {},
   "outputs": [
    {
     "name": "stdout",
     "output_type": "stream",
     "text": [
      "0 : 10.0\n",
      "moving too slow\n",
      "1 : 20.0\n",
      "moving too slow\n",
      "2 : 30.0\n",
      "moving too fast\n",
      "3 : 25.0\n",
      "moving too fast\n",
      "4 : 20.0\n",
      "moving too slow\n",
      "final velocity: 30.0\n"
     ]
    }
   ],
   "source": [
    "velocity = 10.0\n",
    "for i in range(5): # execute the loop 5 times\n",
    "    print(i, ':', velocity)\n",
    "    if velocity > 20.0:\n",
    "        print('moving too fast')\n",
    "        velocity = velocity - 5.0\n",
    "    else:\n",
    "        print('moving too slow')\n",
    "        velocity = velocity + 10.0\n",
    "print('final velocity:', velocity)"
   ]
  },
  {
   "cell_type": "markdown",
   "id": "7f418a5d-11ff-4ee8-81f8-b15c866ca8fa",
   "metadata": {},
   "source": [
    "## Create a table showing variables' values to trace a program's execution.\n",
    "\n",
    "<table>\n",
    "  <tr>   <td><strong>i</strong></td>   <td>0</td>   <td>.</td>   <td>1</td>   <td>.</td>   <td>2</td>   <td>.</td>   <td>3</td>   <td>.</td>   <td>4</td>   <td>.</td>\n",
    "  </tr>\n",
    "  <tr>   <td><strong>velocity</strong></td>   <td>10.0</td>   <td>20.0</td>   <td>.</td>   <td>30.0</td>   <td>.</td>   <td>25.0</td>   <td>.</td>   <td>20.0</td>   <td>.</td>   <td>30.0</td>\n",
    "  </tr>\n",
    "</table>\n",
    "\n",
    "- The program must have a `print` statement *outside* the body of the loop\n",
    "  to show the final value of `velocity`,\n",
    "  since its value is updated by the last iteration of the loop."
   ]
  },
  {
   "cell_type": "markdown",
   "id": "52604151-bbef-4662-8646-861eb5b6cb18",
   "metadata": {},
   "source": [
    "## Compound Relations Using `and`, `or`, and Parentheses\n",
    "\n",
    "Often, you want some combination of things to be true. You can combine relations within a conditional using **and** and **or**. Continuing the example above, suppose you have\n",
    "\n",
    "```PYTHON\n",
    "mass     = [ 3.54,  2.07,  9.22,  1.86,  1.71]\n",
    "velocity = [10.00, 20.00, 30.00, 25.00, 20.00]\n",
    "\n",
    "i = 0\n",
    "for i in range(5):\n",
    "    if mass[i] > 5 and velocity[i] > 20:\n",
    "        print(\"Fast heavy object.  Duck!\")\n",
    "    elif mass[i] > 2 and mass[i] <= 5 and velocity[i] <= 20:\n",
    "        print(\"Normal traffic\")\n",
    "    elif mass[i] <= 2 and velocity[i] <= 20:\n",
    "        print(\"Slow light object.  Ignore it\")\n",
    "    else:\n",
    "        print(\"Whoa!  Something is up with the data.  Check it\")\n",
    "```\n",
    "Just like with arithmetic, you can and should use parentheses whenever there is possible ambiguity. A good general rule is to *always* use parentheses when mixing **and** and **or** in the same condition. That is, instead of:\n",
    "\n",
    "```PYTHON\n",
    "if mass[i] <= 2 or mass[i] >= 5 and velocity[i] > 20:\n",
    "```\n",
    "write one of these:\n",
    "\n",
    "```PYTHON\n",
    "if (mass[i] <= 2 or mass[i] >= 5) and velocity[i] > 20:\n",
    "if mass[i] <= 2 or (mass[i] >= 5 and velocity[i] > 20):\n",
    "```\n",
    "so it is perfectly clear to a reader (and to Python) what you really mean."
   ]
  },
  {
   "cell_type": "markdown",
   "id": "d96ac595-a159-46fd-871b-3f60c50c922a",
   "metadata": {},
   "source": [
    "# **Looping Over Data Sets**"
   ]
  },
  {
   "cell_type": "markdown",
   "id": "5450b481-8bba-4fcf-a309-859b822329b7",
   "metadata": {},
   "source": [
    "## Overview\n",
    "### Questions\n",
    "- How can I process many data sets with a single command?\n",
    "<hr>\n",
    "\n",
    "### Objectives\n",
    "- Be able to read and write globbing expressions that match sets of files.\n",
    "- Use glob to create lists of files.\n",
    "- Write for loops to perform operations on files given their names in a list."
   ]
  },
  {
   "cell_type": "markdown",
   "id": "b2070248-8053-4029-8248-82293bd859d6",
   "metadata": {},
   "source": [
    "## Use a `for` loop to process files given a list of their names.\n",
    "\n",
    "- A filename is a character string.\n",
    "- And lists can contain character strings."
   ]
  },
  {
   "cell_type": "code",
   "execution_count": 336,
   "id": "06fab352-98de-4017-b5a5-074a65369930",
   "metadata": {},
   "outputs": [
    {
     "name": "stdout",
     "output_type": "stream",
     "text": [
      "data/gapminder_gdp_africa.csv gdpPercap_1952    298.846212\n",
      "gdpPercap_1957    335.997115\n",
      "gdpPercap_1962    355.203227\n",
      "gdpPercap_1967    412.977514\n",
      "gdpPercap_1972    464.099504\n",
      "gdpPercap_1977    502.319733\n",
      "gdpPercap_1982    462.211415\n",
      "gdpPercap_1987    389.876185\n",
      "gdpPercap_1992    410.896824\n",
      "gdpPercap_1997    312.188423\n",
      "gdpPercap_2002    241.165876\n",
      "gdpPercap_2007    277.551859\n",
      "dtype: float64\n",
      "data/gapminder_gdp_asia.csv gdpPercap_1952    331.0\n",
      "gdpPercap_1957    350.0\n",
      "gdpPercap_1962    388.0\n",
      "gdpPercap_1967    349.0\n",
      "gdpPercap_1972    357.0\n",
      "gdpPercap_1977    371.0\n",
      "gdpPercap_1982    424.0\n",
      "gdpPercap_1987    385.0\n",
      "gdpPercap_1992    347.0\n",
      "gdpPercap_1997    415.0\n",
      "gdpPercap_2002    611.0\n",
      "gdpPercap_2007    944.0\n",
      "dtype: float64\n"
     ]
    }
   ],
   "source": [
    "import pandas as pd\n",
    "for filename in ['data/gapminder_gdp_africa.csv', 'data/gapminder_gdp_asia.csv']:\n",
    "    data = pd.read_csv(filename, index_col='country')\n",
    "    print(filename, data.min())"
   ]
  },
  {
   "cell_type": "markdown",
   "id": "56a587a3-3679-42cd-baa3-fd0df0b7a8dc",
   "metadata": {},
   "source": [
    "## Use [`glob.glob`](https://docs.python.org/3/library/glob.html#glob.glob) to find sets of files whose names match a pattern.\n",
    "\n",
    "- In Unix, the term \"globbing\" means \"matching a set of files with a pattern\".\n",
    "- The most common patterns are:\n",
    "  - `*` meaning \"match zero or more characters\"\n",
    "  - `?` meaning \"match exactly one character\"\n",
    "- Python's standard library contains the [glob](https://docs.python.org/3/library/glob.html) module to provide pattern matching functionality\n",
    "- The [glob](https://docs.python.org/3/library/glob.html) module contains a function also called `glob` to match file patterns\n",
    "- E.g., `glob.glob('*.txt')` matches all files in the current directory\n",
    "  whose names end with `.txt`.\n",
    "- Result is a (possibly empty) list of character strings."
   ]
  },
  {
   "cell_type": "code",
   "execution_count": 339,
   "id": "dfcfea3f-a2d6-489e-86ac-8512c4fd5fcd",
   "metadata": {},
   "outputs": [
    {
     "name": "stdout",
     "output_type": "stream",
     "text": [
      "all csv files in data directory: ['data\\\\gapminder_all.csv', 'data\\\\gapminder_gdp_africa.csv', 'data\\\\gapminder_gdp_americas.csv', 'data\\\\gapminder_gdp_asia.csv', 'data\\\\gapminder_gdp_europe.csv', 'data\\\\gapminder_gdp_oceania.csv']\n"
     ]
    }
   ],
   "source": [
    "import glob\n",
    "print('all csv files in data directory:', glob.glob('data/*.csv'))"
   ]
  },
  {
   "cell_type": "code",
   "execution_count": 340,
   "id": "3d642864-bf34-4f66-ac79-41048fc79e0f",
   "metadata": {},
   "outputs": [
    {
     "name": "stdout",
     "output_type": "stream",
     "text": [
      "all PDB files: []\n"
     ]
    }
   ],
   "source": [
    "print('all PDB files:', glob.glob('*.pdb'))"
   ]
  },
  {
   "cell_type": "markdown",
   "id": "1c390e27-aa50-4a8b-9ee6-d2b0f56d98a7",
   "metadata": {},
   "source": [
    "## Use `glob` and `for` to process batches of files.\n",
    "\n",
    "- Helps a lot if the files are named and stored systematically and consistently\n",
    "  so that simple patterns will find the right data."
   ]
  },
  {
   "cell_type": "code",
   "execution_count": 344,
   "id": "6c6c1fc3-eebc-445b-8d6a-0451cbde566a",
   "metadata": {},
   "outputs": [
    {
     "name": "stdout",
     "output_type": "stream",
     "text": [
      "data\\gapminder_all.csv 298.8462121\n",
      "data\\gapminder_gdp_africa.csv 298.8462121\n",
      "data\\gapminder_gdp_americas.csv 1397.717137\n",
      "data\\gapminder_gdp_asia.csv 331.0\n",
      "data\\gapminder_gdp_europe.csv 973.5331948\n",
      "data\\gapminder_gdp_oceania.csv 10039.59564\n"
     ]
    }
   ],
   "source": [
    "for filename in glob.glob('data/gapminder_*.csv'):\n",
    "    data = pd.read_csv(filename)\n",
    "    print(filename, data['gdpPercap_1952'].min())"
   ]
  },
  {
   "cell_type": "markdown",
   "id": "dbfe71c4-02a8-470e-b3ac-e13a047ae506",
   "metadata": {},
   "source": [
    "- This includes all data, as well as per-region data.\n",
    "- Use a more specific pattern in the exercises to exclude the whole data set.\n",
    "- But note that the minimum of the entire data set is also the minimum of one of the data sets, which is a nice check on correctness."
   ]
  },
  {
   "cell_type": "markdown",
   "id": "561f68d0-7e15-4cf4-9c90-db9c3a73d350",
   "metadata": {},
   "source": [
    "# **Writing Functions**"
   ]
  },
  {
   "cell_type": "markdown",
   "id": "905c5499-d3cf-4031-8e7c-36a5f91c6a05",
   "metadata": {},
   "source": [
    "## Overview\n",
    "### Questions\n",
    "- How can I create my own functions?\n",
    "<hr>\n",
    "\n",
    "### Objectives\n",
    "- Explain and identify the difference between function definition and function call.\n",
    "- Write a function that takes a small, fixed number of arguments and produces a single result."
   ]
  },
  {
   "cell_type": "markdown",
   "id": "b572929c-224c-4181-83bc-0bbabf999d7d",
   "metadata": {},
   "source": [
    "## Break programs down into functions to make them easier to understand.\n",
    "\n",
    "- Human beings can only keep a few items in working memory at a time.\n",
    "- Understand larger/more complicated ideas by understanding and combining pieces.\n",
    "  - Components in a machine.\n",
    "  - Lemmas when proving theorems.\n",
    "- Functions serve the same purpose in programs.\n",
    "  - *Encapsulate* complexity so that we can treat it as a single \"thing\".\n",
    "- Also enables *re-use*.\n",
    "  - Write one time, use many times."
   ]
  },
  {
   "cell_type": "markdown",
   "id": "e0590b96-1891-4791-ab1b-3af0c65466a9",
   "metadata": {},
   "source": [
    "## Define a function using `def` with a name, parameters, and a block of code.\n",
    "\n",
    "- Begin the definition of a new function with `def`.\n",
    "- Followed by the name of the function.\n",
    "  - Must obey the same rules as variable names.\n",
    "- Then *parameters* in parentheses.\n",
    "  - Empty parentheses if the function doesn't take any inputs.\n",
    "  - We will discuss this in detail in a moment.\n",
    "- Then a colon.\n",
    "- Then an indented block of code."
   ]
  },
  {
   "cell_type": "code",
   "execution_count": 351,
   "id": "2b05db0f-980f-4125-9751-485f907392e8",
   "metadata": {},
   "outputs": [],
   "source": [
    "def print_greeting():\n",
    "    print('Hello!')\n",
    "    print('The weather is nice today.')\n",
    "    print('Right?')"
   ]
  },
  {
   "cell_type": "markdown",
   "id": "7e6a3cd0-f23d-4d3c-92d5-7bf61063ad1c",
   "metadata": {},
   "source": [
    "## Defining a function does not run it.\n",
    "\n",
    "- Defining a function does not run it.\n",
    "  - Like assigning a value to a variable.\n",
    "- Must call the function to execute the code it contains."
   ]
  },
  {
   "cell_type": "code",
   "execution_count": 354,
   "id": "2bc33744-10ff-4ccf-afd6-bd4158e9bdc0",
   "metadata": {},
   "outputs": [
    {
     "name": "stdout",
     "output_type": "stream",
     "text": [
      "Hello!\n",
      "The weather is nice today.\n",
      "Right?\n"
     ]
    }
   ],
   "source": [
    "print_greeting()"
   ]
  },
  {
   "cell_type": "markdown",
   "id": "e2f38435-77ba-4c0b-b687-58683fb95f25",
   "metadata": {},
   "source": [
    "## Arguments in a function call are matched to its defined parameters.\n",
    "\n",
    "- Functions are most useful when they can operate on different data.\n",
    "- Specify *parameters* when defining a function.\n",
    "  - These become variables when the function is executed.\n",
    "  - Are assigned the arguments in the call (i.e., the values passed to the function).\n",
    "  - If you don't name the arguments when using them in the call, the arguments will be matched to\n",
    "    parameters in the order the parameters are defined in the function."
   ]
  },
  {
   "cell_type": "code",
   "execution_count": 357,
   "id": "3a23a267-7c0a-49fe-aac4-aef5e14cd127",
   "metadata": {},
   "outputs": [
    {
     "name": "stdout",
     "output_type": "stream",
     "text": [
      "1871/3/19\n"
     ]
    }
   ],
   "source": [
    "def print_date(year, month, day):\n",
    "    joined = str(year) + '/' + str(month) + '/' + str(day)\n",
    "    print(joined)\n",
    "\n",
    "print_date(1871, 3, 19)"
   ]
  },
  {
   "cell_type": "markdown",
   "id": "b745351b-eab0-4d80-b48a-2ac8df066167",
   "metadata": {},
   "source": [
    "Or, we can name the arguments when we call the function, which allows us to specify them in any order and adds clarity to the call site; otherwise as one is reading the code they might forget if the second argument is the month or the day for example."
   ]
  },
  {
   "cell_type": "code",
   "execution_count": 360,
   "id": "69b02fcb-1cb6-4cee-92e1-956124cc801f",
   "metadata": {},
   "outputs": [
    {
     "name": "stdout",
     "output_type": "stream",
     "text": [
      "1871/3/19\n"
     ]
    }
   ],
   "source": [
    "print_date(month=3, day=19, year=1871)"
   ]
  },
  {
   "cell_type": "markdown",
   "id": "edde000e-5d77-40db-b693-95485698c90d",
   "metadata": {},
   "source": [
    "- Via [Twitter](https://twitter.com/minisciencegirl/status/693486088963272705): () contains the ingredients for the function while the body contains the recipe."
   ]
  },
  {
   "cell_type": "markdown",
   "id": "47c64fd8-724d-4b17-ac1b-53f2ecbeb755",
   "metadata": {},
   "source": [
    "## Functions may return a result to their caller using `return`.\n",
    "\n",
    "- Use `return ...` to give a value back to the caller.\n",
    "- May occur anywhere in the function.\n",
    "- But functions are easier to understand if `return` occurs:\n",
    "  - At the start to handle special cases.\n",
    "  - At the very end, with a final result."
   ]
  },
  {
   "cell_type": "code",
   "execution_count": 364,
   "id": "e7367ddb-c190-4e92-ad8c-e32c2558bda0",
   "metadata": {},
   "outputs": [],
   "source": [
    "def average(values):\n",
    "    if len(values) == 0:\n",
    "        return None\n",
    "    return sum(values) / len(values)"
   ]
  },
  {
   "cell_type": "code",
   "execution_count": 366,
   "id": "cde9ff67-39b3-40f3-87e3-db8dc35d58b3",
   "metadata": {},
   "outputs": [
    {
     "name": "stdout",
     "output_type": "stream",
     "text": [
      "average of actual values: 2.6666666666666665\n"
     ]
    }
   ],
   "source": [
    "a = average([1, 3, 4])\n",
    "print('average of actual values:', a)"
   ]
  },
  {
   "cell_type": "code",
   "execution_count": 368,
   "id": "7d47e5c1-06c8-4285-8071-e7f83ce67820",
   "metadata": {},
   "outputs": [
    {
     "name": "stdout",
     "output_type": "stream",
     "text": [
      "average of empty list: None\n"
     ]
    }
   ],
   "source": [
    "print('average of empty list:', average([]))"
   ]
  },
  {
   "cell_type": "markdown",
   "id": "ece14b88-df58-4a19-87a8-3f22763396f7",
   "metadata": {},
   "source": [
    "- Remember: every function returns something.\n",
    "- A function that doesn’t explicitly return a value automatically returns None."
   ]
  },
  {
   "cell_type": "code",
   "execution_count": 371,
   "id": "905917e0-c54b-4aba-a72d-8ccfba7c31c9",
   "metadata": {},
   "outputs": [
    {
     "name": "stdout",
     "output_type": "stream",
     "text": [
      "1871/3/19\n",
      "result of call is: None\n"
     ]
    }
   ],
   "source": [
    "result = print_date(1871, 3, 19)\n",
    "print('result of call is:', result)"
   ]
  },
  {
   "cell_type": "markdown",
   "id": "3bf75b06-dfb3-4da6-a612-564e8c6104bc",
   "metadata": {},
   "source": [
    "## Using Functions With Conditionals in Pandas\n",
    "\n",
    "Functions will often contain conditionals. Here is a short example that will indicate which quartile the argument is in based on hand-coded values for the quartile cut points.\n",
    "\n",
    "```PYTHON\n",
    "def calculate_life_quartile(exp):\n",
    "    if exp < 58.41:\n",
    "        # This observation is in the first quartile\n",
    "        return 1\n",
    "    elif exp >= 58.41 and exp < 67.05:\n",
    "        # This observation is in the second quartile\n",
    "       return 2\n",
    "    elif exp >= 67.05 and exp < 71.70:\n",
    "        # This observation is in the third quartile\n",
    "       return 3\n",
    "    elif exp >= 71.70:\n",
    "        # This observation is in the fourth quartile\n",
    "       return 4\n",
    "    else:\n",
    "        # This observation has bad data\n",
    "       return None\n",
    "\n",
    "calculate_life_quartile(62.5)\n",
    "```\n",
    "```OUTPUT\n",
    "2\n",
    "```\n",
    "That function would typically be used within a **for** loop, but Pandas has a different, more efficient way of doing the same thing, and that is by *applying* a function to a dataframe or a portion of a dataframe. Here is an example, using the definition above.\n",
    "\n",
    "```PYTHON\n",
    "data = pd.read_csv('data/gapminder_all.csv')\n",
    "data['life_qrtl'] = data['lifeExp_1952'].apply(calculate_life_quartile)\n",
    "```\n",
    "There is a lot in that second line, so let’s take it piece by piece. On the right side of the = we start with **`data['lifeExp']`**, which is the column in the dataframe called **data** labeled **lifExp**. We use the **`apply()`** to do what it says, apply the **`calculate_life_quartile`** to the value of this column for every row in the dataframe."
   ]
  },
  {
   "cell_type": "markdown",
   "id": "cdccd492-3f03-40f1-87b5-c5348560f35f",
   "metadata": {},
   "source": [
    "# **Variable Scope**"
   ]
  },
  {
   "cell_type": "markdown",
   "id": "cc925639-1ebb-4358-8970-17d326cd02e0",
   "metadata": {},
   "source": [
    "## Overview\n",
    "### Questions\n",
    "- How do function calls actually work?\n",
    "- How can I determine where errors occurred?\n",
    "<hr>\n",
    "\n",
    "### Objectives\n",
    "- Identify local and global variables.\n",
    "- Identify parameters as local variables.\n",
    "- Read a traceback and determine the file, function, and line number on which the error occurred, the type of error, and the error message."
   ]
  },
  {
   "cell_type": "markdown",
   "id": "6cd36e22-ba06-4948-b684-31d83da49072",
   "metadata": {},
   "source": [
    "## The scope of a variable is the part of a program that can 'see' that variable.\n",
    "\n",
    "- There are only so many sensible names for variables.\n",
    "- People using functions shouldn't have to worry about\n",
    "  what variable names the author of the function used.\n",
    "- People writing functions shouldn't have to worry about\n",
    "  what variable names the function's caller uses.\n",
    "- The part of a program in which a variable is visible is called its *scope*."
   ]
  },
  {
   "cell_type": "code",
   "execution_count": 377,
   "id": "e1cc38f1-3b7d-4455-aeba-2294820f2bc4",
   "metadata": {},
   "outputs": [],
   "source": [
    "pressure = 103.9\n",
    "\n",
    "def adjust(t):\n",
    "    temperature = t * 1.43 / pressure\n",
    "    return temperature"
   ]
  },
  {
   "cell_type": "markdown",
   "id": "8407a71d-1c08-4b53-8956-417e89f85471",
   "metadata": {},
   "source": [
    "- `pressure` is a *global variable*.\n",
    "    - Defined outside any particular function.\n",
    "    - Visible everywhere.\n",
    "- `t` and `temperature` are *local variables* in `adjust`.\n",
    "    - Defined in the function.\n",
    "    - Not visible in the main program.\n",
    "    - Remember: a function parameter is a variable that is automatically assigned a value when the function is called."
   ]
  },
  {
   "cell_type": "code",
   "execution_count": 380,
   "id": "614ae0d0-69e5-4b11-9d98-fcf5b083462a",
   "metadata": {},
   "outputs": [
    {
     "name": "stdout",
     "output_type": "stream",
     "text": [
      "adjusted: 0.01238691049085659\n"
     ]
    },
    {
     "ename": "NameError",
     "evalue": "name 'temperature' is not defined",
     "output_type": "error",
     "traceback": [
      "\u001b[1;31m---------------------------------------------------------------------------\u001b[0m",
      "\u001b[1;31mNameError\u001b[0m                                 Traceback (most recent call last)",
      "Cell \u001b[1;32mIn[380], line 2\u001b[0m\n\u001b[0;32m      1\u001b[0m \u001b[38;5;28mprint\u001b[39m(\u001b[38;5;124m'\u001b[39m\u001b[38;5;124madjusted:\u001b[39m\u001b[38;5;124m'\u001b[39m, adjust(\u001b[38;5;241m0.9\u001b[39m))\n\u001b[1;32m----> 2\u001b[0m \u001b[38;5;28mprint\u001b[39m(\u001b[38;5;124m'\u001b[39m\u001b[38;5;124mtemperature after call:\u001b[39m\u001b[38;5;124m'\u001b[39m, temperature)\n",
      "\u001b[1;31mNameError\u001b[0m: name 'temperature' is not defined"
     ]
    }
   ],
   "source": [
    "print('adjusted:', adjust(0.9))\n",
    "print('temperature after call:', temperature)"
   ]
  },
  {
   "cell_type": "markdown",
   "id": "f703b4bc-c4b3-41ad-bc64-be31eaf6297a",
   "metadata": {},
   "source": [
    "# **Programming Style**"
   ]
  },
  {
   "cell_type": "markdown",
   "id": "87386a08-e861-4716-90f3-7fe3e916da29",
   "metadata": {},
   "source": [
    "## Overview\n",
    "### Questions\n",
    "- How can I make my programs more readable?\n",
    "- How do most programmers format their code?\n",
    "- How can programs check their own operation?\n",
    "<hr>\n",
    "\n",
    "### Objectives\n",
    "- Provide sound justifications for basic rules of coding style.\n",
    "- Refactor one-page programs to make them more readable and justify the changes.\n",
    "- Use Python community coding standards (PEP-8)."
   ]
  },
  {
   "cell_type": "markdown",
   "id": "7fc7125b-0af1-4c78-a0b3-417a0f1dd09a",
   "metadata": {},
   "source": [
    "## Coding style\n",
    "\n",
    "A consistent coding style helps others (including our future selves) read and understand code more easily. Code is read much more often than it is written, and as the [Zen of Python](https://www.python.org/dev/peps/pep-0020) states, \"Readability counts\".\n",
    "Python proposed a standard style through one of its first Python Enhancement Proposals (PEP), [PEP8](https://www.python.org/dev/peps/pep-0008).\n",
    "\n",
    "Some points worth highlighting:\n",
    "\n",
    "- document your code and ensure that assumptions, internal algorithms, expected inputs, expected outputs, etc., are clear\n",
    "- use clear, semantically meaningful variable names\n",
    "- use white-space, *not* tabs, to indent lines (tabs can cause problems across different text editors, operating systems, and version control systems)\n"
   ]
  },
  {
   "cell_type": "markdown",
   "id": "2c07dfa2-495e-4e18-a198-f973a4715cdc",
   "metadata": {},
   "source": [
    "## Follow standard Python style in your code.\n",
    "\n",
    "- [PEP8](https://www.python.org/dev/peps/pep-0008):\n",
    "  a style guide for Python that discusses topics such as how to name variables,\n",
    "  how to indent your code,\n",
    "  how to structure your `import` statements,\n",
    "  etc.\n",
    "  Adhering to PEP8 makes it easier for other Python developers to read and understand your code, and to understand what their contributions should look like.\n",
    "- To check your code for compliance with PEP8, you can use the [pycodestyle application](https://pypi.org/project/pycodestyle/) and tools like the [black code formatter](https://github.com/psf/black) can automatically format your code to conform to PEP8 and pycodestyle (a Jupyter notebook formatter also exists [nb\\_black](https://github.com/dnanhkhoa/nb_black)).\n",
    "- Some groups and organizations follow different style guidelines besides PEP8. For example, the [Google style guide on Python](https://google.github.io/styleguide/pyguide.html) makes slightly different recommendations. Google wrote an application that can help you format your code in either their style or PEP8 called [yapf](https://github.com/google/yapf/).\n",
    "- With respect to coding style, the key is *consistency*. Choose a style for your project be it PEP8, the Google style, or something else and do your best to ensure that you and anyone else you are collaborating with sticks to it. Consistency within a project is often more impactful than the particular style used. A consistent style will make your software easier to read and understand for others and for your future self.\n"
   ]
  },
  {
   "cell_type": "markdown",
   "id": "88d52545-c852-4da4-9d35-dd2809126f6a",
   "metadata": {},
   "source": [
    "## Use assertions to check for internal errors.\n",
    "\n",
    "Assertions are a simple but powerful method for making sure that the context in which your code is executing is as you expect.\n"
   ]
  },
  {
   "cell_type": "code",
   "execution_count": 387,
   "id": "94bf79af-92e6-46d3-b058-5378e0c1e3eb",
   "metadata": {},
   "outputs": [],
   "source": [
    "def calc_bulk_density(mass, volume):\n",
    "    '''Return dry bulk density = powder mass / powder volume.'''\n",
    "    assert volume > 0\n",
    "    return mass / volume"
   ]
  },
  {
   "cell_type": "markdown",
   "id": "856170c6-1c0b-42da-bd13-863592309e52",
   "metadata": {},
   "source": [
    "If the assertion is **False**, the Python interpreter raises an **AssertionError** runtime exception. The source code for the expression that failed will be displayed as part of the error message. To ignore assertions in your code run the interpreter with the ‘-O’ (optimize) switch. Assertions should contain only simple checks and never change the state of the program. For example, an assertion should never contain an assignment."
   ]
  },
  {
   "cell_type": "markdown",
   "id": "39b19460-acb9-4269-8c70-c2e206fe543b",
   "metadata": {},
   "source": [
    "## Use docstrings to provide builtin help.\n",
    "\n",
    "If the first thing in a function is a character string that is not assigned directly to a variable, Python attaches it to the function, accessible via the builtin help function. This string that provides documentation is also known as a *docstring*.\n"
   ]
  },
  {
   "cell_type": "code",
   "execution_count": 391,
   "id": "f5d30010-f08e-42e4-a273-55fa343802cf",
   "metadata": {},
   "outputs": [
    {
     "name": "stdout",
     "output_type": "stream",
     "text": [
      "Help on function average in module __main__:\n",
      "\n",
      "average(values)\n",
      "    Return average of values, or None if no values are supplied.\n",
      "\n"
     ]
    }
   ],
   "source": [
    "def average(values):\n",
    "    \"Return average of values, or None if no values are supplied.\"\n",
    "\n",
    "    if len(values) == 0:\n",
    "        return None\n",
    "    return sum(values) / len(values)\n",
    "\n",
    "help(average)"
   ]
  },
  {
   "cell_type": "markdown",
   "id": "3009a5b9-7f3c-4350-af30-60b3dde7ad5c",
   "metadata": {},
   "source": [
    "### Multiline Strings\n",
    "\n",
    "Often use *multiline strings* for documentation. These start and end with three quote characters (either single or double) and end with three matching characters.\n",
    "\n",
    "```python\n",
    "\"\"\"This string spans\n",
    "multiple lines.\n",
    "\n",
    "Blank lines are allowed.\"\"\"\n",
    "```"
   ]
  },
  {
   "cell_type": "markdown",
   "id": "5ff588c6-dfb9-4b12-89e9-4acd946432d8",
   "metadata": {},
   "source": [
    "# **Wrap-Up**"
   ]
  },
  {
   "cell_type": "markdown",
   "id": "dbfd119f-616b-493a-aa62-b8ac9fc3c436",
   "metadata": {},
   "source": [
    "## Python supports a large and diverse community across academia and industry.\n",
    "\n",
    "- The [Python 3 documentation](https://docs.python.org/3/) covers the core language\n",
    "  and the standard library.\n",
    "\n",
    "- [PyCon](https://pycon.org/) is the largest annual conference for the Python community.\n",
    "\n",
    "- [SciPy](https://scipy.org) is a rich collection of scientific utilities.\n",
    "  It is also the name of [a series of annual conferences](https://conference.scipy.org/).\n",
    "\n",
    "- [Jupyter](https://jupyter.org) is the home of Project Jupyter.\n",
    "\n",
    "- [Pandas](https://pandas.pydata.org) is the home of the Pandas data library.\n",
    "\n",
    "- Stack Overflow's [general Python section](https://stackoverflow.com/questions/tagged/python?tab=Votes)\n",
    "  can be helpful,\n",
    "  as well as the sections on [NumPy](https://stackoverflow.com/questions/tagged/numpy?tab=Votes),\n",
    "  [SciPy](https://stackoverflow.com/questions/tagged/scipy?tab=Votes), and\n",
    "  [Pandas](https://stackoverflow.com/questions/tagged/pandas?tab=Votes)."
   ]
  },
  {
   "cell_type": "code",
   "execution_count": null,
   "id": "72b4188a-ceab-41b4-b29b-bd87c33667e0",
   "metadata": {},
   "outputs": [],
   "source": []
  }
 ],
 "metadata": {
  "kernelspec": {
   "display_name": "Python 3 (ipykernel)",
   "language": "python",
   "name": "python3"
  },
  "language_info": {
   "codemirror_mode": {
    "name": "ipython",
    "version": 3
   },
   "file_extension": ".py",
   "mimetype": "text/x-python",
   "name": "python",
   "nbconvert_exporter": "python",
   "pygments_lexer": "ipython3",
   "version": "3.12.4"
  }
 },
 "nbformat": 4,
 "nbformat_minor": 5
}
