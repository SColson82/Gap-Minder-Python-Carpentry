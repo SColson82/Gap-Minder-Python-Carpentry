{
 "cells": [
  {
   "cell_type": "code",
   "execution_count": 1,
   "id": "1d193cf0-cba5-4099-a6b4-e09b01ee78c0",
   "metadata": {},
   "outputs": [
    {
     "data": {
      "text/plain": [
       "4"
      ]
     },
     "execution_count": 1,
     "metadata": {},
     "output_type": "execute_result"
    }
   ],
   "source": [
    "7-3"
   ]
  },
  {
   "cell_type": "code",
   "execution_count": 2,
   "id": "baf98f05-3ab9-45a4-b986-7af6970c9998",
   "metadata": {},
   "outputs": [
    {
     "data": {
      "text/plain": [
       "21"
      ]
     },
     "execution_count": 2,
     "metadata": {},
     "output_type": "execute_result"
    }
   ],
   "source": [
    "7*3"
   ]
  },
  {
   "cell_type": "code",
   "execution_count": 3,
   "id": "0abcb254-865b-45e3-bf17-834e93ad2f6b",
   "metadata": {},
   "outputs": [
    {
     "data": {
      "text/plain": [
       "3"
      ]
     },
     "execution_count": 3,
     "metadata": {},
     "output_type": "execute_result"
    }
   ],
   "source": [
    "7*3\n",
    "2+1"
   ]
  },
  {
   "cell_type": "markdown",
   "id": "82854723-0861-449c-8da8-d70c78881975",
   "metadata": {},
   "source": [
    "x = 6*7+12\n",
    "print(x)"
   ]
  },
  {
   "cell_type": "markdown",
   "id": "1afe319f-79fb-4817-a349-23898ee9e913",
   "metadata": {},
   "source": [
    "$\\sum_{i=1}^{N} 2^{-i} \\approx$"
   ]
  },
  {
   "cell_type": "code",
   "execution_count": 17,
   "id": "bd7e656f-bd11-4cb3-95c1-d958b52c556b",
   "metadata": {},
   "outputs": [],
   "source": [
    "first_name = \"Reilly\"\n",
    "age = 18"
   ]
  },
  {
   "cell_type": "code",
   "execution_count": 18,
   "id": "03c583a1-8877-4244-afbb-fe59d15b9135",
   "metadata": {},
   "outputs": [
    {
     "name": "stdout",
     "output_type": "stream",
     "text": [
      "Reilly is 18 years old\n"
     ]
    }
   ],
   "source": [
    "print(first_name, 'is', age, \"years old\")"
   ]
  },
  {
   "cell_type": "code",
   "execution_count": 14,
   "id": "ac3545f5-2187-4dc9-8336-96a9904bca8f",
   "metadata": {},
   "outputs": [],
   "source": [
    "first_name = \"alia\"\n",
    "age = 16"
   ]
  },
  {
   "cell_type": "code",
   "execution_count": 19,
   "id": "99cde5f7-cd6a-4cac-a697-ef70aeb4f5f0",
   "metadata": {},
   "outputs": [
    {
     "name": "stdout",
     "output_type": "stream",
     "text": [
      "Age in three years: 21\n"
     ]
    }
   ],
   "source": [
    "age = age + 3\n",
    "print(\"Age in three years:\", age)"
   ]
  },
  {
   "cell_type": "code",
   "execution_count": 21,
   "id": "db0b6b1b-a244-4a15-bf8a-abaadb3087a0",
   "metadata": {},
   "outputs": [
    {
     "name": "stdout",
     "output_type": "stream",
     "text": [
      "i\n"
     ]
    }
   ],
   "source": [
    "print(first_name[2])"
   ]
  },
  {
   "cell_type": "code",
   "execution_count": 27,
   "id": "abc0fd56-7f7f-47ba-80bb-b1b315e2016b",
   "metadata": {},
   "outputs": [
    {
     "name": "stdout",
     "output_type": "stream",
     "text": [
      "l\n"
     ]
    }
   ],
   "source": [
    "print(first_name[3:4])"
   ]
  },
  {
   "cell_type": "code",
   "execution_count": 28,
   "id": "f1fd1ffb-5b70-48b7-92ac-90e7ee637238",
   "metadata": {},
   "outputs": [
    {
     "name": "stdout",
     "output_type": "stream",
     "text": [
      "6\n"
     ]
    }
   ],
   "source": [
    "print(len(first_name))"
   ]
  },
  {
   "cell_type": "code",
   "execution_count": 30,
   "id": "6c4dac94-a625-4b2c-8343-8876011df9e6",
   "metadata": {},
   "outputs": [
    {
     "name": "stdout",
     "output_type": "stream",
     "text": [
      "Reilly\n"
     ]
    }
   ],
   "source": [
    "print(first_name[:])"
   ]
  },
  {
   "cell_type": "code",
   "execution_count": 32,
   "id": "e551fa7d-f463-458e-84f8-36eafd405a86",
   "metadata": {},
   "outputs": [
    {
     "name": "stdout",
     "output_type": "stream",
     "text": [
      "ll\n"
     ]
    }
   ],
   "source": [
    "print(first_name[-3:-1])"
   ]
  },
  {
   "cell_type": "code",
   "execution_count": null,
   "id": "c9365728-29c1-4428-856e-c75e9d89516c",
   "metadata": {},
   "outputs": [],
   "source": []
  }
 ],
 "metadata": {
  "kernelspec": {
   "display_name": "Python 3 (ipykernel)",
   "language": "python",
   "name": "python3"
  },
  "language_info": {
   "codemirror_mode": {
    "name": "ipython",
    "version": 3
   },
   "file_extension": ".py",
   "mimetype": "text/x-python",
   "name": "python",
   "nbconvert_exporter": "python",
   "pygments_lexer": "ipython3",
   "version": "3.7.11"
  }
 },
 "nbformat": 4,
 "nbformat_minor": 5
}
