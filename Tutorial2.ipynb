{
 "cells": [
  {
   "cell_type": "markdown",
   "id": "b2e55b72-71fc-4db3-bf19-06bc88bb3e74",
   "metadata": {},
   "source": [
    "# Built-in Functions and Help"
   ]
  },
  {
   "cell_type": "markdown",
   "id": "3ae755dc-c760-4526-9a78-7477b1269089",
   "metadata": {},
   "source": [
    "## Use Comments to add documentation to programs."
   ]
  },
  {
   "cell_type": "code",
   "execution_count": null,
   "id": "fe5c04fe-a774-4f70-9e77-45e9ab14eb70",
   "metadata": {},
   "outputs": [],
   "source": []
  },
  {
   "cell_type": "markdown",
   "id": "19c73c50-3828-4180-bea3-72eea8dea7b3",
   "metadata": {},
   "source": [
    "## A function may take zero or more arguments."
   ]
  },
  {
   "cell_type": "code",
   "execution_count": null,
   "id": "b28a5173-72b5-48fd-b9a4-aaf2b0f37a51",
   "metadata": {},
   "outputs": [],
   "source": []
  },
  {
   "cell_type": "markdown",
   "id": "9e7dcc0e-4e7e-4e30-b849-121871124f71",
   "metadata": {},
   "source": [
    "## Every function returns something."
   ]
  },
  {
   "cell_type": "code",
   "execution_count": null,
   "id": "adcc0a97-e216-42d4-ab37-875fdd9be46a",
   "metadata": {},
   "outputs": [],
   "source": []
  },
  {
   "cell_type": "markdown",
   "id": "657452c9-ad3b-437d-bd74-ab50a4d0c31d",
   "metadata": {},
   "source": [
    "## Commonly-used built-in functions (`max`, `min`, and `round`)"
   ]
  },
  {
   "cell_type": "code",
   "execution_count": null,
   "id": "8a9217f6-66e0-4985-bc72-5ae307e8e6b5",
   "metadata": {},
   "outputs": [],
   "source": []
  },
  {
   "cell_type": "markdown",
   "id": "4cca0e03-6749-4aba-a57f-dfdb0287f78d",
   "metadata": {},
   "source": [
    "## Functions may only work for certain (combinations of) arguments."
   ]
  },
  {
   "cell_type": "code",
   "execution_count": null,
   "id": "6a9995aa-f9c8-487e-a87b-8bedab80627c",
   "metadata": {},
   "outputs": [],
   "source": []
  },
  {
   "cell_type": "markdown",
   "id": "18cffacd-7153-4cec-8b7e-9ac83beecd53",
   "metadata": {},
   "source": [
    "## Functions may have default values for some arguments."
   ]
  },
  {
   "cell_type": "code",
   "execution_count": null,
   "id": "f023930a-a2a7-4f23-bcda-1deff6d14877",
   "metadata": {},
   "outputs": [],
   "source": []
  },
  {
   "cell_type": "markdown",
   "id": "74f2cc36-09b5-42ae-8cf6-af55381a338e",
   "metadata": {},
   "source": [
    "## Functions attached to objects are called methods"
   ]
  },
  {
   "cell_type": "code",
   "execution_count": null,
   "id": "de5ab798-a2f0-4c7d-9cfa-98e3b3288cf7",
   "metadata": {},
   "outputs": [],
   "source": []
  },
  {
   "cell_type": "markdown",
   "id": "54183e7e-0276-48dd-acc3-fd4adfff1a47",
   "metadata": {},
   "source": [
    "## Use the built-in function `help` to get help for a function."
   ]
  },
  {
   "cell_type": "code",
   "execution_count": null,
   "id": "47f99cff-22ff-487f-bee3-4ab8e60b612f",
   "metadata": {},
   "outputs": [],
   "source": []
  },
  {
   "cell_type": "markdown",
   "id": "5eb7cd15-1c77-4309-b008-41523c36854b",
   "metadata": {},
   "source": [
    "## The Jupyter Notebook has two ways to get help.\n",
    "\n",
    "* Option 1: Place a cursor near where the function is invoked in a cell (i.e., the function name or its parameters),\n",
    "    * Hold down `Shift`, and press `Tab`.\n",
    "    * Do this several times to expand the information returned.\n",
    "* Option 2: Type the function name in a cell with a question mark after it. Then run the cell."
   ]
  },
  {
   "cell_type": "markdown",
   "id": "10417b6f-5a69-4fce-8fbf-7d503ee772ba",
   "metadata": {},
   "source": [
    "## Python reports a syntax error when it can't understand the source of a program."
   ]
  },
  {
   "cell_type": "code",
   "execution_count": null,
   "id": "479ef034-a5c2-4295-aa27-9a1a1326b746",
   "metadata": {},
   "outputs": [],
   "source": []
  },
  {
   "cell_type": "markdown",
   "id": "e6e85744-484f-4ba9-9930-8ae135a39b5d",
   "metadata": {},
   "source": [
    "## Python reports a runtime error when something goes wrong while a program is executing."
   ]
  },
  {
   "cell_type": "code",
   "execution_count": null,
   "id": "bf3b6813-906a-4522-981b-6d6e9ff9b5fa",
   "metadata": {},
   "outputs": [],
   "source": []
  },
  {
   "cell_type": "markdown",
   "id": "370c5d2f-8ccd-4e0d-be53-f2a07b7e3562",
   "metadata": {},
   "source": [
    "# Libraries"
   ]
  },
  {
   "cell_type": "markdown",
   "id": "8de5e8c1-43f0-4811-a22b-ef3a74e99ca1",
   "metadata": {},
   "source": [
    "## Overview\n",
    "### Questions\n",
    "* How can I use software that other people have writte?\n",
    "* How can I find what that software does?\n",
    "<\\hr>\n",
    "### Objectives\n",
    "* Explain what software libraries are and why programmers create and use them.\n",
    "* Write programs that import and use modules from Python’s standard library.\n",
    "* Find and read documentation for the standard library interactively (in the interpreter) and online."
   ]
  },
  {
   "cell_type": "markdown",
   "id": "0bfd63a7-548a-49c3-bfe4-0731ada36b41",
   "metadata": {},
   "source": [
    "## Most of the power of a programming language is in its libraries.\n",
    "* A *library* is a collection of files (called modules) that contains functions for use by other programs.\n",
    "    * May also contain data values (e.g., numerical constants) and other things.\n",
    "    * Library’s contents are supposed to be related, but there’s no way to enforce that.\n",
    "* The Python standard library is an extensive suite of modules that comes with Python itself.\n",
    "* Many additional libraries are available from PyPI (the Python Package Index).\n",
    "* We will see later how to write new libraries."
   ]
  },
  {
   "cell_type": "markdown",
   "id": "f09e511c-383c-4b05-8dc1-1e3e7d629fac",
   "metadata": {},
   "source": [
    "## A program must import a library module before using it."
   ]
  },
  {
   "cell_type": "code",
   "execution_count": null,
   "id": "af194135-d5b6-4fcf-b1d6-228ab80dc43f",
   "metadata": {},
   "outputs": [],
   "source": []
  },
  {
   "cell_type": "markdown",
   "id": "7a5fe8ef-b768-43b9-9457-6239465ff1a1",
   "metadata": {},
   "source": [
    "## Use `help` to learn about the contents of a library module."
   ]
  },
  {
   "cell_type": "code",
   "execution_count": null,
   "id": "851bb8a3-75c6-4912-b16f-fb51ed7187d1",
   "metadata": {},
   "outputs": [],
   "source": []
  },
  {
   "cell_type": "markdown",
   "id": "99008e49-696d-42ff-b4f9-ad9c1a84f01e",
   "metadata": {},
   "source": [
    "## Import specific items from a library module to shorten programs."
   ]
  },
  {
   "cell_type": "code",
   "execution_count": null,
   "id": "f4bd5e26-d84b-47bc-9d2c-89c646cf93fb",
   "metadata": {},
   "outputs": [],
   "source": []
  },
  {
   "cell_type": "markdown",
   "id": "6c6f7b7d-15ce-4841-8b6a-ae9522fdeed9",
   "metadata": {},
   "source": [
    "## Create an alias for a library module when importing it to shorten programs. "
   ]
  },
  {
   "cell_type": "code",
   "execution_count": null,
   "id": "0451d07c-bb98-459f-947f-36388bf26788",
   "metadata": {},
   "outputs": [],
   "source": []
  },
  {
   "cell_type": "code",
   "execution_count": null,
   "id": "40bdcb1f-3f82-4f9b-a32b-9c99b6b15240",
   "metadata": {},
   "outputs": [],
   "source": []
  }
 ],
 "metadata": {
  "kernelspec": {
   "display_name": "Python 3 (ipykernel)",
   "language": "python",
   "name": "python3"
  },
  "language_info": {
   "codemirror_mode": {
    "name": "ipython",
    "version": 3
   },
   "file_extension": ".py",
   "mimetype": "text/x-python",
   "name": "python",
   "nbconvert_exporter": "python",
   "pygments_lexer": "ipython3",
   "version": "3.11.9"
  }
 },
 "nbformat": 4,
 "nbformat_minor": 5
}
