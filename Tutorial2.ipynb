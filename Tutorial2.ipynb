{
 "cells": [
  {
   "cell_type": "markdown",
   "id": "b2e55b72-71fc-4db3-bf19-06bc88bb3e74",
   "metadata": {},
   "source": [
    "# **Built-in Functions and Help**"
   ]
  },
  {
   "cell_type": "markdown",
   "id": "c81dbfcb-11f9-4d7d-a1ff-fba2327596e1",
   "metadata": {},
   "source": [
    "## Overview\n",
    "### Questions\n",
    "* How can I use built-in functions?\n",
    "* How can I find out what they do?\n",
    "* What kind of errors can occur in programs?\n",
    "\n",
    "<hr>\n",
    "\n",
    "### Objectives\n",
    "* Explain the purpose of functions.\r",
    "* \n",
    "Correctly call built-in Python functions.* \r\n",
    "Correctly nest calls to built-in functions* .\r\n",
    "Use help to display documentation for built-in function* s.\r\n",
    "Correctly describe situations in which SyntaxError and NameError occur."
   ]
  },
  {
   "cell_type": "markdown",
   "id": "3ae755dc-c760-4526-9a78-7477b1269089",
   "metadata": {},
   "source": [
    "## Use Comments to add documentation to programs."
   ]
  },
  {
   "cell_type": "code",
   "execution_count": null,
   "id": "fe5c04fe-a774-4f70-9e77-45e9ab14eb70",
   "metadata": {},
   "outputs": [],
   "source": []
  },
  {
   "cell_type": "markdown",
   "id": "19c73c50-3828-4180-bea3-72eea8dea7b3",
   "metadata": {},
   "source": [
    "## A function may take zero or more arguments.\n",
    "\n",
    "* An *argument* is a value passed into a function.\n",
    "* `len` takes exactly one.\n",
    "* `int`, `str`, and `float` create a new value from an existing one.\n",
    "* `print` takes zero or more.\n",
    "* `print` with no arguments prints a blank line.\n",
    "    * Must always use parentheses, even if they're empty, so that Python knows a function is being called."
   ]
  },
  {
   "cell_type": "code",
   "execution_count": null,
   "id": "b28a5173-72b5-48fd-b9a4-aaf2b0f37a51",
   "metadata": {},
   "outputs": [],
   "source": []
  },
  {
   "cell_type": "markdown",
   "id": "9e7dcc0e-4e7e-4e30-b849-121871124f71",
   "metadata": {},
   "source": [
    "## Every function returns something.\n",
    "* Every function call produces some result.\n",
    "* If the function doesn't have a useful result to return, it usually returns the special value `None`. `None` is aPython object that stands in anytime there is no value."
   ]
  },
  {
   "cell_type": "code",
   "execution_count": null,
   "id": "adcc0a97-e216-42d4-ab37-875fdd9be46a",
   "metadata": {},
   "outputs": [],
   "source": []
  },
  {
   "cell_type": "markdown",
   "id": "657452c9-ad3b-437d-bd74-ab50a4d0c31d",
   "metadata": {},
   "source": [
    "## Commonly-used built-in functions (`max`, `min`, and `round`)\n",
    "* Use `max` to find the largest value of one or more values.\n",
    "* Use `min` to find the smallest.\n",
    "* Both work on character strings as well as numbers.\n",
    "    * \"Larger\" and \"smaller\" use (0-9, A-Z, a-z) to compare letters."
   ]
  },
  {
   "cell_type": "code",
   "execution_count": null,
   "id": "8a9217f6-66e0-4985-bc72-5ae307e8e6b5",
   "metadata": {},
   "outputs": [],
   "source": []
  },
  {
   "cell_type": "markdown",
   "id": "4cca0e03-6749-4aba-a57f-dfdb0287f78d",
   "metadata": {},
   "source": [
    "## Functions may only work for certain (combinations of) arguments.\n",
    "* `max` and `min` must be given at least one argument.\n",
    "  * \"Largest of the empty set\" is a meaningless question.\n",
    "* And they must be given things that can meaningfully be compared."
   ]
  },
  {
   "cell_type": "code",
   "execution_count": null,
   "id": "6a9995aa-f9c8-487e-a87b-8bedab80627c",
   "metadata": {},
   "outputs": [],
   "source": []
  },
  {
   "cell_type": "markdown",
   "id": "18cffacd-7153-4cec-8b7e-9ac83beecd53",
   "metadata": {},
   "source": [
    "## Functions may have default values for some arguments.\n",
    "* `round` will round off a floating-point number.\n",
    "* By default, rounds to zero decimal places.\n",
    "* We can specify the number of decimal places we want."
   ]
  },
  {
   "cell_type": "code",
   "execution_count": null,
   "id": "f023930a-a2a7-4f23-bcda-1deff6d14877",
   "metadata": {},
   "outputs": [],
   "source": []
  },
  {
   "cell_type": "markdown",
   "id": "74f2cc36-09b5-42ae-8cf6-af55381a338e",
   "metadata": {},
   "source": [
    "## Functions attached to objects are called methods\n",
    "* Hint: in Jupyter Notebook or Lab, hit Tab after the period to see a list of methods.\n",
    "  * You must first initialize the object.\n",
    "* Functions take another form that will be common in pandas episodes.\n",
    "* Methods have parentheses like functions, but come after the variable.\n",
    "* Some methods are used for internal Python operations, and are marked with double underlines.\n",
    "* Methods can be chained together. They operate left to right.\n",
    "* "
   ]
  },
  {
   "cell_type": "code",
   "execution_count": null,
   "id": "de5ab798-a2f0-4c7d-9cfa-98e3b3288cf7",
   "metadata": {},
   "outputs": [],
   "source": []
  },
  {
   "cell_type": "markdown",
   "id": "54183e7e-0276-48dd-acc3-fd4adfff1a47",
   "metadata": {},
   "source": [
    "## Use the built-in function `help` to get help for a function.\n",
    "* Every built-in function has online documentation."
   ]
  },
  {
   "cell_type": "code",
   "execution_count": null,
   "id": "47f99cff-22ff-487f-bee3-4ab8e60b612f",
   "metadata": {},
   "outputs": [],
   "source": []
  },
  {
   "cell_type": "markdown",
   "id": "5eb7cd15-1c77-4309-b008-41523c36854b",
   "metadata": {},
   "source": [
    "## The Jupyter Notebook has two ways to get help.\n",
    "\n",
    "* Option 1: Place a cursor near where the function is invoked in a cell (i.e., the function name or its parameters),\n",
    "    * Hold down `Shift`, and press `Tab`.\n",
    "    * Do this several times to expand the information returned.\n",
    "* Option 2: Type the function name in a cell with a question mark after it. Then run the cell."
   ]
  },
  {
   "cell_type": "code",
   "execution_count": null,
   "id": "f72fe2b2-3a73-4a3f-b0dc-2fa87112c313",
   "metadata": {},
   "outputs": [],
   "source": []
  },
  {
   "cell_type": "markdown",
   "id": "10417b6f-5a69-4fce-8fbf-7d503ee772ba",
   "metadata": {},
   "source": [
    "## Python reports a syntax error when it can't understand the source of a program.\n",
    "* Won't try to run the program if it can't be parsed."
   ]
  },
  {
   "cell_type": "code",
   "execution_count": null,
   "id": "479ef034-a5c2-4295-aa27-9a1a1326b746",
   "metadata": {},
   "outputs": [],
   "source": []
  },
  {
   "cell_type": "code",
   "execution_count": null,
   "id": "43b3a913-d301-4ce6-b22d-ac51f52e0d40",
   "metadata": {},
   "outputs": [],
   "source": []
  },
  {
   "cell_type": "code",
   "execution_count": 26,
   "id": "e5079b57-9c86-4909-98b0-c4e48da6a750",
   "metadata": {},
   "outputs": [
    {
     "ename": "SyntaxError",
     "evalue": "incomplete input (1028029194.py, line 1)",
     "output_type": "error",
     "traceback": [
      "\u001b[1;36m  Cell \u001b[1;32mIn[26], line 1\u001b[1;36m\u001b[0m\n\u001b[1;33m    print(\"hello world\"\u001b[0m\n\u001b[1;37m                       ^\u001b[0m\n\u001b[1;31mSyntaxError\u001b[0m\u001b[1;31m:\u001b[0m incomplete input\n"
     ]
    }
   ],
   "source": [
    "print(\"hello world\""
   ]
  },
  {
   "cell_type": "markdown",
   "id": "91dea9af-66b4-4d27-a59e-32a142f59d31",
   "metadata": {},
   "source": [
    "* The message indicates a problem on the first line of the input (\"line 1\").\n",
    "* The Cell In\\[\\#\\] part of the filename indicates which cell of our Notebook the error occurred in.\n",
    "* Next is the problematic line of code, indicating the probelm with a ^ pointer."
   ]
  },
  {
   "cell_type": "markdown",
   "id": "e6e85744-484f-4ba9-9930-8ae135a39b5d",
   "metadata": {},
   "source": [
    "## Python reports a runtime error when something goes wrong while a program is executing."
   ]
  },
  {
   "cell_type": "code",
   "execution_count": null,
   "id": "bf3b6813-906a-4522-981b-6d6e9ff9b5fa",
   "metadata": {},
   "outputs": [],
   "source": []
  },
  {
   "cell_type": "markdown",
   "id": "ab255074-63f1-4c77-92ef-1956734ab2b2",
   "metadata": {},
   "source": [
    "* Correct syntax errors by reading the source and runtime errors by tracing execution."
   ]
  },
  {
   "cell_type": "markdown",
   "id": "b0816a00-32f5-438e-8732-e275501f0116",
   "metadata": {},
   "source": [
    "### Explore the Python docs!\r\n",
    "The[ official Python documentatio](https://docs.python.org/3/)n is arguably the most complete source of information about the language. It is available in different languages and contains a lot of useful resources. The[ Built-in Functions pag](https://docs.python.org/3/library/functions.html)e contains a catalogue of all of these functions, including the ones that we’ve covered in this lesson. Some of these are more advanced and unnecessary at the moment, but others are very simple and useful."
   ]
  },
  {
   "cell_type": "markdown",
   "id": "370c5d2f-8ccd-4e0d-be53-f2a07b7e3562",
   "metadata": {},
   "source": [
    "# **Libraries**"
   ]
  },
  {
   "cell_type": "markdown",
   "id": "8de5e8c1-43f0-4811-a22b-ef3a74e99ca1",
   "metadata": {},
   "source": [
    "## Overview\n",
    "### Questions\n",
    "* How can I use software that other people have writte?\n",
    "* How can I find what that software does?\n",
    "\n",
    "<hr>\n",
    "\n",
    "### Objectives\n",
    "* Explain what software libraries are and why programmers create and use them.\n",
    "* Write programs that import and use modules from Python’s standard library.\n",
    "* Find and read documentation for the standard library interactively (in the interpreter) and online."
   ]
  },
  {
   "cell_type": "markdown",
   "id": "0bfd63a7-548a-49c3-bfe4-0731ada36b41",
   "metadata": {},
   "source": [
    "## Most of the power of a programming language is in its libraries.\n",
    "* A *library* is a collection of files (called modules) that contains functions for use by other programs.\n",
    "    * May also contain data values (e.g., numerical constants) and other things.\n",
    "    * Library’s contents are supposed to be related, but there’s no way to enforce that.\n",
    "* The Python [standard library](https://docs.python.org/3/library/) is an extensive suite of modules that comes with Python itself.\n",
    "* Many additional libraries are available from [PyPI](https://pypi.org/) (the Python Package Index).\n",
    "* We will see later how to write new libraries."
   ]
  },
  {
   "cell_type": "markdown",
   "id": "f09e511c-383c-4b05-8dc1-1e3e7d629fac",
   "metadata": {},
   "source": [
    "## A program must import a library module before using it.\n",
    "* Use `import` to load a library module into a program's memory.\n",
    "* Then refer to things from the module as `module_name.thing_name`.\n",
    "  * Python uses . to mean \"part of\".\n",
    "* Using `math`, one of the modules in the standard library:"
   ]
  },
  {
   "cell_type": "markdown",
   "id": "bdf6248b-46ec-4943-8179-29b0eec058ed",
   "metadata": {},
   "source": []
  },
  {
   "cell_type": "markdown",
   "id": "1b500765-a628-48d5-91fc-cdfbf585a130",
   "metadata": {},
   "source": [
    "* Have to refer to each item with the module's name.\n",
    "  * `math.cos(pi)` won't work: the reference to `pi` doesn't somehow \"inherit\" the function's reference to `math`."
   ]
  },
  {
   "cell_type": "markdown",
   "id": "7a5fe8ef-b768-43b9-9457-6239465ff1a1",
   "metadata": {},
   "source": [
    "## Use `help` to learn about the contents of a library module."
   ]
  },
  {
   "cell_type": "code",
   "execution_count": null,
   "id": "851bb8a3-75c6-4912-b16f-fb51ed7187d1",
   "metadata": {},
   "outputs": [],
   "source": []
  },
  {
   "cell_type": "markdown",
   "id": "99008e49-696d-42ff-b4f9-ad9c1a84f01e",
   "metadata": {},
   "source": [
    "## Import specific items from a library module to shorten programs.\n",
    "* Use `from ... import ...` to load only specific items from a library module.\n",
    "* Then refer to them directly without library name as prefix."
   ]
  },
  {
   "cell_type": "code",
   "execution_count": null,
   "id": "f4bd5e26-d84b-47bc-9d2c-89c646cf93fb",
   "metadata": {},
   "outputs": [],
   "source": []
  },
  {
   "cell_type": "markdown",
   "id": "6c6f7b7d-15ce-4841-8b6a-ae9522fdeed9",
   "metadata": {},
   "source": [
    "## Create an alias for a library module when importing it to shorten programs. \n",
    "* Use `import ... as ...` to give a library a short *alias* while importing it.\n",
    "* Then refer to items in the library using that shortened name.\n",
    "* Commonly used for libraries that are frequently used or have long names.\n",
    "  * E.g., the `matplotlib` plotting library is often aliased as `mpl`.\n",
    "* But can make programs harder to understand, since readers must learn your program's aliases."
   ]
  },
  {
   "cell_type": "code",
   "execution_count": null,
   "id": "0451d07c-bb98-459f-947f-36388bf26788",
   "metadata": {},
   "outputs": [],
   "source": []
  },
  {
   "cell_type": "markdown",
   "id": "8604dab6-9325-4463-a77a-f5723918e1ce",
   "metadata": {},
   "source": [
    "# **Reading Tabular Data into DataFrames**"
   ]
  },
  {
   "cell_type": "markdown",
   "id": "2854401d-ecfe-45df-b026-09568abb810c",
   "metadata": {},
   "source": [
    "## Overview\n",
    "### Questions\n",
    "* How can I read tabular data?\n",
    "\n",
    "<hr>\n",
    "\n",
    "### Objectives\n",
    "* Import the Pandas library\n",
    "* Use Pandas to load a CSV data set.\n",
    "* Get some basic information about a Pandas DataFrame."
   ]
  },
  {
   "cell_type": "markdown",
   "id": "875959c8-a904-489f-969d-4211ebda9e52",
   "metadata": {},
   "source": [
    "## Use the Pandas library to do statistics on tabular data.\r\n",
    "\r\n",
    "- [Pandas](https://pandas.pydata.org/) is a widely-used Python library for statistics, particularly on tabular data.\r\n",
    "- Borrows many features from R's dataframes.\r\n",
    "  - A 2-dimensional table whose columns have names\r\n",
    "    and potentially have different data types.\r\n",
    "- Load Pandas with `import pandas as pd`. The alias `pd` is commonly used to refer to the Pandas library in code.\r\n",
    "- Read a Comma Separated Values (CSV) data file with `pd.read_csv`.\r\n",
    "  - Argument is the name of the file to be read.\r\n",
    "  - Returns a dataframe that you can assign to a\n",
    "- The columns in a dataframe are the observed variables, and the rows are the observations.\r\n",
    "- Pandas uses backslash `\\` to show wrapped lines when output is too wide to fit the screen.\r\n",
    "- Using descriptive dataframe names helps us distinguish between multiple dataframes so we won't accidentally overwrite a dataframe or read from the wrong one. variable::::::::::::::::::\r\n"
   ]
  },
  {
   "cell_type": "code",
   "execution_count": null,
   "id": "931999f2-79fa-4a93-9440-effb4c03c14d",
   "metadata": {},
   "outputs": [],
   "source": []
  }
 ],
 "metadata": {
  "kernelspec": {
   "display_name": "Python 3 (ipykernel)",
   "language": "python",
   "name": "python3"
  },
  "language_info": {
   "codemirror_mode": {
    "name": "ipython",
    "version": 3
   },
   "file_extension": ".py",
   "mimetype": "text/x-python",
   "name": "python",
   "nbconvert_exporter": "python",
   "pygments_lexer": "ipython3",
   "version": "3.12.4"
  }
 },
 "nbformat": 4,
 "nbformat_minor": 5
}
