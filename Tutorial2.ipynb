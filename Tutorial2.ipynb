{
 "cells": [
  {
   "cell_type": "markdown",
   "id": "b2e55b72-71fc-4db3-bf19-06bc88bb3e74",
   "metadata": {},
   "source": [
    "# **Built-in Functions and Help**"
   ]
  },
  {
   "cell_type": "markdown",
   "id": "c81dbfcb-11f9-4d7d-a1ff-fba2327596e1",
   "metadata": {},
   "source": [
    "## Overview\n",
    "### Questions\n",
    "* How can I use built-in functions?\n",
    "* How can I find out what they do?\n",
    "* What kind of errors can occur in programs?\n",
    "\n",
    "<hr>\n",
    "\n",
    "### Objectives\n",
    "* Explain the purpose of functions.\r",
    "* \n",
    "Correctly call built-in Python functions.* \r\n",
    "Correctly nest calls to built-in functions* .\r\n",
    "Use help to display documentation for built-in function* s.\r\n",
    "Correctly describe situations in which SyntaxError and NameError occur."
   ]
  },
  {
   "cell_type": "markdown",
   "id": "3ae755dc-c760-4526-9a78-7477b1269089",
   "metadata": {},
   "source": [
    "## Use Comments to add documentation to programs."
   ]
  },
  {
   "cell_type": "code",
   "execution_count": null,
   "id": "fe5c04fe-a774-4f70-9e77-45e9ab14eb70",
   "metadata": {},
   "outputs": [],
   "source": []
  },
  {
   "cell_type": "markdown",
   "id": "19c73c50-3828-4180-bea3-72eea8dea7b3",
   "metadata": {},
   "source": [
    "## A function may take zero or more arguments.\n",
    "\n",
    "* An *argument* is a value passed into a function.\n",
    "* `len` takes exactly one.\n",
    "* `int`, `str`, and `float` create a new value from an existing one.\n",
    "* `print` takes zero or more.\n",
    "* `print` with no arguments prints a blank line.\n",
    "    * Must always use parentheses, even if they're empty, so that Python knows a function is being called."
   ]
  },
  {
   "cell_type": "code",
   "execution_count": null,
   "id": "b28a5173-72b5-48fd-b9a4-aaf2b0f37a51",
   "metadata": {},
   "outputs": [],
   "source": []
  },
  {
   "cell_type": "markdown",
   "id": "9e7dcc0e-4e7e-4e30-b849-121871124f71",
   "metadata": {},
   "source": [
    "## Every function returns something.\n",
    "* Every function call produces some result.\n",
    "* If the function doesn't have a useful result to return, it usually returns the special value `None`. `None` is aPython object that stands in anytime there is no value."
   ]
  },
  {
   "cell_type": "code",
   "execution_count": null,
   "id": "adcc0a97-e216-42d4-ab37-875fdd9be46a",
   "metadata": {},
   "outputs": [],
   "source": []
  },
  {
   "cell_type": "markdown",
   "id": "657452c9-ad3b-437d-bd74-ab50a4d0c31d",
   "metadata": {},
   "source": [
    "## Commonly-used built-in functions (`max`, `min`, and `round`)\n",
    "* Use `max` to find the largest value of one or more values.\n",
    "* Use `min` to find the smallest.\n",
    "* Both work on character strings as well as numbers.\n",
    "    * \"Larger\" and \"smaller\" use (0-9, A-Z, a-z) to compare letters."
   ]
  },
  {
   "cell_type": "code",
   "execution_count": null,
   "id": "8a9217f6-66e0-4985-bc72-5ae307e8e6b5",
   "metadata": {},
   "outputs": [],
   "source": []
  },
  {
   "cell_type": "markdown",
   "id": "4cca0e03-6749-4aba-a57f-dfdb0287f78d",
   "metadata": {},
   "source": [
    "## Functions may only work for certain (combinations of) arguments.\n",
    "* `max` and `min` must be given at least one argument.\n",
    "  * \"Largest of the empty set\" is a meaningless question.\n",
    "* And they must be given things that can meaningfully be compared."
   ]
  },
  {
   "cell_type": "code",
   "execution_count": null,
   "id": "6a9995aa-f9c8-487e-a87b-8bedab80627c",
   "metadata": {},
   "outputs": [],
   "source": []
  },
  {
   "cell_type": "markdown",
   "id": "18cffacd-7153-4cec-8b7e-9ac83beecd53",
   "metadata": {},
   "source": [
    "## Functions may have default values for some arguments.\n",
    "* `round` will round off a floating-point number.\n",
    "* By default, rounds to zero decimal places.\n",
    "* We can specify the number of decimal places we want."
   ]
  },
  {
   "cell_type": "code",
   "execution_count": null,
   "id": "f023930a-a2a7-4f23-bcda-1deff6d14877",
   "metadata": {},
   "outputs": [],
   "source": []
  },
  {
   "cell_type": "markdown",
   "id": "74f2cc36-09b5-42ae-8cf6-af55381a338e",
   "metadata": {},
   "source": [
    "## Functions attached to objects are called methods\n",
    "* Hint: in Jupyter Notebook or Lab, hit Tab after the period to see a list of methods.\n",
    "  * You must first initialize the object.\n",
    "* Functions take another form that will be common in pandas episodes.\n",
    "* Methods have parentheses like functions, but come after the variable.\n",
    "* Some methods are used for internal Python operations, and are marked with double underlines.\n",
    "* Methods can be chained together. They operate left to right.\n",
    "* "
   ]
  },
  {
   "cell_type": "code",
   "execution_count": null,
   "id": "de5ab798-a2f0-4c7d-9cfa-98e3b3288cf7",
   "metadata": {},
   "outputs": [],
   "source": []
  },
  {
   "cell_type": "markdown",
   "id": "54183e7e-0276-48dd-acc3-fd4adfff1a47",
   "metadata": {},
   "source": [
    "## Use the built-in function `help` to get help for a function.\n",
    "* Every built-in function has online documentation."
   ]
  },
  {
   "cell_type": "code",
   "execution_count": null,
   "id": "47f99cff-22ff-487f-bee3-4ab8e60b612f",
   "metadata": {},
   "outputs": [],
   "source": []
  },
  {
   "cell_type": "markdown",
   "id": "5eb7cd15-1c77-4309-b008-41523c36854b",
   "metadata": {},
   "source": [
    "## The Jupyter Notebook has two ways to get help.\n",
    "\n",
    "* Option 1: Place a cursor near where the function is invoked in a cell (i.e., the function name or its parameters),\n",
    "    * Hold down `Shift`, and press `Tab`.\n",
    "    * Do this several times to expand the information returned.\n",
    "* Option 2: Type the function name in a cell with a question mark after it. Then run the cell."
   ]
  },
  {
   "cell_type": "code",
   "execution_count": null,
   "id": "f72fe2b2-3a73-4a3f-b0dc-2fa87112c313",
   "metadata": {},
   "outputs": [],
   "source": []
  },
  {
   "cell_type": "markdown",
   "id": "10417b6f-5a69-4fce-8fbf-7d503ee772ba",
   "metadata": {},
   "source": [
    "## Python reports a syntax error when it can't understand the source of a program.\n",
    "* Won't try to run the program if it can't be parsed."
   ]
  },
  {
   "cell_type": "code",
   "execution_count": null,
   "id": "479ef034-a5c2-4295-aa27-9a1a1326b746",
   "metadata": {},
   "outputs": [],
   "source": []
  },
  {
   "cell_type": "code",
   "execution_count": null,
   "id": "43b3a913-d301-4ce6-b22d-ac51f52e0d40",
   "metadata": {},
   "outputs": [],
   "source": []
  },
  {
   "cell_type": "code",
   "execution_count": 1,
   "id": "e5079b57-9c86-4909-98b0-c4e48da6a750",
   "metadata": {},
   "outputs": [
    {
     "ename": "SyntaxError",
     "evalue": "incomplete input (1028029194.py, line 1)",
     "output_type": "error",
     "traceback": [
      "\u001b[1;36m  Cell \u001b[1;32mIn[1], line 1\u001b[1;36m\u001b[0m\n\u001b[1;33m    print(\"hello world\"\u001b[0m\n\u001b[1;37m                       ^\u001b[0m\n\u001b[1;31mSyntaxError\u001b[0m\u001b[1;31m:\u001b[0m incomplete input\n"
     ]
    }
   ],
   "source": [
    "print(\"hello world\""
   ]
  },
  {
   "cell_type": "markdown",
   "id": "91dea9af-66b4-4d27-a59e-32a142f59d31",
   "metadata": {},
   "source": [
    "* The message indicates a problem on the first line of the input (\"line 1\").\n",
    "* The Cell In\\[\\#\\] part of the filename indicates which cell of our Notebook the error occurred in.\n",
    "* Next is the problematic line of code, indicating the probelm with a ^ pointer."
   ]
  },
  {
   "cell_type": "markdown",
   "id": "e6e85744-484f-4ba9-9930-8ae135a39b5d",
   "metadata": {},
   "source": [
    "## Python reports a runtime error when something goes wrong while a program is executing."
   ]
  },
  {
   "cell_type": "code",
   "execution_count": null,
   "id": "bf3b6813-906a-4522-981b-6d6e9ff9b5fa",
   "metadata": {},
   "outputs": [],
   "source": []
  },
  {
   "cell_type": "markdown",
   "id": "ab255074-63f1-4c77-92ef-1956734ab2b2",
   "metadata": {},
   "source": [
    "* Correct syntax errors by reading the source and runtime errors by tracing execution."
   ]
  },
  {
   "cell_type": "markdown",
   "id": "b0816a00-32f5-438e-8732-e275501f0116",
   "metadata": {},
   "source": [
    "### Explore the Python docs!\r\n",
    "The[ official Python documentatio](https://docs.python.org/3/)n is arguably the most complete source of information about the language. It is available in different languages and contains a lot of useful resources. The[ Built-in Functions pag](https://docs.python.org/3/library/functions.html)e contains a catalogue of all of these functions, including the ones that we’ve covered in this lesson. Some of these are more advanced and unnecessary at the moment, but others are very simple and useful."
   ]
  },
  {
   "cell_type": "markdown",
   "id": "370c5d2f-8ccd-4e0d-be53-f2a07b7e3562",
   "metadata": {},
   "source": [
    "# **Libraries**"
   ]
  },
  {
   "cell_type": "markdown",
   "id": "8de5e8c1-43f0-4811-a22b-ef3a74e99ca1",
   "metadata": {},
   "source": [
    "## Overview\n",
    "### Questions\n",
    "* How can I use software that other people have writte?\n",
    "* How can I find what that software does?\n",
    "\n",
    "<hr>\n",
    "\n",
    "### Objectives\n",
    "* Explain what software libraries are and why programmers create and use them.\n",
    "* Write programs that import and use modules from Python’s standard library.\n",
    "* Find and read documentation for the standard library interactively (in the interpreter) and online."
   ]
  },
  {
   "cell_type": "markdown",
   "id": "0bfd63a7-548a-49c3-bfe4-0731ada36b41",
   "metadata": {},
   "source": [
    "## Most of the power of a programming language is in its libraries.\n",
    "* A *library* is a collection of files (called modules) that contains functions for use by other programs.\n",
    "    * May also contain data values (e.g., numerical constants) and other things.\n",
    "    * Library’s contents are supposed to be related, but there’s no way to enforce that.\n",
    "* The Python [standard library](https://docs.python.org/3/library/) is an extensive suite of modules that comes with Python itself.\n",
    "* Many additional libraries are available from [PyPI](https://pypi.org/) (the Python Package Index).\n",
    "* We will see later how to write new libraries."
   ]
  },
  {
   "cell_type": "markdown",
   "id": "f09e511c-383c-4b05-8dc1-1e3e7d629fac",
   "metadata": {},
   "source": [
    "## A program must import a library module before using it.\n",
    "* Use `import` to load a library module into a program's memory.\n",
    "* Then refer to things from the module as `module_name.thing_name`.\n",
    "  * Python uses . to mean \"part of\".\n",
    "* Using `math`, one of the modules in the standard library:"
   ]
  },
  {
   "cell_type": "markdown",
   "id": "bdf6248b-46ec-4943-8179-29b0eec058ed",
   "metadata": {},
   "source": []
  },
  {
   "cell_type": "markdown",
   "id": "1b500765-a628-48d5-91fc-cdfbf585a130",
   "metadata": {},
   "source": [
    "* Have to refer to each item with the module's name.\n",
    "  * `math.cos(pi)` won't work: the reference to `pi` doesn't somehow \"inherit\" the function's reference to `math`."
   ]
  },
  {
   "cell_type": "markdown",
   "id": "7a5fe8ef-b768-43b9-9457-6239465ff1a1",
   "metadata": {},
   "source": [
    "## Use `help` to learn about the contents of a library module."
   ]
  },
  {
   "cell_type": "code",
   "execution_count": null,
   "id": "851bb8a3-75c6-4912-b16f-fb51ed7187d1",
   "metadata": {},
   "outputs": [],
   "source": []
  },
  {
   "cell_type": "markdown",
   "id": "99008e49-696d-42ff-b4f9-ad9c1a84f01e",
   "metadata": {},
   "source": [
    "## Import specific items from a library module to shorten programs.\n",
    "* Use `from ... import ...` to load only specific items from a library module.\n",
    "* Then refer to them directly without library name as prefix."
   ]
  },
  {
   "cell_type": "code",
   "execution_count": null,
   "id": "f4bd5e26-d84b-47bc-9d2c-89c646cf93fb",
   "metadata": {},
   "outputs": [],
   "source": []
  },
  {
   "cell_type": "markdown",
   "id": "6c6f7b7d-15ce-4841-8b6a-ae9522fdeed9",
   "metadata": {},
   "source": [
    "## Create an alias for a library module when importing it to shorten programs. \n",
    "* Use `import ... as ...` to give a library a short *alias* while importing it.\n",
    "* Then refer to items in the library using that shortened name.\n",
    "* Commonly used for libraries that are frequently used or have long names.\n",
    "  * E.g., the `matplotlib` plotting library is often aliased as `mpl`.\n",
    "* But can make programs harder to understand, since readers must learn your program's aliases."
   ]
  },
  {
   "cell_type": "code",
   "execution_count": null,
   "id": "0451d07c-bb98-459f-947f-36388bf26788",
   "metadata": {},
   "outputs": [],
   "source": []
  },
  {
   "cell_type": "markdown",
   "id": "8604dab6-9325-4463-a77a-f5723918e1ce",
   "metadata": {},
   "source": [
    "# **Reading Tabular Data into DataFrames**"
   ]
  },
  {
   "cell_type": "markdown",
   "id": "2854401d-ecfe-45df-b026-09568abb810c",
   "metadata": {},
   "source": [
    "## Overview\n",
    "### Questions\n",
    "* How can I read tabular data?\n",
    "\n",
    "<hr>\n",
    "\n",
    "### Objectives\n",
    "* Import the Pandas library\n",
    "* Use Pandas to load a CSV data set.\n",
    "* Get some basic information about a Pandas DataFrame."
   ]
  },
  {
   "cell_type": "markdown",
   "id": "875959c8-a904-489f-969d-4211ebda9e52",
   "metadata": {},
   "source": [
    "## Use the Pandas library to do statistics on tabular data.\r\n",
    "\r\n",
    "- [Pandas](https://pandas.pydata.org/) is a widely-used Python library for statistics, particularly on tabular data.\r\n",
    "- Borrows many features from R's dataframes.\r\n",
    "  - A 2-dimensional table whose columns have names\r\n",
    "    and potentially have different data types.\r\n",
    "- Load Pandas with `import pandas as pd`. The alias `pd` is commonly used to refer to the Pandas library in code.\r\n",
    "- Read a Comma Separated Values (CSV) data file with `pd.read_csv`.\r\n",
    "  - Argument is the name of the file to be read.\r\n",
    "  - Returns a dataframe that you can assign to a\n",
    "- The columns in a dataframe are the observed variables, and the rows are the observations.\r\n",
    "- Pandas uses backslash `\\` to show wrapped lines when output is too wide to fit the screen.\r\n",
    "- Using descriptive dataframe names helps us distinguish between multiple dataframes so we won't accidentally overwrite a dataframe or read from the wrong one. variable::::::::::::::::::\r\n"
   ]
  },
  {
   "cell_type": "markdown",
   "id": "efb5806a-a9d8-4b8f-8ee6-7d368e16ada9",
   "metadata": {},
   "source": [
    "## Use `index_col` to specify that a column's values should be used as row headings.\n",
    "\n",
    "- Row headings are numbers (0 and 1 in this case).\n",
    "- Really want to index by country.\n",
    "- Pass the name of the column to `read_csv` as its `index_col` parameter to do this.\n",
    "- Naming the dataframe `data_oceania_country` tells us which region the data includes (`oceania`) and how it is indexed (`country`).\n"
   ]
  },
  {
   "cell_type": "markdown",
   "id": "50d272b7-abf1-42bc-8992-fcac081afbc9",
   "metadata": {},
   "source": [
    "## Use the `DataFrame.info()` method to find out more about a dataframe.\n",
    "- This is a `DataFrame`\n",
    "- Two rows named `'Australia'` and `'New Zealand'`\n",
    "- Twelve columns, each of which has two actual 64-bit floating point values.\n",
    "  - We will talk later about null values, which are used to represent missing observations.\n",
    "- Uses 208 bytes of memory."
   ]
  },
  {
   "cell_type": "markdown",
   "id": "733618e5-5b6d-4075-bfeb-9bbc1d5b031e",
   "metadata": {},
   "source": [
    "## The `DataFrame.columns` variable stores information about the dataframe's columns.\n",
    "\n",
    "- Note that this is data, *not* a method.  (It doesn't have parentheses.)\n",
    "  - Like `math.pi`.\n",
    "  - So do not use `()` to try to call it.\n",
    "- Called a *member variable*, or just *member*."
   ]
  },
  {
   "cell_type": "markdown",
   "id": "f27626bd-0936-48ca-8814-5e4d8e4817f5",
   "metadata": {},
   "source": [
    "## Use `DataFrame.T` to transpose a dataframe.\n",
    "\n",
    "- Sometimes want to treat columns as rows and vice versa.\n",
    "- Transpose (written `.T`) doesn't copy the data, just changes the program's view of it.\n",
    "- Like `columns`, it is a member variable.\n"
   ]
  },
  {
   "cell_type": "markdown",
   "id": "29b10552-f5ac-4790-a227-63293ed6fa99",
   "metadata": {},
   "source": [
    "## Use `DataFrame.describe()` to get summary statistics about data.\n",
    "\n",
    "`DataFrame.describe()` gets the summary statistics of only the columns that have numerical data.\n",
    "All other columns are ignored, unless you use the argument `include='all'`.\n",
    "\n",
    "- Not particularly useful with just two records,\n",
    "  but very helpful when there are thousands."
   ]
  },
  {
   "cell_type": "markdown",
   "id": "8f32d11b-9623-477d-96ed-d09d7f33ace5",
   "metadata": {},
   "source": [
    "# **Pandas DataFrames**"
   ]
  },
  {
   "cell_type": "markdown",
   "id": "5fb25943-21fd-4732-bce7-5ef053572a9c",
   "metadata": {},
   "source": [
    "## Overview\n",
    "### Questions\n",
    "- Select individual values from a Pandas dataframe.\n",
    "- Select entire rows or entire columns from a dataframe.\n",
    "- Select a subset of both rows and columns from a dataframe in a single operation.\n",
    "- Select a subset of a dataframe by a single Boolean criterion.\n",
    "\n",
    "<hr>\n",
    "\n",
    "### Objectives\n",
    "- How can I do statistical analysis of tabular data?"
   ]
  },
  {
   "cell_type": "markdown",
   "id": "f5b4b1d1-e913-422a-bbaa-d898e75bcfb0",
   "metadata": {},
   "source": [
    "## Note about Pandas DataFrames/Series\n",
    "\n",
    "A [DataFrame][pandas-dataframe] is a collection of [Series][pandas-series];\n",
    "The DataFrame is the way Pandas represents a table, and Series is the data-structure\n",
    "Pandas use to represent a column.\n",
    "\n",
    "Pandas is built on top of the [Numpy][numpy] library, which in practice means that\n",
    "most of the methods defined for Numpy Arrays apply to Pandas Series/DataFrames.\n",
    "\n",
    "What makes Pandas so attractive is the powerful interface to access individual records\n",
    "of the table, proper handling of missing values, and relational-databases operations\n",
    "between DataFrames."
   ]
  },
  {
   "cell_type": "markdown",
   "id": "c4c8af3c-d9df-4606-9edb-16b084f7c078",
   "metadata": {},
   "source": [
    "## Selecting values\n",
    "\n",
    "To access a value at the position `[i,j]` of a DataFrame, we have two options, depending on\n",
    "what is the meaning of `i` in use.\n",
    "Remember that a DataFrame provides an *index* as a way to identify the rows of the table;\n",
    "a row, then, has a *position* inside the table as well as a *label*, which\n",
    "uniquely identifies its *entry* in the DataFrame."
   ]
  },
  {
   "cell_type": "markdown",
   "id": "ccf69f9b-da90-42a9-9f9f-93f4f1ce99c1",
   "metadata": {},
   "source": [
    "## Use `DataFrame.iloc[..., ...]` to select values by their (entry) position\n",
    "\n",
    "- Can specify location by numerical index analogously to 2D version of character selection in strings."
   ]
  },
  {
   "cell_type": "markdown",
   "id": "beea5609-1460-4f0d-8d39-f0a11476b186",
   "metadata": {},
   "source": [
    "## Use `DataFrame.loc[..., ...]` to select values by their (entry) label.\n",
    "\n",
    "- Can specify location by row and/or column name."
   ]
  },
  {
   "cell_type": "markdown",
   "id": "f30e82ca-9fab-41a8-b1e5-28869fc5b2bc",
   "metadata": {},
   "source": [
    "## Use `:` on its own to mean all columns or all rows.\n",
    "\n",
    "- Just like Python's usual slicing notation."
   ]
  },
  {
   "cell_type": "code",
   "execution_count": null,
   "id": "a4fc42b3-c0ac-483b-a689-7329d2651666",
   "metadata": {},
   "outputs": [],
   "source": []
  },
  {
   "cell_type": "markdown",
   "id": "99cda831-72cf-48c6-b944-cafcaa9734d7",
   "metadata": {},
   "source": [
    "- Would get the same result printing `data.loc[\"Albania\"]` (without a second index)."
   ]
  },
  {
   "cell_type": "code",
   "execution_count": null,
   "id": "b9193cc8-9a1d-45ba-9064-49175d37f632",
   "metadata": {},
   "outputs": [],
   "source": []
  },
  {
   "cell_type": "markdown",
   "id": "1b2fde14-3843-4ca5-99ec-ef1353063af0",
   "metadata": {},
   "source": [
    "- Would get the same result printing `data[\"gdpPercap_1952\"]`\n",
    "- Also get the same result printing `data.gdpPercap_1952` (not recommended, because easily confused with `.` notation for methods)"
   ]
  },
  {
   "cell_type": "code",
   "execution_count": null,
   "id": "08759099-fa4d-4c2d-a078-d4331c70f732",
   "metadata": {},
   "outputs": [],
   "source": []
  },
  {
   "cell_type": "markdown",
   "id": "2f23f46f-ff83-4105-b30b-af58cf07ffa4",
   "metadata": {},
   "source": [
    "## Select multiple columns or rows using `DataFrame.loc` and a named slice."
   ]
  },
  {
   "cell_type": "code",
   "execution_count": null,
   "id": "aae32aad-848c-4b7c-954c-e06e131271a6",
   "metadata": {},
   "outputs": [],
   "source": []
  },
  {
   "cell_type": "markdown",
   "id": "6343c2ec-6990-430b-ac24-de9af277f09a",
   "metadata": {},
   "source": [
    "In the above code, we discover that **slicing using `loc` is inclusive at both\n",
    "ends**, which differs from **slicing using `iloc`**, where slicing indicates\n",
    "everything up to but not including the final index."
   ]
  },
  {
   "cell_type": "markdown",
   "id": "94995848-b164-42e3-b876-fddcacb202be",
   "metadata": {},
   "source": [
    "## Result of slicing can be used in further operations.\n",
    "\n",
    "- Usually don't just print a slice.\n",
    "- All the statistical operators that work on entire dataframes\n",
    "  work the same way on slices.\n",
    "- E.g., calculate max of a slice."
   ]
  },
  {
   "cell_type": "markdown",
   "id": "ad01798c-3d66-4253-8cd8-8f9f0aa45f2a",
   "metadata": {},
   "source": [
    "## Use comparisons to select data based on value.\n",
    "\n",
    "- Comparison is applied element by element.\n",
    "- Returns a similarly-shaped dataframe of `True` and `False`."
   ]
  },
  {
   "cell_type": "markdown",
   "id": "8feefcbb-832e-423a-8883-2e8825bd2aef",
   "metadata": {},
   "source": [
    "## Select values or NaN using a Boolean mask.\n",
    "\n",
    "- A frame full of Booleans is sometimes called a *mask* because of how it can be used."
   ]
  },
  {
   "cell_type": "code",
   "execution_count": null,
   "id": "f9597c8c-b5a1-4e6e-94e4-6616e796a993",
   "metadata": {},
   "outputs": [],
   "source": []
  },
  {
   "cell_type": "markdown",
   "id": "82e9df4d-41b6-44fb-a646-5b03293e6ed5",
   "metadata": {},
   "source": [
    "- Get the value where the mask is true, and NaN (Not a Number) where it is false.\n",
    "- Useful because NaNs are ignored by operations like max, min, average, etc."
   ]
  },
  {
   "cell_type": "markdown",
   "id": "8ee92e4e-1ccd-49e8-bb5a-b6c37ab256b5",
   "metadata": {},
   "source": [
    "## Group By: split-apply-combine"
   ]
  },
  {
   "cell_type": "markdown",
   "id": "0e5a0468-d03c-4f14-9b79-80a9a56fdfe0",
   "metadata": {},
   "source": [
    "# **Plotting**"
   ]
  },
  {
   "cell_type": "markdown",
   "id": "a41a8f32-bca9-497d-b559-6a1d7fd09823",
   "metadata": {},
   "source": [
    "## Overview\n",
    "### Questions\n",
    "- Create a time series plot showing a single data set.\n",
    "- Create a scatter plot showing relationship between two data sets.\n",
    "\n",
    "<hr>\n",
    "\n",
    "### Objectives\n",
    "- How can I plot my data?\n",
    "- How can I save my plot for publishing?"
   ]
  },
  {
   "cell_type": "markdown",
   "id": "6630be15-a59c-4a7d-a576-1df4dfe71a36",
   "metadata": {},
   "source": [
    "## [`matplotlib`](https://matplotlib.org/) is the most widely used scientific plotting library in Python.\n",
    "\n",
    "- Commonly use a sub-library called [`matplotlib.pyplot`](https://matplotlib.org/stable/tutorials/introductory/pyplot.html).\n",
    "- The Jupyter Notebook will render plots inline by default."
   ]
  },
  {
   "cell_type": "code",
   "execution_count": null,
   "id": "5a5756b4-82aa-4b2b-a33c-6a53ff5a4da7",
   "metadata": {},
   "outputs": [],
   "source": []
  },
  {
   "cell_type": "markdown",
   "id": "ec1430d7-bc69-4bd9-9b65-74f2d32f4e5e",
   "metadata": {},
   "source": [
    "- Simple plots are then (fairly) simple to create."
   ]
  },
  {
   "cell_type": "code",
   "execution_count": null,
   "id": "3db03cc8-40b2-4d6b-a129-38bb5b7fd277",
   "metadata": {},
   "outputs": [],
   "source": []
  },
  {
   "cell_type": "markdown",
   "id": "fee59569-a3c7-4b3b-a775-e70f96c78663",
   "metadata": {},
   "source": [
    "## Display All Open Figures\n",
    "\n",
    "In our Jupyter Notebook example, running the cell should generate the figure directly below the code.\n",
    "The figure is also included in the Notebook document for future viewing.\n",
    "However, other Python environments like an interactive Python session started from a terminal\n",
    "or a Python script executed via the command line require an additional command to display the figure.\n",
    "\n",
    "Instruct `matplotlib` to show a figure:\n",
    "\n",
    "```python\n",
    "plt.show()\n",
    "```\n",
    "\n",
    "This command can also be used within a Notebook - for instance, to display multiple figures\n",
    "if several are created by a single cell."
   ]
  },
  {
   "cell_type": "code",
   "execution_count": null,
   "id": "0ed144f3-1833-4e82-a294-d4119ccf9574",
   "metadata": {},
   "outputs": [],
   "source": []
  },
  {
   "cell_type": "markdown",
   "id": "f4008eac-75fd-4c94-9cff-1ae8303b0849",
   "metadata": {},
   "source": [
    "## Plot data directly from a [`Pandas dataframe`](https://pandas.pydata.org/pandas-docs/stable/reference/api/pandas.DataFrame.html).\n",
    "\n",
    "- We can also plot [Pandas dataframes](https://pandas.pydata.org/pandas-docs/stable/generated/pandas.DataFrame.html).\n",
    "- Before plotting, we convert the column headings from a `string` to `integer` data type, since they represent numerical values,\n",
    "  using [str.replace()](https://pandas.pydata.org/docs/reference/api/pandas.Series.str.replace.html) to remove the `gpdPercap_`\n",
    "  prefix and then [astype(int)](https://pandas.pydata.org/docs/reference/api/pandas.Series.astype.html)\n",
    "  to convert the series of string values (`['1952', '1957', ..., '2007']`) to a series of integers: `[1925, 1957, ..., 2007]`.\n"
   ]
  },
  {
   "cell_type": "code",
   "execution_count": null,
   "id": "d059b53e-ce8a-4800-a44c-52d3f170dd3a",
   "metadata": {},
   "outputs": [],
   "source": []
  },
  {
   "cell_type": "markdown",
   "id": "4c220e5a-1032-4b37-84c1-323fd4697d65",
   "metadata": {},
   "source": [
    "## Select and transform data, then plot it.\n",
    "\n",
    "- By default, [`DataFrame.plot`](https://pandas.pydata.org/pandas-docs/stable/generated/pandas.DataFrame.plot.html#pandas.DataFrame.plot) plots with the rows as the X axis.\n",
    "- We can transpose the data in order to plot multiple series."
   ]
  },
  {
   "cell_type": "code",
   "execution_count": null,
   "id": "e5927cb5-22eb-4c5a-9a49-ce495e48088c",
   "metadata": {},
   "outputs": [],
   "source": []
  },
  {
   "cell_type": "markdown",
   "id": "a381202b-e07a-4a74-94d8-ba92ca554b9c",
   "metadata": {},
   "source": [
    "## Many styles of plot are available.\n",
    "\n",
    "- For example, do a bar plot using a fancier style."
   ]
  },
  {
   "cell_type": "code",
   "execution_count": null,
   "id": "c2363e4e-c2dd-4136-9cf0-b1e24e2a694b",
   "metadata": {},
   "outputs": [],
   "source": []
  },
  {
   "cell_type": "markdown",
   "id": "2199efce-bf50-479c-be1e-17b407b85ccc",
   "metadata": {},
   "source": [
    "## Data can also be plotted by calling the `matplotlib` `plot` function directly.\n",
    "\n",
    "- The command is `plt.plot(x, y)`\n",
    "- The color and format of markers can also be specified as an additional optional argument e.g., `b-` is a blue line, `g--` is a green dashed line.\n"
   ]
  },
  {
   "cell_type": "code",
   "execution_count": null,
   "id": "3e13d052-95d9-4323-a41e-a7c6322f224b",
   "metadata": {},
   "outputs": [],
   "source": []
  },
  {
   "cell_type": "markdown",
   "id": "061dc41f-aa44-497a-bd8e-7cd5b7fed8cc",
   "metadata": {},
   "source": [
    "## Get Australia data from dataframe"
   ]
  },
  {
   "cell_type": "code",
   "execution_count": null,
   "id": "b2638277-28a5-4202-982a-d3c6d780d75b",
   "metadata": {},
   "outputs": [],
   "source": []
  },
  {
   "cell_type": "markdown",
   "id": "3c5e1b84-7b33-4527-bc9a-1c3dc7623859",
   "metadata": {},
   "source": [
    "## Can plot many sets of data together."
   ]
  },
  {
   "cell_type": "code",
   "execution_count": null,
   "id": "2d01d17a-888b-4a44-bfd6-ff7bf60e7866",
   "metadata": {},
   "outputs": [],
   "source": []
  },
  {
   "cell_type": "markdown",
   "id": "e4133a9c-24ba-4d23-ba7a-da7596396578",
   "metadata": {},
   "source": [
    "## Adding a Legend\n",
    "\n",
    "Often when plotting multiple datasets on the same figure it is desirable to have\n",
    "a legend describing the data.\n",
    "\n",
    "This can be done in `matplotlib` in two stages:\n",
    "\n",
    "- Provide a label for each dataset in the figure:"
   ]
  },
  {
   "cell_type": "code",
   "execution_count": null,
   "id": "00f16b64-19c5-434c-9c31-14ff5cc93a5f",
   "metadata": {},
   "outputs": [],
   "source": []
  },
  {
   "cell_type": "markdown",
   "id": "3413b6af-f219-44ad-93fb-327aac9e0198",
   "metadata": {},
   "source": [
    "By default matplotlib will attempt to place the legend in a suitable position. If you\n",
    "would rather specify a position this can be done with the `loc=` argument, e.g to place\n",
    "the legend in the upper left corner of the plot, specify `loc='upper left'`"
   ]
  },
  {
   "cell_type": "markdown",
   "id": "e501f58c-64e7-420e-9054-ccf0b5faf6ee",
   "metadata": {},
   "source": [
    "# **Lists**"
   ]
  },
  {
   "cell_type": "markdown",
   "id": "8db0c49f-bd9d-4027-96cd-601673ec96df",
   "metadata": {},
   "source": [
    "## Overview\n",
    "### Questions\n",
    "- Explain why programs need collections of values.\n",
    "- Write programs that create flat lists, index them, slice them, and modify them through assignment and method calls.\n",
    "\n",
    "<hr>\n",
    "\n",
    "### Objectives\n",
    "- How can I store multiple values?"
   ]
  },
  {
   "cell_type": "markdown",
   "id": "053156af-910f-4cf1-93e3-b56d292eaaf0",
   "metadata": {},
   "source": [
    "## A list stores many values in a single structure.\n",
    "\n",
    "- Doing calculations with a hundred variables called `pressure_001`, `pressure_002`, etc.,\n",
    "  would be at least as slow as doing them by hand.\n",
    "- Use a *list* to store many values together.\n",
    "  - Contained within square brackets `[...]`.\n",
    "  - Values separated by commas `,`.\n",
    "- Use `len` to find out how many values are in a list."
   ]
  },
  {
   "cell_type": "code",
   "execution_count": null,
   "id": "8d66b91a-8e95-4cde-815d-819a533e091a",
   "metadata": {},
   "outputs": [],
   "source": []
  },
  {
   "cell_type": "markdown",
   "id": "ceee93e4-38cb-4eab-a338-f7456e905363",
   "metadata": {},
   "source": [
    "## Use an item's index to fetch it from a list.\n",
    "\n",
    "- Just like strings.\n"
   ]
  },
  {
   "cell_type": "code",
   "execution_count": null,
   "id": "c6528d45-f146-4a78-923c-0d5f4aa77052",
   "metadata": {},
   "outputs": [],
   "source": []
  },
  {
   "cell_type": "markdown",
   "id": "35fb85d1-4b1d-4b6c-a288-5d9ff7b4f9d5",
   "metadata": {},
   "source": [
    "## Lists' values can be replaced by assigning to them.\n",
    "\n",
    "- Use an index expression on the left of assignment to replace a value."
   ]
  },
  {
   "cell_type": "code",
   "execution_count": null,
   "id": "c1ab8665-1468-4f74-8db9-6a42ea1b4e74",
   "metadata": {},
   "outputs": [],
   "source": []
  },
  {
   "cell_type": "markdown",
   "id": "4ff4d736-d6b7-45e9-a764-10d674fa8b1a",
   "metadata": {},
   "source": [
    "## Appending items to a list lengthens it.\n",
    "\n",
    "- Use `list_name.append` to add items to the end of a list."
   ]
  },
  {
   "cell_type": "code",
   "execution_count": null,
   "id": "24a7eb86-a376-4868-b750-4e77ec682975",
   "metadata": {},
   "outputs": [],
   "source": []
  },
  {
   "cell_type": "markdown",
   "id": "1b06bdd5-4816-4e1b-833d-3d04bcbf26a8",
   "metadata": {},
   "source": [
    "- `append` is a *method* of lists.\n",
    "  - Like a function, but tied to a particular object.\n",
    "- Use `object_name.method_name` to call methods.\n",
    "  - Deliberately resembles the way we refer to things in a library.\n",
    "- We will meet other methods of lists as we go along.\n",
    "  - Use `help(list)` for a preview.\n",
    "- `extend` is similar to `append`, but it allows you to combine two lists.  For example:"
   ]
  },
  {
   "cell_type": "code",
   "execution_count": null,
   "id": "0a4f5725-e9ba-46c4-9561-cf3632fdefa5",
   "metadata": {},
   "outputs": [],
   "source": []
  },
  {
   "cell_type": "markdown",
   "id": "63adcadd-442d-4eb6-ba00-7681482ed263",
   "metadata": {},
   "source": [
    "Note that while `extend` maintains the \"flat\" structure of the list, appending a list to a list means\n",
    "the last element in `primes` will itself be a list, not an integer. Lists can contain values of any\n",
    "type; therefore, lists of lists are possible."
   ]
  },
  {
   "cell_type": "code",
   "execution_count": null,
   "id": "58409763-723e-4bd1-abf7-7992d613bb38",
   "metadata": {},
   "outputs": [],
   "source": []
  },
  {
   "cell_type": "markdown",
   "id": "981b1c01-fb83-428f-a214-811cf4feff96",
   "metadata": {},
   "source": [
    "## Use `del` to remove items from a list entirely.\n",
    "\n",
    "- We use `del list_name[index]` to remove an element from a list (in the example, 9 is not a prime number) and thus shorten it.\n",
    "- `del` is not a function or a method, but a statement in the language."
   ]
  },
  {
   "cell_type": "code",
   "execution_count": null,
   "id": "52aca7b5-d016-4954-902d-5491bf412386",
   "metadata": {},
   "outputs": [],
   "source": []
  },
  {
   "cell_type": "markdown",
   "id": "5715ab01-8611-4d9a-acf2-183a9aafe1b2",
   "metadata": {},
   "source": [
    "## The empty list contains no values.\n",
    "\n",
    "- Use `[]` on its own to represent a list that doesn't contain any values.\n",
    "  - \"The zero of lists.\"\n",
    "- Helpful as a starting point for collecting values\n",
    "  (which we will see in the [next episode](12-for-loops.md))."
   ]
  },
  {
   "cell_type": "code",
   "execution_count": null,
   "id": "997be5fb-d8aa-4d82-91ac-0e025066ad7d",
   "metadata": {},
   "outputs": [],
   "source": []
  },
  {
   "cell_type": "markdown",
   "id": "eb081840-2e72-453e-b48f-6d7e3817f34b",
   "metadata": {},
   "source": [
    "## Lists may contain values of different types.\n",
    "\n",
    "- A single list may contain numbers, strings, and anything else."
   ]
  },
  {
   "cell_type": "code",
   "execution_count": null,
   "id": "8a40f90c-924c-4aa6-96c5-b352aadec620",
   "metadata": {},
   "outputs": [],
   "source": []
  },
  {
   "cell_type": "markdown",
   "id": "e70726a2-75fc-436c-9cc2-e2dbd4612a12",
   "metadata": {},
   "source": [
    "## Character strings can be indexed like lists.\n",
    "\n",
    "- Get single characters from a character string using indexes in square brackets."
   ]
  },
  {
   "cell_type": "code",
   "execution_count": null,
   "id": "4705e689-e124-43bf-afb2-a3f42de36230",
   "metadata": {},
   "outputs": [],
   "source": []
  },
  {
   "cell_type": "markdown",
   "id": "81853027-977a-4781-a4af-9a8c321d1dcc",
   "metadata": {},
   "source": [
    "## Character strings are immutable.\n",
    "\n",
    "- Cannot change the characters in a string after it has been created.\n",
    "  - *Immutable*: can't be changed after creation.\n",
    "  - In contrast, lists are *mutable*: they can be modified in place.\n",
    "- Python considers the string to be a single value with parts,\n",
    "  not a collection of values."
   ]
  },
  {
   "cell_type": "code",
   "execution_count": null,
   "id": "81e904dd-1794-4857-989f-40f002a88dad",
   "metadata": {},
   "outputs": [],
   "source": []
  },
  {
   "cell_type": "markdown",
   "id": "578e49b2-6965-4e49-ad30-0e6de8a57694",
   "metadata": {},
   "source": [
    "- Lists and character strings are both *collections*."
   ]
  },
  {
   "cell_type": "code",
   "execution_count": null,
   "id": "1dc65b16-fe1f-4f49-b53c-24c9eac769ea",
   "metadata": {},
   "outputs": [],
   "source": []
  },
  {
   "cell_type": "markdown",
   "id": "2adf0c23-22c5-4f0d-940d-0e53f15f6742",
   "metadata": {},
   "source": [
    "## Indexing beyond the end of the collection is an error.\n",
    "\n",
    "- Python reports an `IndexError` if we attempt to access a value that doesn't exist.\n",
    "  - This is a kind of [runtime error](04-built-in.md).\n",
    "  - Cannot be detected as the code is parsed\n",
    "    because the index might be calculated based on data."
   ]
  },
  {
   "cell_type": "code",
   "execution_count": null,
   "id": "b99d91ae-08fc-4378-9a88-17fcf9359dcd",
   "metadata": {},
   "outputs": [],
   "source": []
  },
  {
   "cell_type": "markdown",
   "id": "1f1552e4-33a9-4967-823e-46db72f24987",
   "metadata": {},
   "source": [
    "# **For Loops**"
   ]
  },
  {
   "cell_type": "markdown",
   "id": "9480fd32-05e2-437f-bc9b-faf23a742461",
   "metadata": {},
   "source": [
    "## Overview\n",
    "### Questions\n",
    "- Explain what for loops are normally used for.\n",
    "- Trace the execution of a simple (unnested) loop and correctly state the values of variables in each iteration.\n",
    "- Write for loops that use the Accumulator pattern to aggregate values.\n",
    "\n",
    "<hr>\n",
    "\n",
    "### Objectives\n",
    "- How can I make a program do many things?"
   ]
  },
  {
   "cell_type": "markdown",
   "id": "30412d04-3de2-40b8-8138-57f58fe24633",
   "metadata": {},
   "source": [
    "## A *for loop* executes commands once for each value in a collection.\n",
    "\n",
    "- Doing calculations on the values in a list one by one\n",
    "  is as painful as working with `pressure_001`, `pressure_002`, etc.\n",
    "- A *for loop* tells Python to execute some statements once for each value in a list,\n",
    "  a character string,\n",
    "  or some other collection.\n",
    "- \"for each thing in this group, do these operations\""
   ]
  },
  {
   "cell_type": "code",
   "execution_count": null,
   "id": "615fb2dd-4eac-4b08-a122-37cfe36131da",
   "metadata": {},
   "outputs": [],
   "source": []
  },
  {
   "cell_type": "markdown",
   "id": "b585d31d-886d-4ab1-b9ed-dfd727455633",
   "metadata": {},
   "source": [
    "## A `for` loop is made up of a collection, a loop variable, and a body."
   ]
  },
  {
   "cell_type": "code",
   "execution_count": null,
   "id": "d9e1293f-86c9-4152-93dd-81443bafb213",
   "metadata": {},
   "outputs": [],
   "source": []
  },
  {
   "cell_type": "markdown",
   "id": "602735fd-84ac-485a-8111-c3a06f0714cd",
   "metadata": {},
   "source": [
    "- The collection, `[2, 3, 5]`, is what the loop is being run on.\n",
    "- The body, `print(number)`, specifies what to do for each value in the collection.\n",
    "- The loop variable, `number`, is what changes for each *iteration* of the loop.\n",
    "  - The \"current thing\"."
   ]
  },
  {
   "cell_type": "code",
   "execution_count": null,
   "id": "8529d04b-9d4d-4183-82f0-42d89f57f60c",
   "metadata": {},
   "outputs": [],
   "source": []
  },
  {
   "cell_type": "markdown",
   "id": "cbb3bd03-e088-4d71-968c-864986c4ac00",
   "metadata": {},
   "source": [
    "## The first line of the `for` loop must end with a colon, and the body must be indented.\n",
    "\n",
    "- The colon at the end of the first line signals the start of a *block* of statements.\n",
    "- Python uses indentation rather than `{}` or `begin`/`end` to show *nesting*.\n",
    "  - Any consistent indentation is legal, but almost everyone uses four spaces."
   ]
  },
  {
   "cell_type": "code",
   "execution_count": null,
   "id": "9ecc69f8-13cf-4967-bc58-be15b10f3285",
   "metadata": {},
   "outputs": [],
   "source": []
  },
  {
   "cell_type": "markdown",
   "id": "8b09ab9c-2ad1-4aaf-9899-f0c7964b7083",
   "metadata": {},
   "source": [
    "- Indentation is always meaningful in Python."
   ]
  },
  {
   "cell_type": "code",
   "execution_count": null,
   "id": "370e795b-0600-445e-8177-eef62bcae121",
   "metadata": {},
   "outputs": [],
   "source": []
  },
  {
   "cell_type": "markdown",
   "id": "6829c661-da48-4cc4-b576-548b911abdce",
   "metadata": {},
   "source": [
    "- This error can be fixed by removing the extra spaces\n",
    "  at the beginning of the second line."
   ]
  },
  {
   "cell_type": "code",
   "execution_count": null,
   "id": "1cbda9d7-7022-417e-88e1-a5aed8f0cf94",
   "metadata": {},
   "outputs": [],
   "source": []
  },
  {
   "cell_type": "markdown",
   "id": "5f7997b2-9c22-4811-8f58-c4d467a9fad0",
   "metadata": {},
   "source": [
    "## Loop variables can be called anything.\n",
    "\n",
    "- As with all variables, loop variables are:\n",
    "  - Created on demand.\n",
    "  - Meaningless: their names can be anything at all."
   ]
  },
  {
   "cell_type": "code",
   "execution_count": null,
   "id": "e68e082d-9207-428a-b29c-2db0d9c998d9",
   "metadata": {},
   "outputs": [],
   "source": []
  },
  {
   "cell_type": "markdown",
   "id": "26cd2238-6da0-4d9e-9e4d-bfe2b99bc90f",
   "metadata": {},
   "source": [
    "## The body of a loop can contain many statements.\n",
    "\n",
    "- But no loop should be more than a few lines long.\n",
    "- Hard for human beings to keep larger chunks of code in mind."
   ]
  },
  {
   "cell_type": "code",
   "execution_count": null,
   "id": "11a161ed-1cd2-4b59-9c05-81ec5cdc261f",
   "metadata": {},
   "outputs": [],
   "source": []
  },
  {
   "cell_type": "markdown",
   "id": "233bfc77-2f8d-4362-b0ed-26397180431b",
   "metadata": {},
   "source": [
    "## Use `range` to iterate over a sequence of numbers.\n",
    "\n",
    "- The built-in function [`range`](https://docs.python.org/3/library/stdtypes.html#range) produces a sequence of numbers.\n",
    "  - *Not* a list: the numbers are produced on demand\n",
    "    to make looping over large ranges more efficient.\n",
    "- `range(N)` is the numbers 0..N-1\n",
    "  - Exactly the legal indices of a list or character string of length N"
   ]
  },
  {
   "cell_type": "code",
   "execution_count": null,
   "id": "200a1c08-cfac-4820-a7e3-7ce33456b78a",
   "metadata": {},
   "outputs": [],
   "source": []
  },
  {
   "cell_type": "markdown",
   "id": "f363c000-e1d1-4e5f-89d6-1dc4d9f212d1",
   "metadata": {},
   "source": [
    "## The Accumulator pattern turns many values into one.\n",
    "\n",
    "- A common pattern in programs is to:\n",
    "  1. Initialize an *accumulator* variable to zero, the empty string, or the empty list.\n",
    "  2. Update the variable with values from a collection."
   ]
  },
  {
   "cell_type": "code",
   "execution_count": null,
   "id": "bbacf203-d1ba-4c6c-8548-aded86a429be",
   "metadata": {},
   "outputs": [],
   "source": []
  },
  {
   "cell_type": "markdown",
   "id": "c5062b0e-2112-45d3-b2d1-d653d581d637",
   "metadata": {},
   "source": [
    "# **Conditionals**"
   ]
  },
  {
   "cell_type": "markdown",
   "id": "c455834f-5c47-42c4-aaaa-e18580f70f2c",
   "metadata": {},
   "source": [
    "## Overview\n",
    "### Questions\n",
    "- Correctly write programs that use if and else statements and simple Boolean expressions (without logical operators).\n",
    "- Trace the execution of unnested conditionals and conditionals inside loops.\n",
    "\n",
    "<hr>\n",
    "\n",
    "### Objectives\n",
    "- How can programs do different things for different data?"
   ]
  },
  {
   "cell_type": "markdown",
   "id": "aa974b27-2264-41c7-a2ef-70dbc420807d",
   "metadata": {},
   "source": [
    "## Use `if` statements to control whether or not a block of code is executed.\n",
    "\n",
    "- An `if` statement (more properly called a *conditional* statement)\n",
    "  controls whether some block of code is executed or not.\n",
    "- Structure is similar to a `for` statement:\n",
    "  - First line opens with `if` and ends with a colon\n",
    "  - Body containing one or more statements is indented (usually by 4 spaces)"
   ]
  },
  {
   "cell_type": "code",
   "execution_count": null,
   "id": "cff8526a-52a2-45a6-ba03-ee86980c9fd7",
   "metadata": {},
   "outputs": [],
   "source": []
  },
  {
   "cell_type": "markdown",
   "id": "355facba-0bff-4ab6-9149-40a81ec2f331",
   "metadata": {},
   "source": [
    "## Conditionals are often used inside loops.\n",
    "\n",
    "- Not much point using a conditional when we know the value (as above).\n",
    "- But useful when we have a collection to process."
   ]
  },
  {
   "cell_type": "code",
   "execution_count": null,
   "id": "e36fadd7-d43f-4c6f-848b-716231f2e957",
   "metadata": {},
   "outputs": [],
   "source": []
  },
  {
   "cell_type": "markdown",
   "id": "cc687ec1-3dab-45b7-933f-314b457ea103",
   "metadata": {},
   "source": [
    "## Use `else` to execute a block of code when an `if` condition is *not* true.\n",
    "\n",
    "- `else` can be used following an `if`.\n",
    "- Allows us to specify an alternative to execute when the `if` *branch* isn't taken."
   ]
  },
  {
   "cell_type": "code",
   "execution_count": null,
   "id": "6217cce6-12e2-4176-9b73-a3a42ff6a5cd",
   "metadata": {},
   "outputs": [],
   "source": []
  },
  {
   "cell_type": "markdown",
   "id": "0682a1a4-b7ad-45ab-8ffd-0ff5fa4b32f3",
   "metadata": {},
   "source": [
    "## Use `elif` to specify additional tests.\n",
    "\n",
    "- May want to provide several alternative choices, each with its own test.\n",
    "- Use `elif` (short for \"else if\") and a condition to specify these.\n",
    "- Always associated with an `if`.\n",
    "- Must come before the `else` (which is the \"catch all\")."
   ]
  },
  {
   "cell_type": "code",
   "execution_count": null,
   "id": "9bd93fe2-be44-4dc2-bde7-965f8584ac9c",
   "metadata": {},
   "outputs": [],
   "source": []
  },
  {
   "cell_type": "markdown",
   "id": "8ee584f0-052b-409f-a897-3231443038d9",
   "metadata": {},
   "source": [
    "## Conditions are tested once, in order.\n",
    "\n",
    "- Python steps through the branches of the conditional in order, testing each in turn.\n",
    "- So ordering matters.\n",
    "- Does *not* automatically go back and re-evaluate if values change.\n",
    "- Often use conditionals in a loop to \"evolve\" the values of variables."
   ]
  },
  {
   "cell_type": "code",
   "execution_count": null,
   "id": "6604bee8-c119-4f48-80cc-c5d089f4a160",
   "metadata": {},
   "outputs": [],
   "source": []
  },
  {
   "cell_type": "markdown",
   "id": "7f418a5d-11ff-4ee8-81f8-b15c866ca8fa",
   "metadata": {},
   "source": [
    "## Create a table showing variables' values to trace a program's execution.\n",
    "\n",
    "<table>\n",
    "  <tr>   <td><strong>i</strong></td>   <td>0</td>   <td>.</td>   <td>1</td>   <td>.</td>   <td>2</td>   <td>.</td>   <td>3</td>   <td>.</td>   <td>4</td>   <td>.</td>\n",
    "  </tr>\n",
    "  <tr>   <td><strong>velocity</strong></td>   <td>10.0</td>   <td>20.0</td>   <td>.</td>   <td>30.0</td>   <td>.</td>   <td>25.0</td>   <td>.</td>   <td>20.0</td>   <td>.</td>   <td>30.0</td>\n",
    "  </tr>\n",
    "</table>\n",
    "\n",
    "- The program must have a `print` statement *outside* the body of the loop\n",
    "  to show the final value of `velocity`,\n",
    "  since its value is updated by the last iteration of the loop."
   ]
  },
  {
   "cell_type": "code",
   "execution_count": null,
   "id": "8b9497f2-e3b3-4431-946a-af84991d8b3f",
   "metadata": {},
   "outputs": [],
   "source": []
  },
  {
   "cell_type": "markdown",
   "id": "d96ac595-a159-46fd-871b-3f60c50c922a",
   "metadata": {},
   "source": [
    "# **Looping Over Data Sets**"
   ]
  },
  {
   "cell_type": "markdown",
   "id": "5450b481-8bba-4fcf-a309-859b822329b7",
   "metadata": {},
   "source": [
    "## Overview\n",
    "### Questions\n",
    "- Be able to read and write globbing expressions that match sets of files.\n",
    "- Use glob to create lists of files.\n",
    "- Write for loops to perform operations on files given their names in a list.\n",
    "\n",
    "<hr>\n",
    "\n",
    "### Objectives\n",
    "- How can I process many data sets with a single command?"
   ]
  },
  {
   "cell_type": "markdown",
   "id": "b2070248-8053-4029-8248-82293bd859d6",
   "metadata": {},
   "source": [
    "## Use a `for` loop to process files given a list of their names.\n",
    "\n",
    "- A filename is a character string.\n",
    "- And lists can contain character strings."
   ]
  },
  {
   "cell_type": "code",
   "execution_count": null,
   "id": "06fab352-98de-4017-b5a5-074a65369930",
   "metadata": {},
   "outputs": [],
   "source": []
  },
  {
   "cell_type": "markdown",
   "id": "56a587a3-3679-42cd-baa3-fd0df0b7a8dc",
   "metadata": {},
   "source": [
    "## Use [`glob.glob`](https://docs.python.org/3/library/glob.html#glob.glob) to find sets of files whose names match a pattern.\n",
    "\n",
    "- In Unix, the term \"globbing\" means \"matching a set of files with a pattern\".\n",
    "- The most common patterns are:\n",
    "  - `*` meaning \"match zero or more characters\"\n",
    "  - `?` meaning \"match exactly one character\"\n",
    "- Python's standard library contains the [`glob`](https://docs.python.org/3/library/glob.html) module to provide pattern matching functionality\n",
    "- The [`glob`](https://docs.python.org/3/library/glob.html) module contains a function also called `glob` to match file patterns\n",
    "- E.g., `glob.glob('*.txt')` matches all files in the current directory\n",
    "  whose names end with `.txt`.\n",
    "- Result is a (possibly empty) list of character strings."
   ]
  },
  {
   "cell_type": "code",
   "execution_count": null,
   "id": "dfcfea3f-a2d6-489e-86ac-8512c4fd5fcd",
   "metadata": {},
   "outputs": [],
   "source": []
  },
  {
   "cell_type": "markdown",
   "id": "1c390e27-aa50-4a8b-9ee6-d2b0f56d98a7",
   "metadata": {},
   "source": [
    "## Use `glob` and `for` to process batches of files.\n",
    "\n",
    "- Helps a lot if the files are named and stored systematically and consistently\n",
    "  so that simple patterns will find the right data."
   ]
  },
  {
   "cell_type": "code",
   "execution_count": null,
   "id": "6c6c1fc3-eebc-445b-8d6a-0451cbde566a",
   "metadata": {},
   "outputs": [],
   "source": []
  },
  {
   "cell_type": "markdown",
   "id": "561f68d0-7e15-4cf4-9c90-db9c3a73d350",
   "metadata": {},
   "source": [
    "# **Writing Functions**"
   ]
  },
  {
   "cell_type": "markdown",
   "id": "905c5499-d3cf-4031-8e7c-36a5f91c6a05",
   "metadata": {},
   "source": [
    "## Overview\n",
    "### Questions\n",
    "- Explain and identify the difference between function definition and function call.\n",
    "- Write a function that takes a small, fixed number of arguments and produces a single result.\n",
    "\n",
    "<hr>\n",
    "\n",
    "### Objectives\n",
    "- How can I create my own functions?"
   ]
  },
  {
   "cell_type": "markdown",
   "id": "b572929c-224c-4181-83bc-0bbabf999d7d",
   "metadata": {},
   "source": [
    "## Break programs down into functions to make them easier to understand.\n",
    "\n",
    "- Human beings can only keep a few items in working memory at a time.\n",
    "- Understand larger/more complicated ideas by understanding and combining pieces.\n",
    "  - Components in a machine.\n",
    "  - Lemmas when proving theorems.\n",
    "- Functions serve the same purpose in programs.\n",
    "  - *Encapsulate* complexity so that we can treat it as a single \"thing\".\n",
    "- Also enables *re-use*.\n",
    "  - Write one time, use many times."
   ]
  },
  {
   "cell_type": "code",
   "execution_count": null,
   "id": "c11a7759-9dc9-4a55-a7f9-49566fd12000",
   "metadata": {},
   "outputs": [],
   "source": []
  },
  {
   "cell_type": "markdown",
   "id": "e0590b96-1891-4791-ab1b-3af0c65466a9",
   "metadata": {},
   "source": [
    "## Define a function using `def` with a name, parameters, and a block of code.\n",
    "\n",
    "- Begin the definition of a new function with `def`.\n",
    "- Followed by the name of the function.\n",
    "  - Must obey the same rules as variable names.\n",
    "- Then *parameters* in parentheses.\n",
    "  - Empty parentheses if the function doesn't take any inputs.\n",
    "  - We will discuss this in detail in a moment.\n",
    "- Then a colon.\n",
    "- Then an indented block of code."
   ]
  },
  {
   "cell_type": "code",
   "execution_count": null,
   "id": "2b05db0f-980f-4125-9751-485f907392e8",
   "metadata": {},
   "outputs": [],
   "source": []
  },
  {
   "cell_type": "markdown",
   "id": "7e6a3cd0-f23d-4d3c-92d5-7bf61063ad1c",
   "metadata": {},
   "source": [
    "## Defining a function does not run it.\n",
    "\n",
    "- Defining a function does not run it.\n",
    "  - Like assigning a value to a variable.\n",
    "- Must call the function to execute the code it contains."
   ]
  },
  {
   "cell_type": "code",
   "execution_count": null,
   "id": "2bc33744-10ff-4ccf-afd6-bd4158e9bdc0",
   "metadata": {},
   "outputs": [],
   "source": []
  },
  {
   "cell_type": "markdown",
   "id": "e2f38435-77ba-4c0b-b687-58683fb95f25",
   "metadata": {},
   "source": [
    "## Arguments in a function call are matched to its defined parameters.\n",
    "\n",
    "- Functions are most useful when they can operate on different data.\n",
    "- Specify *parameters* when defining a function.\n",
    "  - These become variables when the function is executed.\n",
    "  - Are assigned the arguments in the call (i.e., the values passed to the function).\n",
    "  - If you don't name the arguments when using them in the call, the arguments will be matched to\n",
    "    parameters in the order the parameters are defined in the function."
   ]
  },
  {
   "cell_type": "code",
   "execution_count": null,
   "id": "3a23a267-7c0a-49fe-aac4-aef5e14cd127",
   "metadata": {},
   "outputs": [],
   "source": []
  },
  {
   "cell_type": "markdown",
   "id": "47c64fd8-724d-4b17-ac1b-53f2ecbeb755",
   "metadata": {},
   "source": [
    "## Functions may return a result to their caller using `return`.\n",
    "\n",
    "- Use `return ...` to give a value back to the caller.\n",
    "- May occur anywhere in the function.\n",
    "- But functions are easier to understand if `return` occurs:\n",
    "  - At the start to handle special cases.\n",
    "  - At the very end, with a final result."
   ]
  },
  {
   "cell_type": "code",
   "execution_count": null,
   "id": "e7367ddb-c190-4e92-ad8c-e32c2558bda0",
   "metadata": {},
   "outputs": [],
   "source": []
  },
  {
   "cell_type": "markdown",
   "id": "cdccd492-3f03-40f1-87b5-c5348560f35f",
   "metadata": {},
   "source": [
    "# **Variable Scope**"
   ]
  },
  {
   "cell_type": "markdown",
   "id": "cc925639-1ebb-4358-8970-17d326cd02e0",
   "metadata": {},
   "source": [
    "## Overview\n",
    "### Questions\n",
    "- Identify local and global variables.\n",
    "- Identify parameters as local variables.\n",
    "- Read a traceback and determine the file, function, and line number on which the error occurred, the type of error, and the error message.\n",
    "\n",
    "<hr>\n",
    "\n",
    "### Objectives\n",
    "- How do function calls actually work?\n",
    "- How can I determine where errors occurred?"
   ]
  },
  {
   "cell_type": "markdown",
   "id": "6cd36e22-ba06-4948-b684-31d83da49072",
   "metadata": {},
   "source": [
    "## The scope of a variable is the part of a program that can 'see' that variable.\n",
    "\n",
    "- There are only so many sensible names for variables.\n",
    "- People using functions shouldn't have to worry about\n",
    "  what variable names the author of the function used.\n",
    "- People writing functions shouldn't have to worry about\n",
    "  what variable names the function's caller uses.\n",
    "- The part of a program in which a variable is visible is called its *scope*."
   ]
  },
  {
   "cell_type": "code",
   "execution_count": null,
   "id": "e1cc38f1-3b7d-4455-aeba-2294820f2bc4",
   "metadata": {},
   "outputs": [],
   "source": []
  },
  {
   "cell_type": "markdown",
   "id": "f703b4bc-c4b3-41ad-bc64-be31eaf6297a",
   "metadata": {},
   "source": [
    "# **Programming Style**"
   ]
  },
  {
   "cell_type": "markdown",
   "id": "87386a08-e861-4716-90f3-7fe3e916da29",
   "metadata": {},
   "source": [
    "## Overview\n",
    "### Questions\n",
    "- Provide sound justifications for basic rules of coding style.\n",
    "- Refactor one-page programs to make them more readable and justify the changes.\n",
    "- Use Python community coding standards (PEP-8).\n",
    "\n",
    "<hr>\n",
    "\n",
    "### Objectives\n",
    "- How can I make my programs more readable?\n",
    "- How do most programmers format their code?\n",
    "- How can programs check their own operation?"
   ]
  },
  {
   "cell_type": "markdown",
   "id": "7fc7125b-0af1-4c78-a0b3-417a0f1dd09a",
   "metadata": {},
   "source": [
    "## Coding style\n",
    "\n",
    "A consistent coding style helps others (including our future selves) read and understand code more easily. Code is read much more often than it is written, and as the [Zen of Python](https://www.python.org/dev/peps/pep-0020) states, \"Readability counts\".\n",
    "Python proposed a standard style through one of its first Python Enhancement Proposals (PEP), [PEP8](https://www.python.org/dev/peps/pep-0008).\n",
    "\n",
    "Some points worth highlighting:\n",
    "\n",
    "- document your code and ensure that assumptions, internal algorithms, expected inputs, expected outputs, etc., are clear\n",
    "- use clear, semantically meaningful variable names\n",
    "- use white-space, *not* tabs, to indent lines (tabs can cause problems across different text editors, operating systems, and version control systems)\n"
   ]
  },
  {
   "cell_type": "markdown",
   "id": "2c07dfa2-495e-4e18-a198-f973a4715cdc",
   "metadata": {},
   "source": [
    "## Follow standard Python style in your code.\n",
    "\n",
    "- [PEP8](https://www.python.org/dev/peps/pep-0008):\n",
    "  a style guide for Python that discusses topics such as how to name variables,\n",
    "  how to indent your code,\n",
    "  how to structure your `import` statements,\n",
    "  etc.\n",
    "  Adhering to PEP8 makes it easier for other Python developers to read and understand your code, and to understand what their contributions should look like.\n",
    "- To check your code for compliance with PEP8, you can use the [pycodestyle application](https://pypi.org/project/pycodestyle/) and tools like the [black code formatter](https://github.com/psf/black) can automatically format your code to conform to PEP8 and pycodestyle (a Jupyter notebook formatter also exists [nb\\_black](https://github.com/dnanhkhoa/nb_black)).\n",
    "- Some groups and organizations follow different style guidelines besides PEP8. For example, the [Google style guide on Python](https://google.github.io/styleguide/pyguide.html) makes slightly different recommendations. Google wrote an application that can help you format your code in either their style or PEP8 called [yapf](https://github.com/google/yapf/).\n",
    "- With respect to coding style, the key is *consistency*. Choose a style for your project be it PEP8, the Google style, or something else and do your best to ensure that you and anyone else you are collaborating with sticks to it. Consistency within a project is often more impactful than the particular style used. A consistent style will make your software easier to read and understand for others and for your future self.\n"
   ]
  },
  {
   "cell_type": "markdown",
   "id": "88d52545-c852-4da4-9d35-dd2809126f6a",
   "metadata": {},
   "source": [
    "## Use assertions to check for internal errors.\n",
    "\n",
    "Assertions are a simple but powerful method for making sure that the context in which your code is executing is as you expect.\n"
   ]
  },
  {
   "cell_type": "markdown",
   "id": "39b19460-acb9-4269-8c70-c2e206fe543b",
   "metadata": {},
   "source": [
    "## Use docstrings to provide builtin help.\n",
    "\n",
    "If the first thing in a function is a character string that is not assigned directly to a variable, Python attaches it to the function, accessible via the builtin help function. This string that provides documentation is also known as a *docstring*.\n"
   ]
  },
  {
   "cell_type": "markdown",
   "id": "5ff588c6-dfb9-4b12-89e9-4acd946432d8",
   "metadata": {},
   "source": [
    "# **Wrap-Up**"
   ]
  },
  {
   "cell_type": "markdown",
   "id": "dbfd119f-616b-493a-aa62-b8ac9fc3c436",
   "metadata": {},
   "source": [
    "## Python supports a large and diverse community across academia and industry.\n",
    "\n",
    "- The [Python 3 documentation](https://docs.python.org/3/) covers the core language\n",
    "  and the standard library.\n",
    "\n",
    "- [PyCon](https://pycon.org/) is the largest annual conference for the Python community.\n",
    "\n",
    "- [SciPy](https://scipy.org) is a rich collection of scientific utilities.\n",
    "  It is also the name of [a series of annual conferences](https://conference.scipy.org/).\n",
    "\n",
    "- [Jupyter](https://jupyter.org) is the home of Project Jupyter.\n",
    "\n",
    "- [Pandas](https://pandas.pydata.org) is the home of the Pandas data library.\n",
    "\n",
    "- Stack Overflow's [general Python section](https://stackoverflow.com/questions/tagged/python?tab=Votes)\n",
    "  can be helpful,\n",
    "  as well as the sections on [NumPy](https://stackoverflow.com/questions/tagged/numpy?tab=Votes),\n",
    "  [SciPy](https://stackoverflow.com/questions/tagged/scipy?tab=Votes), and\n",
    "  [Pandas](https://stackoverflow.com/questions/tagged/pandas?tab=Votes)."
   ]
  }
 ],
 "metadata": {
  "kernelspec": {
   "display_name": "Python 3 (ipykernel)",
   "language": "python",
   "name": "python3"
  },
  "language_info": {
   "codemirror_mode": {
    "name": "ipython",
    "version": 3
   },
   "file_extension": ".py",
   "mimetype": "text/x-python",
   "name": "python",
   "nbconvert_exporter": "python",
   "pygments_lexer": "ipython3",
   "version": "3.11.9"
  }
 },
 "nbformat": 4,
 "nbformat_minor": 5
}
